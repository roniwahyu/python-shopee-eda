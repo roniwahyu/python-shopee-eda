{
 "cells": [
  {
   "cell_type": "code",
   "execution_count": 1,
   "metadata": {},
   "outputs": [
    {
     "name": "stdout",
     "output_type": "stream",
     "text": [
      "dress\n",
      "red\n"
     ]
    }
   ],
   "source": [
    "data = ['dress', 'red']\n",
    "apparel, color = data\n",
    "print(apparel)\n",
    "print(color)"
   ]
  },
  {
   "cell_type": "code",
   "execution_count": 2,
   "metadata": {},
   "outputs": [
    {
     "name": "stdout",
     "output_type": "stream",
     "text": [
      "{'name': 'Dicoding', 'age': 20, 'isMarried': False}\n"
     ]
    }
   ],
   "source": [
    "x = { 'name': 'Coding', 'age': 20, 'isMarried': False }\n",
    "x ['name'] = \"Dicoding\"\n",
    "print(x)"
   ]
  },
  {
   "cell_type": "code",
   "execution_count": 3,
   "metadata": {},
   "outputs": [
    {
     "ename": "TypeError",
     "evalue": "'tuple' object does not support item assignment",
     "output_type": "error",
     "traceback": [
      "\u001b[1;31m---------------------------------------------------------------------------\u001b[0m",
      "\u001b[1;31mTypeError\u001b[0m                                 Traceback (most recent call last)",
      "\u001b[1;32me:\\!!PYTHON2023\\github-python-shopee\\ujicoba.ipynb Cell 3\u001b[0m line \u001b[0;36m2\n\u001b[0;32m      <a href='vscode-notebook-cell:/e%3A/%21%21PYTHON2023/github-python-shopee/ujicoba.ipynb#W2sZmlsZQ%3D%3D?line=0'>1</a>\u001b[0m x \u001b[39m=\u001b[39m (\u001b[39m5\u001b[39m, \u001b[39m'\u001b[39m\u001b[39mprogram\u001b[39m\u001b[39m'\u001b[39m, \u001b[39m1\u001b[39m\u001b[39m+\u001b[39m\u001b[39m3\u001b[39mj)\n\u001b[1;32m----> <a href='vscode-notebook-cell:/e%3A/%21%21PYTHON2023/github-python-shopee/ujicoba.ipynb#W2sZmlsZQ%3D%3D?line=1'>2</a>\u001b[0m x[\u001b[39m1\u001b[39;49m] \u001b[39m=\u001b[39m \u001b[39m'\u001b[39m\u001b[39mDicoding\u001b[39m\u001b[39m'\u001b[39m\n\u001b[0;32m      <a href='vscode-notebook-cell:/e%3A/%21%21PYTHON2023/github-python-shopee/ujicoba.ipynb#W2sZmlsZQ%3D%3D?line=2'>3</a>\u001b[0m \u001b[39mprint\u001b[39m(x)\n",
      "\u001b[1;31mTypeError\u001b[0m: 'tuple' object does not support item assignment"
     ]
    }
   ],
   "source": [
    "x = (5, 'program', 1+3j)\n",
    "x[1] = 'Dicoding'\n",
    "print(x)"
   ]
  },
  {
   "cell_type": "code",
   "execution_count": 4,
   "metadata": {},
   "outputs": [
    {
     "name": "stdout",
     "output_type": "stream",
     "text": [
      "['Indonesia', 2.2, 'Dicoding']\n"
     ]
    }
   ],
   "source": [
    "x = [1, 2.2, 'Dicoding']\n",
    "x[0] = 'Indonesia'\n",
    "print(x)"
   ]
  },
  {
   "cell_type": "code",
   "execution_count": 5,
   "metadata": {},
   "outputs": [
    {
     "name": "stdout",
     "output_type": "stream",
     "text": [
      "False\n"
     ]
    }
   ],
   "source": [
    "x = \"Belajar\" \n",
    "y = \"Python\" \n",
    "result = x > y \n",
    "print(result) "
   ]
  },
  {
   "cell_type": "code",
   "execution_count": 6,
   "metadata": {},
   "outputs": [
    {
     "name": "stdout",
     "output_type": "stream",
     "text": [
      "False\n"
     ]
    }
   ],
   "source": [
    "x = 10 \n",
    "y = 999 \n",
    "result = x > y \n",
    "print(result) "
   ]
  },
  {
   "cell_type": "code",
   "execution_count": 7,
   "metadata": {},
   "outputs": [
    {
     "name": "stdout",
     "output_type": "stream",
     "text": [
      "Dicoding\n",
      "Indonesia\n"
     ]
    },
    {
     "ename": "NameError",
     "evalue": "name 'VARIABEL_PERTAMA' is not defined",
     "output_type": "error",
     "traceback": [
      "\u001b[1;31m---------------------------------------------------------------------------\u001b[0m",
      "\u001b[1;31mNameError\u001b[0m                                 Traceback (most recent call last)",
      "\u001b[1;32me:\\!!PYTHON2023\\github-python-shopee\\ujicoba.ipynb Cell 7\u001b[0m line \u001b[0;36m6\n\u001b[0;32m      <a href='vscode-notebook-cell:/e%3A/%21%21PYTHON2023/github-python-shopee/ujicoba.ipynb#W6sZmlsZQ%3D%3D?line=3'>4</a>\u001b[0m \u001b[39mprint\u001b[39m(variabel_pertama)\n\u001b[0;32m      <a href='vscode-notebook-cell:/e%3A/%21%21PYTHON2023/github-python-shopee/ujicoba.ipynb#W6sZmlsZQ%3D%3D?line=4'>5</a>\u001b[0m \u001b[39mprint\u001b[39m(VariAbel_Pertama)\n\u001b[1;32m----> <a href='vscode-notebook-cell:/e%3A/%21%21PYTHON2023/github-python-shopee/ujicoba.ipynb#W6sZmlsZQ%3D%3D?line=5'>6</a>\u001b[0m \u001b[39mprint\u001b[39m(VARIABEL_PERTAMA)\n",
      "\u001b[1;31mNameError\u001b[0m: name 'VARIABEL_PERTAMA' is not defined"
     ]
    }
   ],
   "source": [
    "variabel_pertama = \"Dicoding\"\n",
    "VariAbel_Pertama = \"Indonesia\"\n",
    "\n",
    "print(variabel_pertama)\n",
    "print(VariAbel_Pertama)\n",
    "print(VARIABEL_PERTAMA)"
   ]
  },
  {
   "cell_type": "code",
   "execution_count": 8,
   "metadata": {},
   "outputs": [
    {
     "name": "stdout",
     "output_type": "stream",
     "text": [
      "Nilai yang dimasukkan tidak boleh lebih besar dari 10\n"
     ]
    }
   ],
   "source": [
    "i = 11 \n",
    "if i<10:    \n",
    "    print(i) \n",
    "else:    \n",
    "    print(\"Nilai yang dimasukkan tidak boleh lebih besar dari 10\") "
   ]
  },
  {
   "cell_type": "code",
   "execution_count": 9,
   "metadata": {},
   "outputs": [
    {
     "name": "stdout",
     "output_type": "stream",
     "text": [
      "Rata-rata: 50.0\n"
     ]
    }
   ],
   "source": [
    "# Jangan ubah kode ini\n",
    "var_array = [i for i in range(101)]\n",
    "\n",
    "# Inisialisasi variabel jumlah dan hitung\n",
    "jumlah = 0\n",
    "hitung = 0\n",
    "\n",
    "# Loop untuk menjumlahkan elemen-elemen dalam var_array\n",
    "for elemen in var_array:\n",
    "    jumlah += elemen\n",
    "    hitung += 1\n",
    "\n",
    "# Hitung rata-rata\n",
    "if hitung > 0:\n",
    "    result = jumlah / hitung\n",
    "else:\n",
    "    result = 0  # Hindari pembagian oleh nol jika array kosong\n",
    "\n",
    "# Cetak hasil\n",
    "print(\"Rata-rata:\", result)"
   ]
  }
 ],
 "metadata": {
  "kernelspec": {
   "display_name": "Python 3",
   "language": "python",
   "name": "python3"
  },
  "language_info": {
   "codemirror_mode": {
    "name": "ipython",
    "version": 3
   },
   "file_extension": ".py",
   "mimetype": "text/x-python",
   "name": "python",
   "nbconvert_exporter": "python",
   "pygments_lexer": "ipython3",
   "version": "3.11.5"
  },
  "orig_nbformat": 4
 },
 "nbformat": 4,
 "nbformat_minor": 2
}

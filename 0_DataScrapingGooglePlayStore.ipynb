{
 "cells": [
  {
   "cell_type": "code",
   "execution_count": 1,
   "metadata": {
    "metadata": {}
   },
   "outputs": [
    {
     "name": "stdout",
     "output_type": "stream",
     "text": [
      "Python implementation: CPython\n",
      "Python version       : 3.12.3\n",
      "IPython version      : 8.23.0\n",
      "\n",
      "pandas             : 2.2.2\n",
      "matplotlib         : 3.9.0\n",
      "seaborn            : 0.13.2\n",
      "google_play_scraper: 1.2.6\n",
      "\n"
     ]
    }
   ],
   "source": [
    "%reload_ext watermark\n",
    "%watermark -v -p pandas,matplotlib,seaborn,google_play_scraper"
   ]
  },
  {
   "cell_type": "code",
   "execution_count": 2,
   "metadata": {
    "metadata": {}
   },
   "outputs": [],
   "source": [
    "#!pip install google_play_scraper"
   ]
  },
  {
   "cell_type": "code",
   "execution_count": 3,
   "metadata": {
    "metadata": {}
   },
   "outputs": [],
   "source": [
    "import json\n",
    "import pandas as pd\n",
    "from tqdm import tqdm\n",
    "\n",
    "import seaborn as sns\n",
    "import matplotlib.pyplot as plt\n",
    "import numpy as np\n",
    "\n",
    "from pygments import highlight\n",
    "from pygments.lexers import JsonLexer\n",
    "from pygments.formatters import TerminalFormatter\n",
    "\n",
    "from google_play_scraper import Sort, reviews, app\n",
    "\n",
    "%matplotlib inline\n",
    "%config InlineBackend.figure_format='retina'\n",
    "\n",
    "sns.set(style='whitegrid', palette='muted', font_scale=1.2)"
   ]
  },
  {
   "cell_type": "code",
   "execution_count": 4,
   "metadata": {
    "metadata": {}
   },
   "outputs": [],
   "source": [
    "app_packages = [\n",
    "  'com.alloapp.yump',\n",
    "  'com.jago.digitalBanking',\n",
    "  'com.senyumkubank.rekeningonline',\n",
    "  'id.aladinbank.mobile',\n",
    "  'id.co.bankbkemobile.digitalbank',\n",
    "  'com.btpn.dc',\n",
    "  'com.bcadigital.blu'\n",
    "#   'com.supercell.brawlstars',\n",
    "#   'jp.pokemon.pokemonunite',\n",
    "]"
   ]
  },
  {
   "cell_type": "code",
   "execution_count": 5,
   "metadata": {
    "metadata": {}
   },
   "outputs": [
    {
     "name": "stderr",
     "output_type": "stream",
     "text": [
      "  0%|          | 0/7 [00:00<?, ?it/s]"
     ]
    },
    {
     "name": "stderr",
     "output_type": "stream",
     "text": [
      "100%|██████████| 7/7 [00:14<00:00,  2.01s/it]\n"
     ]
    }
   ],
   "source": [
    "app_infos = []\n",
    "\n",
    "for ap in tqdm(app_packages):\n",
    "  info = app(ap, lang='id', country='id')\n",
    " # del info['comments']\n",
    "  app_infos.append(info)"
   ]
  },
  {
   "cell_type": "code",
   "execution_count": 6,
   "metadata": {},
   "outputs": [],
   "source": [
    "df=pd.DataFrame(app_infos)"
   ]
  },
  {
   "cell_type": "code",
   "execution_count": 7,
   "metadata": {
    "metadata": {}
   },
   "outputs": [
    {
     "data": {
      "text/html": [
       "<div>\n",
       "<style scoped>\n",
       "    .dataframe tbody tr th:only-of-type {\n",
       "        vertical-align: middle;\n",
       "    }\n",
       "\n",
       "    .dataframe tbody tr th {\n",
       "        vertical-align: top;\n",
       "    }\n",
       "\n",
       "    .dataframe thead th {\n",
       "        text-align: right;\n",
       "    }\n",
       "</style>\n",
       "<table border=\"1\" class=\"dataframe\">\n",
       "  <thead>\n",
       "    <tr style=\"text-align: right;\">\n",
       "      <th></th>\n",
       "      <th>title</th>\n",
       "      <th>description</th>\n",
       "      <th>descriptionHTML</th>\n",
       "      <th>summary</th>\n",
       "      <th>installs</th>\n",
       "      <th>minInstalls</th>\n",
       "      <th>realInstalls</th>\n",
       "      <th>score</th>\n",
       "      <th>ratings</th>\n",
       "      <th>reviews</th>\n",
       "      <th>...</th>\n",
       "      <th>contentRatingDescription</th>\n",
       "      <th>adSupported</th>\n",
       "      <th>containsAds</th>\n",
       "      <th>released</th>\n",
       "      <th>lastUpdatedOn</th>\n",
       "      <th>updated</th>\n",
       "      <th>version</th>\n",
       "      <th>comments</th>\n",
       "      <th>appId</th>\n",
       "      <th>url</th>\n",
       "    </tr>\n",
       "  </thead>\n",
       "  <tbody>\n",
       "    <tr>\n",
       "      <th>0</th>\n",
       "      <td>Allo Bank</td>\n",
       "      <td>Hi, kini Allo Bank untuk Android hadir!\\r\\n\\r\\...</td>\n",
       "      <td>Hi, kini Allo Bank untuk Android hadir!&lt;br&gt;&lt;br...</td>\n",
       "      <td>Allo Bank, perbankan digital baru yang akan me...</td>\n",
       "      <td>5.000.000+</td>\n",
       "      <td>5000000</td>\n",
       "      <td>8155392</td>\n",
       "      <td>4.125938</td>\n",
       "      <td>42669</td>\n",
       "      <td>26594</td>\n",
       "      <td>...</td>\n",
       "      <td>None</td>\n",
       "      <td>False</td>\n",
       "      <td>False</td>\n",
       "      <td>14 Mar 2022</td>\n",
       "      <td>3 Sep 2024</td>\n",
       "      <td>1725432274</td>\n",
       "      <td>1.43.31</td>\n",
       "      <td>[]</td>\n",
       "      <td>com.alloapp.yump</td>\n",
       "      <td>https://play.google.com/store/apps/details?id=...</td>\n",
       "    </tr>\n",
       "    <tr>\n",
       "      <th>1</th>\n",
       "      <td>Jago/Jago Syariah bank digital</td>\n",
       "      <td>Jago/Jago Syariah digital bank adalah aplikasi...</td>\n",
       "      <td>Jago/Jago Syariah digital bank adalah aplikasi...</td>\n",
       "      <td>Nabung, transaksi, bayar QRIS &amp; atur uang sema...</td>\n",
       "      <td>10.000.000+</td>\n",
       "      <td>10000000</td>\n",
       "      <td>11996758</td>\n",
       "      <td>4.543964</td>\n",
       "      <td>169259</td>\n",
       "      <td>55906</td>\n",
       "      <td>...</td>\n",
       "      <td>None</td>\n",
       "      <td>False</td>\n",
       "      <td>False</td>\n",
       "      <td>13 Apr 2021</td>\n",
       "      <td>13 Sep 2024</td>\n",
       "      <td>1726215541</td>\n",
       "      <td>8.50.0</td>\n",
       "      <td>[]</td>\n",
       "      <td>com.jago.digitalBanking</td>\n",
       "      <td>https://play.google.com/store/apps/details?id=...</td>\n",
       "    </tr>\n",
       "    <tr>\n",
       "      <th>2</th>\n",
       "      <td>Amar Bank</td>\n",
       "      <td>Amar Bank merupakan digital bank yang aman, un...</td>\n",
       "      <td>Amar Bank merupakan digital bank yang aman, un...</td>\n",
       "      <td>Main aman dengan Amar! Dengan fitur Brankas, n...</td>\n",
       "      <td>500.000+</td>\n",
       "      <td>500000</td>\n",
       "      <td>739957</td>\n",
       "      <td>4.667869</td>\n",
       "      <td>46937</td>\n",
       "      <td>20825</td>\n",
       "      <td>...</td>\n",
       "      <td>None</td>\n",
       "      <td>False</td>\n",
       "      <td>False</td>\n",
       "      <td>17 Agu 2020</td>\n",
       "      <td>12 Sep 2024</td>\n",
       "      <td>1726136809</td>\n",
       "      <td>2.63.0</td>\n",
       "      <td>[]</td>\n",
       "      <td>com.senyumkubank.rekeningonline</td>\n",
       "      <td>https://play.google.com/store/apps/details?id=...</td>\n",
       "    </tr>\n",
       "    <tr>\n",
       "      <th>3</th>\n",
       "      <td>Aladin : Bank Syariah Digital</td>\n",
       "      <td>Nikmati berbagai kemudahan membuka banyak reke...</td>\n",
       "      <td>Nikmati berbagai kemudahan membuka banyak reke...</td>\n",
       "      <td>Buka tabungan bank digital syariah lewat aplik...</td>\n",
       "      <td>1.000.000+</td>\n",
       "      <td>1000000</td>\n",
       "      <td>4863374</td>\n",
       "      <td>4.292722</td>\n",
       "      <td>38076</td>\n",
       "      <td>29445</td>\n",
       "      <td>...</td>\n",
       "      <td>None</td>\n",
       "      <td>False</td>\n",
       "      <td>False</td>\n",
       "      <td>18 Jan 2022</td>\n",
       "      <td>10 Sep 2024</td>\n",
       "      <td>1725965966</td>\n",
       "      <td>1.52.0</td>\n",
       "      <td>[]</td>\n",
       "      <td>id.aladinbank.mobile</td>\n",
       "      <td>https://play.google.com/store/apps/details?id=...</td>\n",
       "    </tr>\n",
       "    <tr>\n",
       "      <th>4</th>\n",
       "      <td>SeaBank</td>\n",
       "      <td>Lebih Untung di SeaBank!\\r\\nBuka rekening SeaB...</td>\n",
       "      <td>Lebih Untung di SeaBank!&lt;br&gt;Buka rekening SeaB...</td>\n",
       "      <td>Aplikasi perbankan digital untuk lakukan aktiv...</td>\n",
       "      <td>10.000.000+</td>\n",
       "      <td>10000000</td>\n",
       "      <td>16305552</td>\n",
       "      <td>4.872247</td>\n",
       "      <td>1209543</td>\n",
       "      <td>167195</td>\n",
       "      <td>...</td>\n",
       "      <td>None</td>\n",
       "      <td>False</td>\n",
       "      <td>False</td>\n",
       "      <td>26 Feb 2021</td>\n",
       "      <td>19 Sep 2024</td>\n",
       "      <td>1726798791</td>\n",
       "      <td>3.3.4</td>\n",
       "      <td>[]</td>\n",
       "      <td>id.co.bankbkemobile.digitalbank</td>\n",
       "      <td>https://play.google.com/store/apps/details?id=...</td>\n",
       "    </tr>\n",
       "    <tr>\n",
       "      <th>5</th>\n",
       "      <td>Jenius</td>\n",
       "      <td>Cara mudah atur kehidupan/keuangan dengan apli...</td>\n",
       "      <td>Cara mudah atur kehidupan/keuangan dengan apli...</td>\n",
       "      <td>Cara mudah atur kehidupan/keuangan dengan apli...</td>\n",
       "      <td>10.000.000+</td>\n",
       "      <td>10000000</td>\n",
       "      <td>12010193</td>\n",
       "      <td>3.463636</td>\n",
       "      <td>201430</td>\n",
       "      <td>128633</td>\n",
       "      <td>...</td>\n",
       "      <td>None</td>\n",
       "      <td>False</td>\n",
       "      <td>False</td>\n",
       "      <td>10 Agu 2016</td>\n",
       "      <td>18 Sep 2024</td>\n",
       "      <td>1726727356</td>\n",
       "      <td>4.8.0</td>\n",
       "      <td>[]</td>\n",
       "      <td>com.btpn.dc</td>\n",
       "      <td>https://play.google.com/store/apps/details?id=...</td>\n",
       "    </tr>\n",
       "    <tr>\n",
       "      <th>6</th>\n",
       "      <td>blu by BCA Digital</td>\n",
       "      <td>blu Siap Jadi Pegangan Finansialmu!\\r\\n \\r\\nbl...</td>\n",
       "      <td>blu Siap Jadi Pegangan Finansialmu!&lt;br&gt; &lt;br&gt;bl...</td>\n",
       "      <td>Mulai Langkahmu Buka Rekening, Menabung, Buka ...</td>\n",
       "      <td>1.000.000+</td>\n",
       "      <td>1000000</td>\n",
       "      <td>3405861</td>\n",
       "      <td>4.626622</td>\n",
       "      <td>93780</td>\n",
       "      <td>26172</td>\n",
       "      <td>...</td>\n",
       "      <td>None</td>\n",
       "      <td>False</td>\n",
       "      <td>False</td>\n",
       "      <td>17 Jun 2021</td>\n",
       "      <td>7 Sep 2024</td>\n",
       "      <td>1725721859</td>\n",
       "      <td>1.55.0</td>\n",
       "      <td>[]</td>\n",
       "      <td>com.bcadigital.blu</td>\n",
       "      <td>https://play.google.com/store/apps/details?id=...</td>\n",
       "    </tr>\n",
       "  </tbody>\n",
       "</table>\n",
       "<p>7 rows × 45 columns</p>\n",
       "</div>"
      ],
      "text/plain": [
       "                            title  \\\n",
       "0                       Allo Bank   \n",
       "1  Jago/Jago Syariah bank digital   \n",
       "2                       Amar Bank   \n",
       "3   Aladin : Bank Syariah Digital   \n",
       "4                         SeaBank   \n",
       "5                          Jenius   \n",
       "6              blu by BCA Digital   \n",
       "\n",
       "                                         description  \\\n",
       "0  Hi, kini Allo Bank untuk Android hadir!\\r\\n\\r\\...   \n",
       "1  Jago/Jago Syariah digital bank adalah aplikasi...   \n",
       "2  Amar Bank merupakan digital bank yang aman, un...   \n",
       "3  Nikmati berbagai kemudahan membuka banyak reke...   \n",
       "4  Lebih Untung di SeaBank!\\r\\nBuka rekening SeaB...   \n",
       "5  Cara mudah atur kehidupan/keuangan dengan apli...   \n",
       "6  blu Siap Jadi Pegangan Finansialmu!\\r\\n \\r\\nbl...   \n",
       "\n",
       "                                     descriptionHTML  \\\n",
       "0  Hi, kini Allo Bank untuk Android hadir!<br><br...   \n",
       "1  Jago/Jago Syariah digital bank adalah aplikasi...   \n",
       "2  Amar Bank merupakan digital bank yang aman, un...   \n",
       "3  Nikmati berbagai kemudahan membuka banyak reke...   \n",
       "4  Lebih Untung di SeaBank!<br>Buka rekening SeaB...   \n",
       "5  Cara mudah atur kehidupan/keuangan dengan apli...   \n",
       "6  blu Siap Jadi Pegangan Finansialmu!<br> <br>bl...   \n",
       "\n",
       "                                             summary     installs  \\\n",
       "0  Allo Bank, perbankan digital baru yang akan me...   5.000.000+   \n",
       "1  Nabung, transaksi, bayar QRIS & atur uang sema...  10.000.000+   \n",
       "2  Main aman dengan Amar! Dengan fitur Brankas, n...     500.000+   \n",
       "3  Buka tabungan bank digital syariah lewat aplik...   1.000.000+   \n",
       "4  Aplikasi perbankan digital untuk lakukan aktiv...  10.000.000+   \n",
       "5  Cara mudah atur kehidupan/keuangan dengan apli...  10.000.000+   \n",
       "6  Mulai Langkahmu Buka Rekening, Menabung, Buka ...   1.000.000+   \n",
       "\n",
       "   minInstalls  realInstalls     score  ratings  reviews  ...  \\\n",
       "0      5000000       8155392  4.125938    42669    26594  ...   \n",
       "1     10000000      11996758  4.543964   169259    55906  ...   \n",
       "2       500000        739957  4.667869    46937    20825  ...   \n",
       "3      1000000       4863374  4.292722    38076    29445  ...   \n",
       "4     10000000      16305552  4.872247  1209543   167195  ...   \n",
       "5     10000000      12010193  3.463636   201430   128633  ...   \n",
       "6      1000000       3405861  4.626622    93780    26172  ...   \n",
       "\n",
       "  contentRatingDescription  adSupported  containsAds     released  \\\n",
       "0                     None        False        False  14 Mar 2022   \n",
       "1                     None        False        False  13 Apr 2021   \n",
       "2                     None        False        False  17 Agu 2020   \n",
       "3                     None        False        False  18 Jan 2022   \n",
       "4                     None        False        False  26 Feb 2021   \n",
       "5                     None        False        False  10 Agu 2016   \n",
       "6                     None        False        False  17 Jun 2021   \n",
       "\n",
       "   lastUpdatedOn     updated  version comments  \\\n",
       "0     3 Sep 2024  1725432274  1.43.31       []   \n",
       "1    13 Sep 2024  1726215541   8.50.0       []   \n",
       "2    12 Sep 2024  1726136809   2.63.0       []   \n",
       "3    10 Sep 2024  1725965966   1.52.0       []   \n",
       "4    19 Sep 2024  1726798791    3.3.4       []   \n",
       "5    18 Sep 2024  1726727356    4.8.0       []   \n",
       "6     7 Sep 2024  1725721859   1.55.0       []   \n",
       "\n",
       "                             appId  \\\n",
       "0                 com.alloapp.yump   \n",
       "1          com.jago.digitalBanking   \n",
       "2  com.senyumkubank.rekeningonline   \n",
       "3             id.aladinbank.mobile   \n",
       "4  id.co.bankbkemobile.digitalbank   \n",
       "5                      com.btpn.dc   \n",
       "6               com.bcadigital.blu   \n",
       "\n",
       "                                                 url  \n",
       "0  https://play.google.com/store/apps/details?id=...  \n",
       "1  https://play.google.com/store/apps/details?id=...  \n",
       "2  https://play.google.com/store/apps/details?id=...  \n",
       "3  https://play.google.com/store/apps/details?id=...  \n",
       "4  https://play.google.com/store/apps/details?id=...  \n",
       "5  https://play.google.com/store/apps/details?id=...  \n",
       "6  https://play.google.com/store/apps/details?id=...  \n",
       "\n",
       "[7 rows x 45 columns]"
      ]
     },
     "execution_count": 7,
     "metadata": {},
     "output_type": "execute_result"
    }
   ],
   "source": [
    "df.head(10)"
   ]
  },
  {
   "cell_type": "code",
   "execution_count": 8,
   "metadata": {
    "metadata": {}
   },
   "outputs": [],
   "source": [
    "def print_json(json_object):\n",
    "  json_str = json.dumps(\n",
    "    json_object, \n",
    "    indent=2, \n",
    "    sort_keys=True, \n",
    "    default=str\n",
    "  )\n",
    "  print(highlight(json_str, JsonLexer(), TerminalFormatter()))"
   ]
  },
  {
   "cell_type": "code",
   "execution_count": 9,
   "metadata": {
    "metadata": {}
   },
   "outputs": [
    {
     "name": "stdout",
     "output_type": "stream",
     "text": [
      "{\u001b[37m\u001b[39;49;00m\n",
      "\u001b[37m  \u001b[39;49;00m\u001b[94m\"adSupported\"\u001b[39;49;00m:\u001b[37m \u001b[39;49;00m\u001b[34mfalse\u001b[39;49;00m,\u001b[37m\u001b[39;49;00m\n",
      "\u001b[37m  \u001b[39;49;00m\u001b[94m\"appId\"\u001b[39;49;00m:\u001b[37m \u001b[39;49;00m\u001b[33m\"com.alloapp.yump\"\u001b[39;49;00m,\u001b[37m\u001b[39;49;00m\n",
      "\u001b[37m  \u001b[39;49;00m\u001b[94m\"categories\"\u001b[39;49;00m:\u001b[37m \u001b[39;49;00m[\u001b[37m\u001b[39;49;00m\n",
      "\u001b[37m    \u001b[39;49;00m{\u001b[37m\u001b[39;49;00m\n",
      "\u001b[37m      \u001b[39;49;00m\u001b[94m\"id\"\u001b[39;49;00m:\u001b[37m \u001b[39;49;00m\u001b[33m\"FINANCE\"\u001b[39;49;00m,\u001b[37m\u001b[39;49;00m\n",
      "\u001b[37m      \u001b[39;49;00m\u001b[94m\"name\"\u001b[39;49;00m:\u001b[37m \u001b[39;49;00m\u001b[33m\"Keuangan\"\u001b[39;49;00m\u001b[37m\u001b[39;49;00m\n",
      "\u001b[37m    \u001b[39;49;00m}\u001b[37m\u001b[39;49;00m\n",
      "\u001b[37m  \u001b[39;49;00m],\u001b[37m\u001b[39;49;00m\n",
      "\u001b[37m  \u001b[39;49;00m\u001b[94m\"comments\"\u001b[39;49;00m:\u001b[37m \u001b[39;49;00m[],\u001b[37m\u001b[39;49;00m\n",
      "\u001b[37m  \u001b[39;49;00m\u001b[94m\"containsAds\"\u001b[39;49;00m:\u001b[37m \u001b[39;49;00m\u001b[34mfalse\u001b[39;49;00m,\u001b[37m\u001b[39;49;00m\n",
      "\u001b[37m  \u001b[39;49;00m\u001b[94m\"contentRating\"\u001b[39;49;00m:\u001b[37m \u001b[39;49;00m\u001b[33m\"Rating 3+\"\u001b[39;49;00m,\u001b[37m\u001b[39;49;00m\n",
      "\u001b[37m  \u001b[39;49;00m\u001b[94m\"contentRatingDescription\"\u001b[39;49;00m:\u001b[37m \u001b[39;49;00m\u001b[34mnull\u001b[39;49;00m,\u001b[37m\u001b[39;49;00m\n",
      "\u001b[37m  \u001b[39;49;00m\u001b[94m\"currency\"\u001b[39;49;00m:\u001b[37m \u001b[39;49;00m\u001b[33m\"IDR\"\u001b[39;49;00m,\u001b[37m\u001b[39;49;00m\n",
      "\u001b[37m  \u001b[39;49;00m\u001b[94m\"description\"\u001b[39;49;00m:\u001b[37m \u001b[39;49;00m\u001b[33m\"Hi, kini Allo Bank untuk Android hadir!\\r\\n\\r\\nAplikasi yang melengkapimu! Sebuah Bank Digital dan dompet digital dengan fitur Pay Later dan Instant Cash.\\r\\n\\r\\nPendaftaran yang mudah. Hanya dengan 5 menit untuk mendaftar secara online!\\r\\n\\r\\nBebas biaya admin! Tidak ada biaya admin bulanan, minimum setoran awal, minimum saldo serta gratis biaya transfer ke Bank lain menggunakan fitur BI-FAST.\\r\\n\\r\\nBunga yang menarik, sesuaikan kebutuhanmu dengan produk tabungan atau deposito digital!\\r\\n\\r\\nBuka deposito dengan cepat dan mudah. Real time melalui satu genggaman!\\r\\n\\r\\nTarik tunai tanpa kartu di ATM Bank Mega! Tarik uang tunai dengan mudah dan cepat untuk semua kebutuhan transaksimu.\\r\\n\\r\\nDan dapatkan banyak keuntungan di setiap transaksimu!\\r\\n\\r\\nInfo lebih lanjut\\r\\nAllo Care 080 4110 4110\\r\\nWhatsApp 0822 0822 4110\"\u001b[39;49;00m,\u001b[37m\u001b[39;49;00m\n",
      "\u001b[37m  \u001b[39;49;00m\u001b[94m\"descriptionHTML\"\u001b[39;49;00m:\u001b[37m \u001b[39;49;00m\u001b[33m\"Hi, kini Allo Bank untuk Android hadir!<br><br>Aplikasi yang melengkapimu! Sebuah Bank Digital dan dompet digital dengan fitur Pay Later dan Instant Cash.<br><br>Pendaftaran yang mudah. Hanya dengan 5 menit untuk mendaftar secara online!<br><br>Bebas biaya admin! Tidak ada biaya admin bulanan, minimum setoran awal, minimum saldo serta gratis biaya transfer ke Bank lain menggunakan fitur BI-FAST.<br><br>Bunga yang menarik, sesuaikan kebutuhanmu dengan produk tabungan atau deposito digital!<br><br>Buka deposito dengan cepat dan mudah. Real time melalui satu genggaman!<br><br>Tarik tunai tanpa kartu di ATM Bank Mega! Tarik uang tunai dengan mudah dan cepat untuk semua kebutuhan transaksimu.<br><br>Dan dapatkan banyak keuntungan di setiap transaksimu!<br><br>Info lebih lanjut<br>Allo Care 080 4110 4110<br>WhatsApp 0822 0822 4110\"\u001b[39;49;00m,\u001b[37m\u001b[39;49;00m\n",
      "\u001b[37m  \u001b[39;49;00m\u001b[94m\"developer\"\u001b[39;49;00m:\u001b[37m \u001b[39;49;00m\u001b[33m\"PT. ALLO BANK INDONESIA Tbk\"\u001b[39;49;00m,\u001b[37m\u001b[39;49;00m\n",
      "\u001b[37m  \u001b[39;49;00m\u001b[94m\"developerAddress\"\u001b[39;49;00m:\u001b[37m \u001b[39;49;00m\u001b[33m\"ASEAN Tower Building 3rd Floor, Jl K.H Samanhudi No.10 Jakarta 10710, Indonesia\"\u001b[39;49;00m,\u001b[37m\u001b[39;49;00m\n",
      "\u001b[37m  \u001b[39;49;00m\u001b[94m\"developerEmail\"\u001b[39;49;00m:\u001b[37m \u001b[39;49;00m\u001b[33m\"allocare@allobank.com\"\u001b[39;49;00m,\u001b[37m\u001b[39;49;00m\n",
      "\u001b[37m  \u001b[39;49;00m\u001b[94m\"developerId\"\u001b[39;49;00m:\u001b[37m \u001b[39;49;00m\u001b[33m\"PT.+ALLO+BANK+INDONESIA+Tbk\"\u001b[39;49;00m,\u001b[37m\u001b[39;49;00m\n",
      "\u001b[37m  \u001b[39;49;00m\u001b[94m\"developerWebsite\"\u001b[39;49;00m:\u001b[37m \u001b[39;49;00m\u001b[33m\"https://allobank.com\"\u001b[39;49;00m,\u001b[37m\u001b[39;49;00m\n",
      "\u001b[37m  \u001b[39;49;00m\u001b[94m\"free\"\u001b[39;49;00m:\u001b[37m \u001b[39;49;00m\u001b[34mtrue\u001b[39;49;00m,\u001b[37m\u001b[39;49;00m\n",
      "\u001b[37m  \u001b[39;49;00m\u001b[94m\"genre\"\u001b[39;49;00m:\u001b[37m \u001b[39;49;00m\u001b[33m\"Keuangan\"\u001b[39;49;00m,\u001b[37m\u001b[39;49;00m\n",
      "\u001b[37m  \u001b[39;49;00m\u001b[94m\"genreId\"\u001b[39;49;00m:\u001b[37m \u001b[39;49;00m\u001b[33m\"FINANCE\"\u001b[39;49;00m,\u001b[37m\u001b[39;49;00m\n",
      "\u001b[37m  \u001b[39;49;00m\u001b[94m\"headerImage\"\u001b[39;49;00m:\u001b[37m \u001b[39;49;00m\u001b[33m\"https://play-lh.googleusercontent.com/F-eWhDQuAoDNA-bcjqIMMEX_wkNzM6uz7Zn8BNfW3dHY-qojxn0ssVSLIr_W0FCwtzo\"\u001b[39;49;00m,\u001b[37m\u001b[39;49;00m\n",
      "\u001b[37m  \u001b[39;49;00m\u001b[94m\"histogram\"\u001b[39;49;00m:\u001b[37m \u001b[39;49;00m[\u001b[37m\u001b[39;49;00m\n",
      "\u001b[37m    \u001b[39;49;00m\u001b[34m7484\u001b[39;49;00m,\u001b[37m\u001b[39;49;00m\n",
      "\u001b[37m    \u001b[39;49;00m\u001b[34m1020\u001b[39;49;00m,\u001b[37m\u001b[39;49;00m\n",
      "\u001b[37m    \u001b[39;49;00m\u001b[34m1380\u001b[39;49;00m,\u001b[37m\u001b[39;49;00m\n",
      "\u001b[37m    \u001b[39;49;00m\u001b[34m1530\u001b[39;49;00m,\u001b[37m\u001b[39;49;00m\n",
      "\u001b[37m    \u001b[39;49;00m\u001b[34m31250\u001b[39;49;00m\u001b[37m\u001b[39;49;00m\n",
      "\u001b[37m  \u001b[39;49;00m],\u001b[37m\u001b[39;49;00m\n",
      "\u001b[37m  \u001b[39;49;00m\u001b[94m\"icon\"\u001b[39;49;00m:\u001b[37m \u001b[39;49;00m\u001b[33m\"https://play-lh.googleusercontent.com/0gw4GVJoKuQCDIz8DOXt5fQDEy-RD0BDnQge-BsbnBaBTmXWgqjydABvetmCqTXE1Gm2\"\u001b[39;49;00m,\u001b[37m\u001b[39;49;00m\n",
      "\u001b[37m  \u001b[39;49;00m\u001b[94m\"inAppProductPrice\"\u001b[39;49;00m:\u001b[37m \u001b[39;49;00m\u001b[34mnull\u001b[39;49;00m,\u001b[37m\u001b[39;49;00m\n",
      "\u001b[37m  \u001b[39;49;00m\u001b[94m\"installs\"\u001b[39;49;00m:\u001b[37m \u001b[39;49;00m\u001b[33m\"5.000.000+\"\u001b[39;49;00m,\u001b[37m\u001b[39;49;00m\n",
      "\u001b[37m  \u001b[39;49;00m\u001b[94m\"lastUpdatedOn\"\u001b[39;49;00m:\u001b[37m \u001b[39;49;00m\u001b[33m\"3 Sep 2024\"\u001b[39;49;00m,\u001b[37m\u001b[39;49;00m\n",
      "\u001b[37m  \u001b[39;49;00m\u001b[94m\"minInstalls\"\u001b[39;49;00m:\u001b[37m \u001b[39;49;00m\u001b[34m5000000\u001b[39;49;00m,\u001b[37m\u001b[39;49;00m\n",
      "\u001b[37m  \u001b[39;49;00m\u001b[94m\"offersIAP\"\u001b[39;49;00m:\u001b[37m \u001b[39;49;00m\u001b[34mfalse\u001b[39;49;00m,\u001b[37m\u001b[39;49;00m\n",
      "\u001b[37m  \u001b[39;49;00m\u001b[94m\"originalPrice\"\u001b[39;49;00m:\u001b[37m \u001b[39;49;00m\u001b[34mnull\u001b[39;49;00m,\u001b[37m\u001b[39;49;00m\n",
      "\u001b[37m  \u001b[39;49;00m\u001b[94m\"price\"\u001b[39;49;00m:\u001b[37m \u001b[39;49;00m\u001b[34m0\u001b[39;49;00m,\u001b[37m\u001b[39;49;00m\n",
      "\u001b[37m  \u001b[39;49;00m\u001b[94m\"privacyPolicy\"\u001b[39;49;00m:\u001b[37m \u001b[39;49;00m\u001b[33m\"https://www.allobank.com/privacy\"\u001b[39;49;00m,\u001b[37m\u001b[39;49;00m\n",
      "\u001b[37m  \u001b[39;49;00m\u001b[94m\"ratings\"\u001b[39;49;00m:\u001b[37m \u001b[39;49;00m\u001b[34m42669\u001b[39;49;00m,\u001b[37m\u001b[39;49;00m\n",
      "\u001b[37m  \u001b[39;49;00m\u001b[94m\"realInstalls\"\u001b[39;49;00m:\u001b[37m \u001b[39;49;00m\u001b[34m8155392\u001b[39;49;00m,\u001b[37m\u001b[39;49;00m\n",
      "\u001b[37m  \u001b[39;49;00m\u001b[94m\"released\"\u001b[39;49;00m:\u001b[37m \u001b[39;49;00m\u001b[33m\"14 Mar 2022\"\u001b[39;49;00m,\u001b[37m\u001b[39;49;00m\n",
      "\u001b[37m  \u001b[39;49;00m\u001b[94m\"reviews\"\u001b[39;49;00m:\u001b[37m \u001b[39;49;00m\u001b[34m26594\u001b[39;49;00m,\u001b[37m\u001b[39;49;00m\n",
      "\u001b[37m  \u001b[39;49;00m\u001b[94m\"sale\"\u001b[39;49;00m:\u001b[37m \u001b[39;49;00m\u001b[34mfalse\u001b[39;49;00m,\u001b[37m\u001b[39;49;00m\n",
      "\u001b[37m  \u001b[39;49;00m\u001b[94m\"saleText\"\u001b[39;49;00m:\u001b[37m \u001b[39;49;00m\u001b[34mnull\u001b[39;49;00m,\u001b[37m\u001b[39;49;00m\n",
      "\u001b[37m  \u001b[39;49;00m\u001b[94m\"saleTime\"\u001b[39;49;00m:\u001b[37m \u001b[39;49;00m\u001b[34mnull\u001b[39;49;00m,\u001b[37m\u001b[39;49;00m\n",
      "\u001b[37m  \u001b[39;49;00m\u001b[94m\"score\"\u001b[39;49;00m:\u001b[37m \u001b[39;49;00m\u001b[34m4.125938\u001b[39;49;00m,\u001b[37m\u001b[39;49;00m\n",
      "\u001b[37m  \u001b[39;49;00m\u001b[94m\"screenshots\"\u001b[39;49;00m:\u001b[37m \u001b[39;49;00m[\u001b[37m\u001b[39;49;00m\n",
      "\u001b[37m    \u001b[39;49;00m\u001b[33m\"https://play-lh.googleusercontent.com/XC05yvBoIc_Q15qYcqVfLwGuDw2k-nPVj4roZOLK9nVSbQl69x_XePdt-Q9YBe0-AGcs\"\u001b[39;49;00m,\u001b[37m\u001b[39;49;00m\n",
      "\u001b[37m    \u001b[39;49;00m\u001b[33m\"https://play-lh.googleusercontent.com/_BvUtqBYp6l2tSnfo9CYFzYXzIEVqHSSYSZxTfm8YZR8sm25t8RpdU_aXBfX7VVQKds\"\u001b[39;49;00m,\u001b[37m\u001b[39;49;00m\n",
      "\u001b[37m    \u001b[39;49;00m\u001b[33m\"https://play-lh.googleusercontent.com/UVu5eYJxSA3zJHiH6A7vWpNXdT5852fcIFhlDgCXjeGxYDzz7-c3YRtUMGY2UUYUrGuE\"\u001b[39;49;00m,\u001b[37m\u001b[39;49;00m\n",
      "\u001b[37m    \u001b[39;49;00m\u001b[33m\"https://play-lh.googleusercontent.com/wEgqZekLG3RLoxMaKSSPQWZi__-gjrenQ7ApJiWEz0DoEL4sgBXaCtB8MqS9pO89diQ\"\u001b[39;49;00m,\u001b[37m\u001b[39;49;00m\n",
      "\u001b[37m    \u001b[39;49;00m\u001b[33m\"https://play-lh.googleusercontent.com/2ZqKBa7_FlCt7GA-5cOnAG4HY54ReXsZemCeXKFkshIoaia_R6gZTXAzp-gxp0_z204\"\u001b[39;49;00m,\u001b[37m\u001b[39;49;00m\n",
      "\u001b[37m    \u001b[39;49;00m\u001b[33m\"https://play-lh.googleusercontent.com/Q40nApQHVxrLrKaV7qYRzMZN285WJ22Anbjljq2rDUwjuGHPWiGca-GJO66ZR_OJ0Es\"\u001b[39;49;00m,\u001b[37m\u001b[39;49;00m\n",
      "\u001b[37m    \u001b[39;49;00m\u001b[33m\"https://play-lh.googleusercontent.com/FwE1BARkc0Eyfa2WtohYSXY2fJ-EP0dyPAU5YIIhUsdQU5F5HZLpmCwcV7B0yVYr4Bi3\"\u001b[39;49;00m,\u001b[37m\u001b[39;49;00m\n",
      "\u001b[37m    \u001b[39;49;00m\u001b[33m\"https://play-lh.googleusercontent.com/qCBEsxSRs-s0nzuvk1__VZkxrupF5M-YxpfKUc0AJWw5qR0FpQeMlKm6KPt1xmGB2sI\"\u001b[39;49;00m\u001b[37m\u001b[39;49;00m\n",
      "\u001b[37m  \u001b[39;49;00m],\u001b[37m\u001b[39;49;00m\n",
      "\u001b[37m  \u001b[39;49;00m\u001b[94m\"summary\"\u001b[39;49;00m:\u001b[37m \u001b[39;49;00m\u001b[33m\"Allo Bank, perbankan digital baru yang akan membantu Anda memenuhi semua kebutuhan Anda.\"\u001b[39;49;00m,\u001b[37m\u001b[39;49;00m\n",
      "\u001b[37m  \u001b[39;49;00m\u001b[94m\"title\"\u001b[39;49;00m:\u001b[37m \u001b[39;49;00m\u001b[33m\"Allo Bank\"\u001b[39;49;00m,\u001b[37m\u001b[39;49;00m\n",
      "\u001b[37m  \u001b[39;49;00m\u001b[94m\"updated\"\u001b[39;49;00m:\u001b[37m \u001b[39;49;00m\u001b[34m1725432274\u001b[39;49;00m,\u001b[37m\u001b[39;49;00m\n",
      "\u001b[37m  \u001b[39;49;00m\u001b[94m\"url\"\u001b[39;49;00m:\u001b[37m \u001b[39;49;00m\u001b[33m\"https://play.google.com/store/apps/details?id=com.alloapp.yump&hl=id&gl=id\"\u001b[39;49;00m,\u001b[37m\u001b[39;49;00m\n",
      "\u001b[37m  \u001b[39;49;00m\u001b[94m\"version\"\u001b[39;49;00m:\u001b[37m \u001b[39;49;00m\u001b[33m\"1.43.31\"\u001b[39;49;00m,\u001b[37m\u001b[39;49;00m\n",
      "\u001b[37m  \u001b[39;49;00m\u001b[94m\"video\"\u001b[39;49;00m:\u001b[37m \u001b[39;49;00m\u001b[33m\"https://www.youtube.com/embed/g-IhngxaCn8?ps=play&vq=large&rel=0&autohide=1&showinfo=0\"\u001b[39;49;00m,\u001b[37m\u001b[39;49;00m\n",
      "\u001b[37m  \u001b[39;49;00m\u001b[94m\"videoImage\"\u001b[39;49;00m:\u001b[37m \u001b[39;49;00m\u001b[33m\"https://play-lh.googleusercontent.com/F-eWhDQuAoDNA-bcjqIMMEX_wkNzM6uz7Zn8BNfW3dHY-qojxn0ssVSLIr_W0FCwtzo\"\u001b[39;49;00m\u001b[37m\u001b[39;49;00m\n",
      "}\u001b[37m\u001b[39;49;00m\n",
      "\n"
     ]
    }
   ],
   "source": [
    "print_json(app_infos[0])"
   ]
  },
  {
   "cell_type": "code",
   "execution_count": 10,
   "metadata": {
    "metadata": {}
   },
   "outputs": [],
   "source": [
    "\n",
    "df.to_csv('BankDigital/dataset/info_BANK_MOBILE_GOOGLE_PLAY16052024.csv', index=None, header=True)"
   ]
  },
  {
   "cell_type": "code",
   "execution_count": 11,
   "metadata": {
    "metadata": {}
   },
   "outputs": [
    {
     "name": "stderr",
     "output_type": "stream",
     "text": [
      "100%|██████████| 7/7 [03:06<00:00, 26.65s/it]\n"
     ]
    }
   ],
   "source": [
    "app_reviews = []\n",
    "\n",
    "for ap in tqdm(app_packages):\n",
    "  for score in list(range(1, 6)):\n",
    "    for sort_order in [Sort.MOST_RELEVANT, Sort.NEWEST]:\n",
    "      rvs, _ = reviews(\n",
    "        ap,\n",
    "        lang='en',\n",
    "        country='id',\n",
    "        sort=sort_order,\n",
    "        count= 5000 if score == 3 else 2500,\n",
    "        filter_score_with=score\n",
    "      )\n",
    "      for r in rvs:\n",
    "        r['sortOrder'] = 'most_relevant' if sort_order == Sort.MOST_RELEVANT else 'newest'\n",
    "        r['appId'] = ap\n",
    "      app_reviews.extend(rvs)"
   ]
  },
  {
   "cell_type": "code",
   "execution_count": 12,
   "metadata": {
    "metadata": {}
   },
   "outputs": [
    {
     "name": "stdout",
     "output_type": "stream",
     "text": [
      "{\u001b[37m\u001b[39;49;00m\n",
      "\u001b[37m  \u001b[39;49;00m\u001b[94m\"appId\"\u001b[39;49;00m:\u001b[37m \u001b[39;49;00m\u001b[33m\"com.alloapp.yump\"\u001b[39;49;00m,\u001b[37m\u001b[39;49;00m\n",
      "\u001b[37m  \u001b[39;49;00m\u001b[94m\"appVersion\"\u001b[39;49;00m:\u001b[37m \u001b[39;49;00m\u001b[33m\"1.3.7.97\"\u001b[39;49;00m,\u001b[37m\u001b[39;49;00m\n",
      "\u001b[37m  \u001b[39;49;00m\u001b[94m\"at\"\u001b[39;49;00m:\u001b[37m \u001b[39;49;00m\u001b[33m\"2023-02-23 22:44:30\"\u001b[39;49;00m,\u001b[37m\u001b[39;49;00m\n",
      "\u001b[37m  \u001b[39;49;00m\u001b[94m\"content\"\u001b[39;49;00m:\u001b[37m \u001b[39;49;00m\u001b[33m\"i hope you're working on it cause this app is awful. both, actually, your web and your app. there's bug everywhere. sometimes it even shows the strange code im sure i wasn't supposed to see. the experience is really unsatisfying. the amount of loading time is sooo bothering. at the website, there's a bug while i registered my phone number but when i refreshed it already registered. so confusing. please be better.\"\u001b[39;49;00m,\u001b[37m\u001b[39;49;00m\n",
      "\u001b[37m  \u001b[39;49;00m\u001b[94m\"repliedAt\"\u001b[39;49;00m:\u001b[37m \u001b[39;49;00m\u001b[33m\"2023-02-24 09:18:28\"\u001b[39;49;00m,\u001b[37m\u001b[39;49;00m\n",
      "\u001b[37m  \u001b[39;49;00m\u001b[94m\"replyContent\"\u001b[39;49;00m:\u001b[37m \u001b[39;49;00m\u001b[33m\"Hai Sahabat Allo, mohon maaf untuk ketidaknyamanan yang kamu alami. Jika kamu masih mengalami kendala bisa tanyakan langsung ke Allo Care di 080 4110 4110, atau melalui Live Chat kami di bit.ly/AlloCare. Terima kasih, semoga harimu menyenangkan. FR\"\u001b[39;49;00m,\u001b[37m\u001b[39;49;00m\n",
      "\u001b[37m  \u001b[39;49;00m\u001b[94m\"reviewCreatedVersion\"\u001b[39;49;00m:\u001b[37m \u001b[39;49;00m\u001b[33m\"1.3.7.97\"\u001b[39;49;00m,\u001b[37m\u001b[39;49;00m\n",
      "\u001b[37m  \u001b[39;49;00m\u001b[94m\"reviewId\"\u001b[39;49;00m:\u001b[37m \u001b[39;49;00m\u001b[33m\"289a8afb-11cd-4874-b97e-8577bb377ce4\"\u001b[39;49;00m,\u001b[37m\u001b[39;49;00m\n",
      "\u001b[37m  \u001b[39;49;00m\u001b[94m\"score\"\u001b[39;49;00m:\u001b[37m \u001b[39;49;00m\u001b[34m1\u001b[39;49;00m,\u001b[37m\u001b[39;49;00m\n",
      "\u001b[37m  \u001b[39;49;00m\u001b[94m\"sortOrder\"\u001b[39;49;00m:\u001b[37m \u001b[39;49;00m\u001b[33m\"most_relevant\"\u001b[39;49;00m,\u001b[37m\u001b[39;49;00m\n",
      "\u001b[37m  \u001b[39;49;00m\u001b[94m\"thumbsUpCount\"\u001b[39;49;00m:\u001b[37m \u001b[39;49;00m\u001b[34m64\u001b[39;49;00m,\u001b[37m\u001b[39;49;00m\n",
      "\u001b[37m  \u001b[39;49;00m\u001b[94m\"userImage\"\u001b[39;49;00m:\u001b[37m \u001b[39;49;00m\u001b[33m\"https://play-lh.googleusercontent.com/a-/ALV-UjU3AJWxx5yfkrhQNiS_FoUVj3olYxj1ON2YD5iaBgEsTsKqgkUbLg\"\u001b[39;49;00m,\u001b[37m\u001b[39;49;00m\n",
      "\u001b[37m  \u001b[39;49;00m\u001b[94m\"userName\"\u001b[39;49;00m:\u001b[37m \u001b[39;49;00m\u001b[33m\"Aulia Rahma Qonita\"\u001b[39;49;00m\u001b[37m\u001b[39;49;00m\n",
      "}\u001b[37m\u001b[39;49;00m\n",
      "\n"
     ]
    }
   ],
   "source": [
    "print_json(app_reviews[1])"
   ]
  },
  {
   "cell_type": "code",
   "execution_count": 13,
   "metadata": {
    "metadata": {}
   },
   "outputs": [],
   "source": [
    "app_reviews_df = pd.DataFrame(app_reviews)\n",
    "app_reviews_df.to_csv('BankDigital/dataset/Newest_19092024_REVIEW_BANK_MOBILE_GOOGLE_PLAY19092024.csv', index=None, header=True)\n",
    "app_reviews_df.to_excel('BankDigital/dataset/Newest_19092024_REVIEW_BANK_MOBILE_GOOGLE_PLAY19092024.xlsx', index=None, header=True)"
   ]
  },
  {
   "cell_type": "code",
   "execution_count": 14,
   "metadata": {},
   "outputs": [
    {
     "name": "stdout",
     "output_type": "stream",
     "text": [
      "<class 'pandas.core.frame.DataFrame'>\n",
      "RangeIndex: 59626 entries, 0 to 59625\n",
      "Data columns (total 13 columns):\n",
      " #   Column                Non-Null Count  Dtype         \n",
      "---  ------                --------------  -----         \n",
      " 0   reviewId              59626 non-null  object        \n",
      " 1   userName              59626 non-null  object        \n",
      " 2   userImage             59626 non-null  object        \n",
      " 3   content               59626 non-null  object        \n",
      " 4   score                 59626 non-null  int64         \n",
      " 5   thumbsUpCount         59626 non-null  int64         \n",
      " 6   reviewCreatedVersion  53290 non-null  object        \n",
      " 7   at                    59626 non-null  datetime64[ns]\n",
      " 8   replyContent          39077 non-null  object        \n",
      " 9   repliedAt             39077 non-null  datetime64[ns]\n",
      " 10  appVersion            53290 non-null  object        \n",
      " 11  sortOrder             59626 non-null  object        \n",
      " 12  appId                 59626 non-null  object        \n",
      "dtypes: datetime64[ns](2), int64(2), object(9)\n",
      "memory usage: 5.9+ MB\n"
     ]
    }
   ],
   "source": [
    "app_reviews_df.info()"
   ]
  },
  {
   "cell_type": "code",
   "execution_count": 15,
   "metadata": {},
   "outputs": [
    {
     "name": "stdout",
     "output_type": "stream",
     "text": [
      "reviewId                    0\n",
      "userName                    0\n",
      "userImage                   0\n",
      "content                     0\n",
      "score                       0\n",
      "thumbsUpCount               0\n",
      "reviewCreatedVersion     6336\n",
      "at                          0\n",
      "replyContent            20549\n",
      "repliedAt               20549\n",
      "appVersion               6336\n",
      "sortOrder                   0\n",
      "appId                       0\n",
      "dtype: int64\n"
     ]
    }
   ],
   "source": [
    "# Check for null values\n",
    "print(app_reviews_df.isnull().sum())\n"
   ]
  },
  {
   "cell_type": "code",
   "execution_count": 16,
   "metadata": {},
   "outputs": [],
   "source": [
    "data_df = app_reviews_df[['appId', 'content', 'score', 'at']]"
   ]
  },
  {
   "cell_type": "code",
   "execution_count": 17,
   "metadata": {},
   "outputs": [
    {
     "data": {
      "text/html": [
       "<div>\n",
       "<style scoped>\n",
       "    .dataframe tbody tr th:only-of-type {\n",
       "        vertical-align: middle;\n",
       "    }\n",
       "\n",
       "    .dataframe tbody tr th {\n",
       "        vertical-align: top;\n",
       "    }\n",
       "\n",
       "    .dataframe thead th {\n",
       "        text-align: right;\n",
       "    }\n",
       "</style>\n",
       "<table border=\"1\" class=\"dataframe\">\n",
       "  <thead>\n",
       "    <tr style=\"text-align: right;\">\n",
       "      <th></th>\n",
       "      <th>appId</th>\n",
       "      <th>content</th>\n",
       "      <th>score</th>\n",
       "      <th>at</th>\n",
       "    </tr>\n",
       "  </thead>\n",
       "  <tbody>\n",
       "    <tr>\n",
       "      <th>0</th>\n",
       "      <td>com.alloapp.yump</td>\n",
       "      <td>Twice installing and uninstalling. Error all t...</td>\n",
       "      <td>1</td>\n",
       "      <td>2022-11-25 19:10:12</td>\n",
       "    </tr>\n",
       "    <tr>\n",
       "      <th>1</th>\n",
       "      <td>com.alloapp.yump</td>\n",
       "      <td>i hope you're working on it cause this app is ...</td>\n",
       "      <td>1</td>\n",
       "      <td>2023-02-23 22:44:30</td>\n",
       "    </tr>\n",
       "    <tr>\n",
       "      <th>2</th>\n",
       "      <td>com.alloapp.yump</td>\n",
       "      <td>Very poor UI/UX. Took several times to scan ID...</td>\n",
       "      <td>1</td>\n",
       "      <td>2022-05-18 07:29:35</td>\n",
       "    </tr>\n",
       "    <tr>\n",
       "      <th>3</th>\n",
       "      <td>com.alloapp.yump</td>\n",
       "      <td>Can't not even register on my phone (samsung n...</td>\n",
       "      <td>1</td>\n",
       "      <td>2023-04-27 11:23:32</td>\n",
       "    </tr>\n",
       "    <tr>\n",
       "      <th>4</th>\n",
       "      <td>com.alloapp.yump</td>\n",
       "      <td>Sudah berhasil install tetapi tdk bisa dibuka....</td>\n",
       "      <td>1</td>\n",
       "      <td>2024-07-29 15:19:38</td>\n",
       "    </tr>\n",
       "    <tr>\n",
       "      <th>...</th>\n",
       "      <td>...</td>\n",
       "      <td>...</td>\n",
       "      <td>...</td>\n",
       "      <td>...</td>\n",
       "    </tr>\n",
       "    <tr>\n",
       "      <th>59621</th>\n",
       "      <td>com.bcadigital.blu</td>\n",
       "      <td>kereeen 🤩 pembayaran qris dapet cashback gaes....</td>\n",
       "      <td>5</td>\n",
       "      <td>2022-01-15 17:03:26</td>\n",
       "    </tr>\n",
       "    <tr>\n",
       "      <th>59622</th>\n",
       "      <td>com.bcadigital.blu</td>\n",
       "      <td>It's quite good and having a good improvement ...</td>\n",
       "      <td>5</td>\n",
       "      <td>2022-01-15 16:34:40</td>\n",
       "    </tr>\n",
       "    <tr>\n",
       "      <th>59623</th>\n",
       "      <td>com.bcadigital.blu</td>\n",
       "      <td>mantul nih blu, bca yg biasa dibikin gini dong</td>\n",
       "      <td>5</td>\n",
       "      <td>2022-01-15 14:15:55</td>\n",
       "    </tr>\n",
       "    <tr>\n",
       "      <th>59624</th>\n",
       "      <td>com.bcadigital.blu</td>\n",
       "      <td>terbaik❤❤❤</td>\n",
       "      <td>5</td>\n",
       "      <td>2022-01-15 12:56:41</td>\n",
       "    </tr>\n",
       "    <tr>\n",
       "      <th>59625</th>\n",
       "      <td>com.bcadigital.blu</td>\n",
       "      <td>Haslle free</td>\n",
       "      <td>5</td>\n",
       "      <td>2022-01-15 11:11:57</td>\n",
       "    </tr>\n",
       "  </tbody>\n",
       "</table>\n",
       "<p>59626 rows × 4 columns</p>\n",
       "</div>"
      ],
      "text/plain": [
       "                    appId                                            content  \\\n",
       "0        com.alloapp.yump  Twice installing and uninstalling. Error all t...   \n",
       "1        com.alloapp.yump  i hope you're working on it cause this app is ...   \n",
       "2        com.alloapp.yump  Very poor UI/UX. Took several times to scan ID...   \n",
       "3        com.alloapp.yump  Can't not even register on my phone (samsung n...   \n",
       "4        com.alloapp.yump  Sudah berhasil install tetapi tdk bisa dibuka....   \n",
       "...                   ...                                                ...   \n",
       "59621  com.bcadigital.blu  kereeen 🤩 pembayaran qris dapet cashback gaes....   \n",
       "59622  com.bcadigital.blu  It's quite good and having a good improvement ...   \n",
       "59623  com.bcadigital.blu     mantul nih blu, bca yg biasa dibikin gini dong   \n",
       "59624  com.bcadigital.blu                                         terbaik❤❤❤   \n",
       "59625  com.bcadigital.blu                                        Haslle free   \n",
       "\n",
       "       score                  at  \n",
       "0          1 2022-11-25 19:10:12  \n",
       "1          1 2023-02-23 22:44:30  \n",
       "2          1 2022-05-18 07:29:35  \n",
       "3          1 2023-04-27 11:23:32  \n",
       "4          1 2024-07-29 15:19:38  \n",
       "...      ...                 ...  \n",
       "59621      5 2022-01-15 17:03:26  \n",
       "59622      5 2022-01-15 16:34:40  \n",
       "59623      5 2022-01-15 14:15:55  \n",
       "59624      5 2022-01-15 12:56:41  \n",
       "59625      5 2022-01-15 11:11:57  \n",
       "\n",
       "[59626 rows x 4 columns]"
      ]
     },
     "execution_count": 17,
     "metadata": {},
     "output_type": "execute_result"
    }
   ],
   "source": [
    "data_df"
   ]
  },
  {
   "cell_type": "code",
   "execution_count": 18,
   "metadata": {},
   "outputs": [
    {
     "name": "stdout",
     "output_type": "stream",
     "text": [
      "appId      0\n",
      "content    0\n",
      "score      0\n",
      "at         0\n",
      "dtype: int64\n"
     ]
    }
   ],
   "source": [
    "print(data_df.isnull().sum())"
   ]
  },
  {
   "cell_type": "code",
   "execution_count": 20,
   "metadata": {},
   "outputs": [],
   "source": [
    "data_df.to_csv('BankDigital/dataset/REVIEW_BANK_MOBILE_Playstore_19092024.csv', index=None, header=True)\n",
    "data_df.to_excel('BankDigital/dataset/REVIEW_BANK_MOBILE_Playstore_19092024.xlsx', index=None, header=True)"
   ]
  }
 ],
 "metadata": {
  "kernelspec": {
   "display_name": "Python 3.9.7 ('base')",
   "language": "python",
   "name": "python3"
  },
  "language_info": {
   "codemirror_mode": {
    "name": "ipython",
    "version": 3
   },
   "file_extension": ".py",
   "mimetype": "text/x-python",
   "name": "python",
   "nbconvert_exporter": "python",
   "pygments_lexer": "ipython3",
   "version": "3.12.3"
  },
  "orig_nbformat": 4,
  "vscode": {
   "interpreter": {
    "hash": "678bcfd6376b9a1d259d9993fe75604a4b4f3b2c5ff5a71eca36094cc19bcb7f"
   }
  }
 },
 "nbformat": 4,
 "nbformat_minor": 2
}

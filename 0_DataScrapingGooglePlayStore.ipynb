{
 "cells": [
  {
   "cell_type": "code",
   "execution_count": 15,
   "metadata": {},
   "outputs": [
    {
     "name": "stdout",
     "output_type": "stream",
     "text": [
      "Python implementation: CPython\n",
      "Python version       : 3.9.12\n",
      "IPython version      : 8.2.0\n",
      "\n",
      "pandas             : 1.4.2\n",
      "matplotlib         : 3.5.1\n",
      "seaborn            : 0.11.2\n",
      "google_play_scraper: 1.2.0\n",
      "\n"
     ]
    }
   ],
   "source": [
    "%reload_ext watermark\n",
    "%watermark -v -p pandas,matplotlib,seaborn,google_play_scraper"
   ]
  },
  {
   "cell_type": "code",
   "execution_count": 16,
   "metadata": {},
   "outputs": [],
   "source": [
    "import json\n",
    "import pandas as pd\n",
    "from tqdm import tqdm\n",
    "\n",
    "import seaborn as sns\n",
    "import matplotlib.pyplot as plt\n",
    "import numpy as np\n",
    "\n",
    "from pygments import highlight\n",
    "from pygments.lexers import JsonLexer\n",
    "from pygments.formatters import TerminalFormatter\n",
    "\n",
    "from google_play_scraper import Sort, reviews, app\n",
    "\n",
    "%matplotlib inline\n",
    "%config InlineBackend.figure_format='retina'\n",
    "\n",
    "sns.set(style='whitegrid', palette='muted', font_scale=1.2)"
   ]
  },
  {
   "cell_type": "code",
   "execution_count": 4,
   "metadata": {},
   "outputs": [],
   "source": [
    "app_packages = [\n",
    "  'com.mobile.legends',\n",
    "  'com.garena.game.kgid',\n",
    "  'com.riotgames.league.wildrift',\n",
    "#   'com.supercell.brawlstars',\n",
    "#   'jp.pokemon.pokemonunite',\n",
    "]"
   ]
  },
  {
   "cell_type": "code",
   "execution_count": 5,
   "metadata": {},
   "outputs": [
    {
     "name": "stderr",
     "output_type": "stream",
     "text": [
      "100%|██████████| 3/3 [00:03<00:00,  1.08s/it]\n"
     ]
    }
   ],
   "source": [
    "app_infos = []\n",
    "\n",
    "for ap in tqdm(app_packages):\n",
    "  info = app(ap, lang='en', country='id')\n",
    " # del info['comments']\n",
    "  app_infos.append(info)"
   ]
  },
  {
   "cell_type": "code",
   "execution_count": 10,
   "metadata": {},
   "outputs": [],
   "source": [
    "df=pd.DataFrame(app_infos)"
   ]
  },
  {
   "cell_type": "code",
   "execution_count": 11,
   "metadata": {},
   "outputs": [
    {
     "data": {
      "text/html": [
       "<div>\n",
       "<style scoped>\n",
       "    .dataframe tbody tr th:only-of-type {\n",
       "        vertical-align: middle;\n",
       "    }\n",
       "\n",
       "    .dataframe tbody tr th {\n",
       "        vertical-align: top;\n",
       "    }\n",
       "\n",
       "    .dataframe thead th {\n",
       "        text-align: right;\n",
       "    }\n",
       "</style>\n",
       "<table border=\"1\" class=\"dataframe\">\n",
       "  <thead>\n",
       "    <tr style=\"text-align: right;\">\n",
       "      <th></th>\n",
       "      <th>title</th>\n",
       "      <th>description</th>\n",
       "      <th>descriptionHTML</th>\n",
       "      <th>summary</th>\n",
       "      <th>installs</th>\n",
       "      <th>minInstalls</th>\n",
       "      <th>realInstalls</th>\n",
       "      <th>score</th>\n",
       "      <th>ratings</th>\n",
       "      <th>reviews</th>\n",
       "      <th>...</th>\n",
       "      <th>adSupported</th>\n",
       "      <th>containsAds</th>\n",
       "      <th>released</th>\n",
       "      <th>updated</th>\n",
       "      <th>version</th>\n",
       "      <th>recentChanges</th>\n",
       "      <th>recentChangesHTML</th>\n",
       "      <th>comments</th>\n",
       "      <th>appId</th>\n",
       "      <th>url</th>\n",
       "    </tr>\n",
       "  </thead>\n",
       "  <tbody>\n",
       "    <tr>\n",
       "      <th>0</th>\n",
       "      <td>Mobile Legends: Bang Bang</td>\n",
       "      <td>Join your friends in Mobile Legends: Bang Bang...</td>\n",
       "      <td>Join your friends in Mobile Legends: Bang Bang...</td>\n",
       "      <td>Play the 5v5 MOBA game on mobile with players ...</td>\n",
       "      <td>500,000,000+</td>\n",
       "      <td>500000000</td>\n",
       "      <td>517951198</td>\n",
       "      <td>3.961540</td>\n",
       "      <td>31195126</td>\n",
       "      <td>8492315</td>\n",
       "      <td>...</td>\n",
       "      <td>True</td>\n",
       "      <td>True</td>\n",
       "      <td>Sep 24, 2016</td>\n",
       "      <td>1656505150</td>\n",
       "      <td>Varies with device</td>\n",
       "      <td>1. New Season, Rise of Necrokeep, is arriving ...</td>\n",
       "      <td>1. New Season, Rise of Necrokeep, is arriving ...</td>\n",
       "      <td>[It takes too long to download the resource ma...</td>\n",
       "      <td>com.mobile.legends</td>\n",
       "      <td>https://play.google.com/store/apps/details?id=...</td>\n",
       "    </tr>\n",
       "    <tr>\n",
       "      <th>1</th>\n",
       "      <td>Garena AOV: AOV DAY</td>\n",
       "      <td>Experience AOV (Arena of Valor), an epic new 5...</td>\n",
       "      <td>Experience AOV (Arena of Valor), an epic new 5...</td>\n",
       "      <td>World Class MOBA</td>\n",
       "      <td>10,000,000+</td>\n",
       "      <td>10000000</td>\n",
       "      <td>21282864</td>\n",
       "      <td>4.007888</td>\n",
       "      <td>1152193</td>\n",
       "      <td>583504</td>\n",
       "      <td>...</td>\n",
       "      <td>False</td>\n",
       "      <td>False</td>\n",
       "      <td>Jun 5, 2017</td>\n",
       "      <td>1656154459</td>\n",
       "      <td>1.46.1.1</td>\n",
       "      <td>None</td>\n",
       "      <td>None</td>\n",
       "      <td>[What is so disappointing in this game is the ...</td>\n",
       "      <td>com.garena.game.kgid</td>\n",
       "      <td>https://play.google.com/store/apps/details?id=...</td>\n",
       "    </tr>\n",
       "    <tr>\n",
       "      <th>2</th>\n",
       "      <td>League of Legends: Wild Rift</td>\n",
       "      <td>The 5v5 MOBA gameplay of League of Legends by ...</td>\n",
       "      <td>The 5v5 MOBA gameplay of League of Legends by ...</td>\n",
       "      <td>Legendary 5v5 MOBA games await! Choose your ch...</td>\n",
       "      <td>10,000,000+</td>\n",
       "      <td>10000000</td>\n",
       "      <td>46724978</td>\n",
       "      <td>3.426624</td>\n",
       "      <td>2032680</td>\n",
       "      <td>153751</td>\n",
       "      <td>...</td>\n",
       "      <td>False</td>\n",
       "      <td>False</td>\n",
       "      <td>Oct 27, 2020</td>\n",
       "      <td>1652147182</td>\n",
       "      <td>3.2.0.5531</td>\n",
       "      <td>Time &amp; Tide Update is here! From May to July: ...</td>\n",
       "      <td>Time &amp;amp; Tide Update is here! From May to Ju...</td>\n",
       "      <td>[I love this game. Easy to play. Hard to maste...</td>\n",
       "      <td>com.riotgames.league.wildrift</td>\n",
       "      <td>https://play.google.com/store/apps/details?id=...</td>\n",
       "    </tr>\n",
       "  </tbody>\n",
       "</table>\n",
       "<p>3 rows × 45 columns</p>\n",
       "</div>"
      ],
      "text/plain": [
       "                          title  \\\n",
       "0     Mobile Legends: Bang Bang   \n",
       "1           Garena AOV: AOV DAY   \n",
       "2  League of Legends: Wild Rift   \n",
       "\n",
       "                                         description  \\\n",
       "0  Join your friends in Mobile Legends: Bang Bang...   \n",
       "1  Experience AOV (Arena of Valor), an epic new 5...   \n",
       "2  The 5v5 MOBA gameplay of League of Legends by ...   \n",
       "\n",
       "                                     descriptionHTML  \\\n",
       "0  Join your friends in Mobile Legends: Bang Bang...   \n",
       "1  Experience AOV (Arena of Valor), an epic new 5...   \n",
       "2  The 5v5 MOBA gameplay of League of Legends by ...   \n",
       "\n",
       "                                             summary      installs  \\\n",
       "0  Play the 5v5 MOBA game on mobile with players ...  500,000,000+   \n",
       "1                                   World Class MOBA   10,000,000+   \n",
       "2  Legendary 5v5 MOBA games await! Choose your ch...   10,000,000+   \n",
       "\n",
       "   minInstalls  realInstalls     score   ratings  reviews  ... adSupported  \\\n",
       "0    500000000     517951198  3.961540  31195126  8492315  ...        True   \n",
       "1     10000000      21282864  4.007888   1152193   583504  ...       False   \n",
       "2     10000000      46724978  3.426624   2032680   153751  ...       False   \n",
       "\n",
       "   containsAds      released     updated             version  \\\n",
       "0         True  Sep 24, 2016  1656505150  Varies with device   \n",
       "1        False   Jun 5, 2017  1656154459            1.46.1.1   \n",
       "2        False  Oct 27, 2020  1652147182          3.2.0.5531   \n",
       "\n",
       "                                       recentChanges  \\\n",
       "0  1. New Season, Rise of Necrokeep, is arriving ...   \n",
       "1                                               None   \n",
       "2  Time & Tide Update is here! From May to July: ...   \n",
       "\n",
       "                                   recentChangesHTML  \\\n",
       "0  1. New Season, Rise of Necrokeep, is arriving ...   \n",
       "1                                               None   \n",
       "2  Time &amp; Tide Update is here! From May to Ju...   \n",
       "\n",
       "                                            comments  \\\n",
       "0  [It takes too long to download the resource ma...   \n",
       "1  [What is so disappointing in this game is the ...   \n",
       "2  [I love this game. Easy to play. Hard to maste...   \n",
       "\n",
       "                           appId  \\\n",
       "0             com.mobile.legends   \n",
       "1           com.garena.game.kgid   \n",
       "2  com.riotgames.league.wildrift   \n",
       "\n",
       "                                                 url  \n",
       "0  https://play.google.com/store/apps/details?id=...  \n",
       "1  https://play.google.com/store/apps/details?id=...  \n",
       "2  https://play.google.com/store/apps/details?id=...  \n",
       "\n",
       "[3 rows x 45 columns]"
      ]
     },
     "execution_count": 11,
     "metadata": {},
     "output_type": "execute_result"
    }
   ],
   "source": [
    "df.head()"
   ]
  },
  {
   "cell_type": "code",
   "execution_count": 7,
   "metadata": {},
   "outputs": [],
   "source": [
    "def print_json(json_object):\n",
    "  json_str = json.dumps(\n",
    "    json_object, \n",
    "    indent=2, \n",
    "    sort_keys=True, \n",
    "    default=str\n",
    "  )\n",
    "  print(highlight(json_str, JsonLexer(), TerminalFormatter()))"
   ]
  },
  {
   "cell_type": "code",
   "execution_count": null,
   "metadata": {},
   "outputs": [],
   "source": [
    "print_json(app_infos[0])"
   ]
  },
  {
   "cell_type": "code",
   "execution_count": 18,
   "metadata": {},
   "outputs": [],
   "source": [
    "\n",
    "df.to_csv('hasil/MOBA-PERINTIS-apps-13072022.csv', index=None, header=True)"
   ]
  },
  {
   "cell_type": "code",
   "execution_count": 20,
   "metadata": {},
   "outputs": [
    {
     "name": "stderr",
     "output_type": "stream",
     "text": [
      "100%|██████████| 3/3 [00:26<00:00,  8.97s/it]\n"
     ]
    }
   ],
   "source": [
    "app_reviews = []\n",
    "\n",
    "for ap in tqdm(app_packages):\n",
    "  for score in list(range(1, 6)):\n",
    "    for sort_order in [Sort.MOST_RELEVANT, Sort.NEWEST]:\n",
    "      rvs, _ = reviews(\n",
    "        ap,\n",
    "        lang='en',\n",
    "        country='id',\n",
    "        sort=sort_order,\n",
    "        count= 500 if score == 3 else 250,\n",
    "        filter_score_with=score\n",
    "      )\n",
    "      for r in rvs:\n",
    "        r['sortOrder'] = 'most_relevant' if sort_order == Sort.MOST_RELEVANT else 'newest'\n",
    "        r['appId'] = ap\n",
    "      app_reviews.extend(rvs)"
   ]
  },
  {
   "cell_type": "code",
   "execution_count": 22,
   "metadata": {},
   "outputs": [
    {
     "name": "stdout",
     "output_type": "stream",
     "text": [
      "{\u001b[37m\u001b[39;49;00m\n",
      "\u001b[37m  \u001b[39;49;00m\u001b[94m\"appId\"\u001b[39;49;00m:\u001b[37m \u001b[39;49;00m\u001b[33m\"com.mobile.legends\"\u001b[39;49;00m,\u001b[37m\u001b[39;49;00m\n",
      "\u001b[37m  \u001b[39;49;00m\u001b[94m\"at\"\u001b[39;49;00m:\u001b[37m \u001b[39;49;00m\u001b[33m\"2022-05-08 16:25:17\"\u001b[39;49;00m,\u001b[37m\u001b[39;49;00m\n",
      "\u001b[37m  \u001b[39;49;00m\u001b[94m\"content\"\u001b[39;49;00m:\u001b[37m \u001b[39;49;00m\u001b[33m\"just recently, it can't even start a game. It always crashed on hero selection screen. Than after restart, it crashes again at loading screen, always at around 20%. I have tried restarting, reloading, reinstalling the game, turning off Samsung game launcher, etc. Nothing worked. So the problem is not on the phone. It has worked wonderfully before for three years.\"\u001b[39;49;00m,\u001b[37m\u001b[39;49;00m\n",
      "\u001b[37m  \u001b[39;49;00m\u001b[94m\"repliedAt\"\u001b[39;49;00m:\u001b[37m \u001b[39;49;00m\u001b[34mnull\u001b[39;49;00m,\u001b[37m\u001b[39;49;00m\n",
      "\u001b[37m  \u001b[39;49;00m\u001b[94m\"replyContent\"\u001b[39;49;00m:\u001b[37m \u001b[39;49;00m\u001b[34mnull\u001b[39;49;00m,\u001b[37m\u001b[39;49;00m\n",
      "\u001b[37m  \u001b[39;49;00m\u001b[94m\"reviewCreatedVersion\"\u001b[39;49;00m:\u001b[37m \u001b[39;49;00m\u001b[33m\"1.6.72.7351\"\u001b[39;49;00m,\u001b[37m\u001b[39;49;00m\n",
      "\u001b[37m  \u001b[39;49;00m\u001b[94m\"reviewId\"\u001b[39;49;00m:\u001b[37m \u001b[39;49;00m\u001b[33m\"62b580cf-d289-427b-934c-809057f6f5c6\"\u001b[39;49;00m,\u001b[37m\u001b[39;49;00m\n",
      "\u001b[37m  \u001b[39;49;00m\u001b[94m\"score\"\u001b[39;49;00m:\u001b[37m \u001b[39;49;00m\u001b[34m1\u001b[39;49;00m,\u001b[37m\u001b[39;49;00m\n",
      "\u001b[37m  \u001b[39;49;00m\u001b[94m\"sortOrder\"\u001b[39;49;00m:\u001b[37m \u001b[39;49;00m\u001b[33m\"most_relevant\"\u001b[39;49;00m,\u001b[37m\u001b[39;49;00m\n",
      "\u001b[37m  \u001b[39;49;00m\u001b[94m\"thumbsUpCount\"\u001b[39;49;00m:\u001b[37m \u001b[39;49;00m\u001b[34m1094\u001b[39;49;00m,\u001b[37m\u001b[39;49;00m\n",
      "\u001b[37m  \u001b[39;49;00m\u001b[94m\"userImage\"\u001b[39;49;00m:\u001b[37m \u001b[39;49;00m\u001b[33m\"https://play-lh.googleusercontent.com/a/AItbvmmdseO4S9LQOV3kHIz0Yt9zsgO9m3XzbsKLvikG=mo\"\u001b[39;49;00m,\u001b[37m\u001b[39;49;00m\n",
      "\u001b[37m  \u001b[39;49;00m\u001b[94m\"userName\"\u001b[39;49;00m:\u001b[37m \u001b[39;49;00m\u001b[33m\"Leif Nambara\"\u001b[39;49;00m\u001b[37m\u001b[39;49;00m\n",
      "}\u001b[37m\u001b[39;49;00m\n",
      "\n"
     ]
    }
   ],
   "source": [
    "print_json(app_reviews[1])"
   ]
  },
  {
   "cell_type": "code",
   "execution_count": 21,
   "metadata": {},
   "outputs": [],
   "source": [
    "app_reviews_df = pd.DataFrame(app_reviews)\n",
    "app_reviews_df.to_csv('hasil/MOBA-PERINTIS-DATASET-baruambil-13072022.csv', index=None, header=True)"
   ]
  }
 ],
 "metadata": {
  "kernelspec": {
   "display_name": "Python 3.9.7 ('base')",
   "language": "python",
   "name": "python3"
  },
  "language_info": {
   "codemirror_mode": {
    "name": "ipython",
    "version": 3
   },
   "file_extension": ".py",
   "mimetype": "text/x-python",
   "name": "python",
   "nbconvert_exporter": "python",
   "pygments_lexer": "ipython3",
   "version": "3.9.12"
  },
  "orig_nbformat": 4,
  "vscode": {
   "interpreter": {
    "hash": "678bcfd6376b9a1d259d9993fe75604a4b4f3b2c5ff5a71eca36094cc19bcb7f"
   }
  }
 },
 "nbformat": 4,
 "nbformat_minor": 2
}

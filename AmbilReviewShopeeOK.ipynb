{
 "cells": [
  {
   "cell_type": "code",
   "execution_count": 19,
   "metadata": {},
   "outputs": [],
   "source": [
    "import re\n",
    "import json\n",
    "import requests\n",
    "import csv"
   ]
  },
  {
   "cell_type": "code",
   "execution_count": 33,
   "metadata": {},
   "outputs": [],
   "source": [
    "# url = 'https://shopee.co.id/Deli-Colored-Pencil-Pensil-Warna-Lucu-12-24-Warna-Pewarnaan-Cerah-EC121-XX-i.65736753.13590716862'\n",
    "url = 'https://shopee.co.id/Premium-Brill-Eighty-eight-Flannel-Shirt-077-i.32031549.1991571675'\n",
    "r = re.search(r'i\\.(\\d+)\\.(\\d+)', url)\n"
   ]
  },
  {
   "cell_type": "code",
   "execution_count": 38,
   "metadata": {},
   "outputs": [
    {
     "ename": "KeyError",
     "evalue": "'data'",
     "output_type": "error",
     "traceback": [
      "\u001b[1;31m---------------------------------------------------------------------------\u001b[0m",
      "\u001b[1;31mKeyError\u001b[0m                                  Traceback (most recent call last)",
      "Cell \u001b[1;32mIn[38], line 15\u001b[0m\n\u001b[0;32m     11\u001b[0m \u001b[39m# uncomment this to print all data:\u001b[39;00m\n\u001b[0;32m     12\u001b[0m \u001b[39m# print(json.dumps(data, indent=4))\u001b[39;00m\n\u001b[0;32m     14\u001b[0m i \u001b[39m=\u001b[39m \u001b[39m1\u001b[39m\n\u001b[1;32m---> 15\u001b[0m \u001b[39mfor\u001b[39;00m i, rating \u001b[39min\u001b[39;00m \u001b[39menumerate\u001b[39m(data[\u001b[39m'\u001b[39;49m\u001b[39mdata\u001b[39;49m\u001b[39m'\u001b[39;49m][\u001b[39m'\u001b[39m\u001b[39mratings\u001b[39m\u001b[39m'\u001b[39m], \u001b[39m1\u001b[39m):\n\u001b[0;32m     16\u001b[0m     \u001b[39mprint\u001b[39m(rating[\u001b[39m'\u001b[39m\u001b[39mauthor_username\u001b[39m\u001b[39m'\u001b[39m])\n\u001b[0;32m     17\u001b[0m     \u001b[39mprint\u001b[39m(rating[\u001b[39m'\u001b[39m\u001b[39mcomment\u001b[39m\u001b[39m'\u001b[39m])\n",
      "\u001b[1;31mKeyError\u001b[0m: 'data'"
     ]
    }
   ],
   "source": [
    "\n",
    "\n",
    "r = re.search(r'i\\.(\\d+)\\.(\\d+)', url)\n",
    "shop_id, item_id = r[1], r[2]\n",
    "# ratings_url = 'https://shopee.co.id/api/v2/item/get_ratings?filter=0&flag=1&itemid={item_id}&limit=20&offset={offset}&shopid={shop_id}&type=0'\n",
    "ratings_url = 'https://shopee.co.id/api/v2/item/get_product?filter=0&flag=1&itemid={item_id}&limit=20&offset={offset}&shopid={shop_id}&type=0'\n",
    "\n",
    "offset = 0\n",
    "while True:\n",
    "\n",
    "    data = requests.get(ratings_url.format(shop_id=shop_id, item_id=item_id, offset=offset)).json()\n",
    "\n",
    "    # uncomment this to print all data:\n",
    "    # print(json.dumps(data, indent=4))\n",
    "\n",
    "    i = 1\n",
    "    for i, rating in enumerate(data['data']['ratings'], 1):\n",
    "        print(rating['author_username'])\n",
    "        print(rating['comment'])\n",
    "        print('-' * 80)\n",
    "\n",
    "    if i % 10:\n",
    "        break\n",
    "\n",
    "    offset += 10\n"
   ]
  },
  {
   "cell_type": "code",
   "execution_count": 40,
   "metadata": {},
   "outputs": [],
   "source": [
    "shopid=r[1]\n",
    "itemid=r[2]\n",
    "limit=60\n",
    "offset=0"
   ]
  },
  {
   "cell_type": "code",
   "execution_count": 41,
   "metadata": {},
   "outputs": [],
   "source": [
    "url = \"https://shopee.co.id/api/v2/item/get_ratings\""
   ]
  },
  {
   "cell_type": "code",
   "execution_count": 43,
   "metadata": {},
   "outputs": [],
   "source": [
    "params = {\n",
    "        \"filter\": \"0\",\n",
    "        \"flag\": \"1\",\n",
    "        \"itemid\": itemid,\n",
    "        \"limit\": limit,\n",
    "        \"offset\": offset,\n",
    "        \"shopid\": shopid,\n",
    "        \"type\": \"0\"\n",
    "    }"
   ]
  },
  {
   "cell_type": "code",
   "execution_count": 49,
   "metadata": {},
   "outputs": [
    {
     "name": "stdout",
     "output_type": "stream",
     "text": [
      "{'filter': '0', 'flag': '1', 'itemid': '1991571675', 'limit': 20, 'offset': 0, 'shopid': '32031549', 'type': '0'}\n",
      "y*****n\n",
      "5\n",
      "Gak bisa berkata apa2 dah, saking bagusnya. Kainnya bagus, tebal. Nyaman dipake, cocok utk formal dn non formal juga. Utk warna merahnya bagus, rekomendasi bet dah. Thx seller...\n",
      "riska_ameliaaaa\n",
      "5\n",
      "Mantapppppp bagus bgt \n",
      "Nyesel cuman beli satu😌\n",
      "Bahan tebel \n",
      "Ok\n",
      "Ukuran dan warna sesuai pesanan \n",
      "Rekomend banget deh toko nya 😍🥰\n",
      "d*****6\n",
      "5\n",
      "Barang bagus, alhamdulillah pas buat anak smp kls1. Kecepatan pengiriman baek, respon penjual baek.pokoknya jangan ragu order ditoko know. Good job 👍👍👍👍👍\n",
      "aliakbarrafsanjaninastution\n",
      "4\n",
      "Kualitas produk sangat bagus, pengiriman barang aman, bahan nya juga tebal, tapi kalo menurut saya ukuran untuk XL panjang badan sama tangan nya kurang panjang agak beberapa Cm, minimal tambah sedikit panjang tangan sama badannya.\n",
      "o*****5\n",
      "1\n",
      "Mohon maaf atas bintang satu nya kak. Secara keseluruhan pelayanan emang baik dri penjual udah di return juga tetapi tidak bisa mengganti produk yg dibeli di awal walopun barang habis. Semoga kedepannya jangan sampai terulang. Lancar terus rejekinya kak. Semoga Allah mengampuni dosa kakak. Aminnn\n",
      "ceplenk_ssu\n",
      "5\n",
      "Paket sudah mendarat dengan baik, pengiriman cepat.bahan tebal,  adem gk nya di pake belom di coba.. Kalo nyaman di pake next pasti order lagi\n",
      "agent.rabbit\n",
      "5\n",
      "Seller responsif. Barang yg dikirim sesuai. Pengirimannya cpt banget. Bahan ok, tp ini bukan yg model flanel agak bulu² gitu jd agak kaku. Size M nya ok lah. Harga jg bersahabat. Overall nyaman kok dipake\n",
      "4*****7\n",
      "5\n",
      "Mantap pengiriman cepat, pengemasan rapi, bahan bagus dan tebal, cuma salah pilih ukuran jadinya bajunya terlalu ngepas.. next bakal beli lagi yg sesuai ukuran.. recommended banget toko ini🙏🏻\n",
      "azaimkamil\n",
      "5\n",
      "Pesanan sdh datang\n",
      "Bahannya bagus bgtz adem lembut gak tipis dan gak panas bener² ori \n",
      "Keren lagi... Bakalan beli disini lagi\n",
      "Terimakasih banyak\n",
      "Respon ramah sekali\n",
      "dianwati64\n",
      "5\n",
      "Terimakasih ya.. seller paket sdh saya terima, kualitas produk sngt bagus n ori, bahannya adem, pengirimannya sngt cepat, respon penjual sngt baik. Mksh Shopee\n",
      "fivesevenyo\n",
      "5\n",
      "bahan tebel, lembut, pengiriman super cepat dan rapi.. barang sampai dengan aman dan selamat.. semoga awet yaa\n",
      "ronyirawan\n",
      "5\n",
      "Maaf baru kasih penilaian. Kemaren pengiriman sangat cepat cuman saya gk ada d kos jdi saya suruh kurirnya simpan d kantor dan baru saya ambil skrg. Untuk kualitas tak perlu d ragukan lgi. Mantap. Kainnya tebel gk berbulu. Oke punya lah. Beli 2 sesuai pesanan.\n",
      "Tinggi 165\n",
      "Bb 48 (kurus sangat ) tpi ok\n",
      "syska18\n",
      "5\n",
      "Terimakasih, pengiriman cepat dan aman, admin responsif, bahan tebal dan bagus.\n",
      "a*****a\n",
      "5\n",
      "Mantap bnget kualitas nya, pengiriman juga cepat🤩 the best pokoknya\n",
      "alfijannah12\n",
      "5\n",
      "Bajunya baguuuss, bahannya tebel, harganya murah. Mantep banget. kiw kiw\n",
      "liawulandari91\n",
      "5\n",
      "Pesanan sesuai, pengiriman nya jg cpt bgt kemaren pesen skrg udh sampe, kurang nya cuma bahan nya kurang tebel menurut ku, tapi gpp suami ku oke2 aja.. makasih seller..\n",
      "hildasaf\n",
      "5\n",
      "Motif, warna, dan ukuran sesuai pesanan dan foto produk. Bahannya alus banget, mantaplah. Ps : XLnya ngga terlalu gede.\n",
      "vita_beautyskincare\n",
      "5\n",
      "Bajunya bagus bgt, gak terlalu tebel, di pake tuh nyaman, lumayan lahhh dengan harga nya, tapi tetep bagus kok makasih\n",
      "lisyaprilia\n",
      "5\n",
      "Alhamdulillah sudah diterima barangnyaa..suka banget..bajunya bagus bahannya tebel..pengiriman cepet..thanks seller \n",
      "almeerasstore\n",
      "5\n",
      "Mantep.. beli waktu diskon 12.12 bahannya baguuuuussss 👍 real pict , sesuai dgn barang yg dtg.\n"
     ]
    }
   ],
   "source": [
    "\n",
    "    print(params)\n",
    "    r = requests.get(url, params=params).json()\n",
    "    # print(json.dumps(r, indent=4))\n",
    "\n",
    "    i=1\n",
    "    for i,rating in enumerate(r['data']['ratings'],1):\n",
    "        print(rating['author_username'])\n",
    "        print(rating['rating_star'])\n",
    "        print(rating['comment'])\n",
    "        \n",
    "    # if i % 20:\n",
    "        # break\n",
    "    "
   ]
  },
  {
   "cell_type": "code",
   "execution_count": null,
   "metadata": {},
   "outputs": [],
   "source": []
  }
 ],
 "metadata": {
  "kernelspec": {
   "display_name": "Python 3",
   "language": "python",
   "name": "python3"
  },
  "language_info": {
   "codemirror_mode": {
    "name": "ipython",
    "version": 3
   },
   "file_extension": ".py",
   "mimetype": "text/x-python",
   "name": "python",
   "nbconvert_exporter": "python",
   "pygments_lexer": "ipython3",
   "version": "3.10.9"
  },
  "orig_nbformat": 4
 },
 "nbformat": 4,
 "nbformat_minor": 2
}

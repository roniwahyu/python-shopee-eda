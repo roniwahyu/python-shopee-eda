{
  "cells": [
    {
      "cell_type": "code",
      "execution_count": 2,
      "metadata": {
        "colab": {
          "base_uri": "https://localhost:8080/"
        },
        "id": "pIrEXjmVFqsA",
        "outputId": "66e2315d-ee8d-4048-83b5-c15de35e34ab"
      },
      "outputs": [
        {
          "name": "stderr",
          "output_type": "stream",
          "text": [
            "[nltk_data] Downloading package punkt to\n",
            "[nltk_data]     C:\\Users\\LENOVO\\AppData\\Roaming\\nltk_data...\n",
            "[nltk_data]   Package punkt is already up-to-date!\n",
            "[nltk_data] Downloading package stopwords to\n",
            "[nltk_data]     C:\\Users\\LENOVO\\AppData\\Roaming\\nltk_data...\n",
            "[nltk_data]   Package stopwords is already up-to-date!\n"
          ]
        }
      ],
      "source": [
        "# Load necessary library and module\n",
        "import warnings\n",
        "warnings.filterwarnings('ignore')\n",
        "\n",
        "import sys\n",
        "import pandas as pd\n",
        "import seaborn as sns\n",
        "import numpy as np\n",
        "import matplotlib as mpl\n",
        "import matplotlib.pyplot as plt\n",
        "import re\n",
        "import string\n",
        "import unicodedata\n",
        "import nltk\n",
        "import sklearn\n",
        "\n",
        "nltk.download('punkt')\n",
        "nltk.download('stopwords')\n",
        "from nltk.tokenize import word_tokenize\n",
        "from nltk.corpus import stopwords\n",
        "from sklearn.preprocessing import LabelEncoder\n",
        "from sklearn.model_selection import train_test_split\n",
        "from sklearn.feature_extraction.text import TfidfVectorizer,CountVectorizer\n",
        "from sklearn.metrics import classification_report, confusion_matrix, accuracy_score\n",
        "\n",
        "%matplotlib inline\n",
        "# %load_ext google.colab.data_table"
      ]
    },
    {
      "cell_type": "code",
      "execution_count": null,
      "metadata": {
        "id": "UDspVv8BnLM0"
      },
      "outputs": [],
      "source": [
        "# from google.colab import drive\n",
        "# drive.mount('/content/gdrive/', force_remount=True)"
      ]
    },
    {
      "cell_type": "code",
      "execution_count": null,
      "metadata": {
        "id": "67VRhA--FhdN"
      },
      "outputs": [],
      "source": [
        "# %cd /content/gdrive/MyDrive/Colab Notebooks/Perintis-GoogleAppsReview/dataset\n",
        "#MyDrive/Colab Notebooks/Perintis-GoogleAppsReview/dataset"
      ]
    },
    {
      "cell_type": "code",
      "execution_count": 3,
      "metadata": {
        "id": "PaFAUzxdgk0r"
      },
      "outputs": [],
      "source": [
        "mlbb = pd.read_csv('dataset/mlbb_clean_content_after_preprocessing_20062022.csv',encoding='utf-8')\n",
        "ffm = pd.read_csv('dataset/ffm_clean_content_after_preprocessing_20062022.csv')#, encoding='ISO-8859-1')\n",
        "hdi = pd.read_csv('dataset/hdi_clean_content_after_preprocessing_20062022.csv')#, encoding='ISO-8859-1')"
      ]
    },
    {
      "cell_type": "code",
      "execution_count": 4,
      "metadata": {
        "id": "JP-21Uyanjf1"
      },
      "outputs": [],
      "source": [
        "mlbb = mlbb[['content','clean_content','score','sentiment','polarity']]\n",
        "ffm = ffm[['content', 'clean_content','score','sentiment','polarity']]\n",
        "hdi = hdi[['content', 'clean_content','score','sentiment','polarity']]\n",
        "#blibli = blibli[['content', 'score']]\n",
        "# blibli.head()\n",
        "#mlbb.head()\n",
        "#ffm.head()"
      ]
    },
    {
      "cell_type": "code",
      "execution_count": 8,
      "metadata": {
        "colab": {
          "base_uri": "https://localhost:8080/"
        },
        "id": "BKTdF2riqfxt",
        "outputId": "58577b05-8d90-480e-e384-0fffa0ab6c49"
      },
      "outputs": [
        {
          "data": {
            "text/plain": [
              "content           0\n",
              "clean_content    35\n",
              "polarity          0\n",
              "dtype: int64"
            ]
          },
          "execution_count": 8,
          "metadata": {},
          "output_type": "execute_result"
        }
      ],
      "source": [
        "cat_category = [feature for feature in mlbb.columns if mlbb[feature].dtypes == \"O\"]\n",
        "mlbb[cat_category].isnull().sum()"
      ]
    },
    {
      "cell_type": "code",
      "execution_count": 6,
      "metadata": {
        "colab": {
          "base_uri": "https://localhost:8080/"
        },
        "id": "TJAN4MkSe3J1",
        "outputId": "946183cd-807b-42db-aee8-65c00986f8a0"
      },
      "outputs": [
        {
          "data": {
            "text/plain": [
              "content           0\n",
              "clean_content    66\n",
              "polarity          0\n",
              "dtype: int64"
            ]
          },
          "execution_count": 6,
          "metadata": {},
          "output_type": "execute_result"
        }
      ],
      "source": [
        "cat_category = [feature for feature in ffm.columns if ffm[feature].dtypes == \"O\"]\n",
        "ffm[cat_category].isnull().sum()"
      ]
    },
    {
      "cell_type": "code",
      "execution_count": 7,
      "metadata": {
        "colab": {
          "base_uri": "https://localhost:8080/"
        },
        "id": "DQfVRXOWe6Yp",
        "outputId": "13ca170a-8580-4891-84db-38e263b859eb"
      },
      "outputs": [
        {
          "data": {
            "text/plain": [
              "content            0\n",
              "clean_content    101\n",
              "polarity           0\n",
              "dtype: int64"
            ]
          },
          "execution_count": 7,
          "metadata": {},
          "output_type": "execute_result"
        }
      ],
      "source": [
        "cat_category = [feature for feature in hdi.columns if hdi[feature].dtypes == \"O\"]\n",
        "hdi[cat_category].isnull().sum()"
      ]
    },
    {
      "cell_type": "code",
      "execution_count": 10,
      "metadata": {
        "id": "qhZsckoeqldm"
      },
      "outputs": [
        {
          "data": {
            "text/plain": [
              "content           0\n",
              "clean_content    35\n",
              "score             0\n",
              "sentiment         0\n",
              "polarity          0\n",
              "dtype: int64"
            ]
          },
          "execution_count": 10,
          "metadata": {},
          "output_type": "execute_result"
        }
      ],
      "source": [
        "mlbb.isnull().sum()#.values()"
      ]
    },
    {
      "cell_type": "markdown",
      "metadata": {
        "id": "_WoSpjwMVrA-"
      },
      "source": [
        "# Remove NULL Values"
      ]
    },
    {
      "cell_type": "code",
      "execution_count": 13,
      "metadata": {
        "id": "8tmK40LVgXIv"
      },
      "outputs": [],
      "source": [
        "mlbb= mlbb[mlbb['clean_content'].notna()]\n",
        "mlbb['clean_content'].dropna(inplace=True)\n",
        "# ffm= ffm[ffm['clean_content'].notna(inplace=True)]\n",
        "# hdi= hdi[hdi['clean_content'].notna(inplace=True)]"
      ]
    },
    {
      "cell_type": "code",
      "execution_count": 15,
      "metadata": {
        "colab": {
          "base_uri": "https://localhost:8080/"
        },
        "id": "IQMUPiKHEJWi",
        "outputId": "a0329b55-999a-4fa3-c1bd-f7772c75a7de"
      },
      "outputs": [
        {
          "data": {
            "text/plain": [
              "content          0\n",
              "clean_content    0\n",
              "score            0\n",
              "sentiment        0\n",
              "polarity         0\n",
              "dtype: int64"
            ]
          },
          "execution_count": 15,
          "metadata": {},
          "output_type": "execute_result"
        }
      ],
      "source": [
        "# mlbb.shape\n",
        "mlbb.isnull().sum()#.values()"
      ]
    },
    {
      "cell_type": "code",
      "execution_count": null,
      "metadata": {
        "colab": {
          "base_uri": "https://localhost:8080/"
        },
        "id": "jgzYI9pafAcx",
        "outputId": "9dc5e3b4-1991-4b6c-ea06-75ac7c57aca7"
      },
      "outputs": [],
      "source": [
        "# ffm.shape"
      ]
    },
    {
      "cell_type": "code",
      "execution_count": null,
      "metadata": {
        "colab": {
          "base_uri": "https://localhost:8080/"
        },
        "id": "YdCAiAiCgQYX",
        "outputId": "19d9a31f-b124-47f2-dedb-bbff18e7b6bb"
      },
      "outputs": [],
      "source": [
        "# hdi.shape"
      ]
    },
    {
      "cell_type": "code",
      "execution_count": 16,
      "metadata": {
        "id": "a1sTiNibAgZX"
      },
      "outputs": [
        {
          "name": "stdout",
          "output_type": "stream",
          "text": [
            "<class 'pandas.core.frame.DataFrame'>\n",
            "Int64Index: 1165 entries, 0 to 1199\n",
            "Data columns (total 5 columns):\n",
            " #   Column         Non-Null Count  Dtype \n",
            "---  ------         --------------  ----- \n",
            " 0   content        1165 non-null   object\n",
            " 1   clean_content  1165 non-null   object\n",
            " 2   score          1165 non-null   int64 \n",
            " 3   sentiment      1165 non-null   int64 \n",
            " 4   polarity       1165 non-null   object\n",
            "dtypes: int64(2), object(3)\n",
            "memory usage: 54.6+ KB\n"
          ]
        },
        {
          "data": {
            "text/html": [
              "<div>\n",
              "<style scoped>\n",
              "    .dataframe tbody tr th:only-of-type {\n",
              "        vertical-align: middle;\n",
              "    }\n",
              "\n",
              "    .dataframe tbody tr th {\n",
              "        vertical-align: top;\n",
              "    }\n",
              "\n",
              "    .dataframe thead th {\n",
              "        text-align: right;\n",
              "    }\n",
              "</style>\n",
              "<table border=\"1\" class=\"dataframe\">\n",
              "  <thead>\n",
              "    <tr style=\"text-align: right;\">\n",
              "      <th></th>\n",
              "      <th>content</th>\n",
              "      <th>clean_content</th>\n",
              "      <th>score</th>\n",
              "      <th>sentiment</th>\n",
              "      <th>polarity</th>\n",
              "    </tr>\n",
              "  </thead>\n",
              "  <tbody>\n",
              "    <tr>\n",
              "      <th>0</th>\n",
              "      <td>I'd rate higher but there's a problem, everyti...</td>\n",
              "      <td>rate higher problem everytime hold heros abili...</td>\n",
              "      <td>1</td>\n",
              "      <td>0</td>\n",
              "      <td>negative</td>\n",
              "    </tr>\n",
              "    <tr>\n",
              "      <th>1</th>\n",
              "      <td>just recently, it can't even start a game. It ...</td>\n",
              "      <td>recently even start game always crashed hero s...</td>\n",
              "      <td>1</td>\n",
              "      <td>0</td>\n",
              "      <td>negative</td>\n",
              "    </tr>\n",
              "    <tr>\n",
              "      <th>2</th>\n",
              "      <td>The game is fun, interesting, has a lot of her...</td>\n",
              "      <td>game interesting heroes recently game bugs man...</td>\n",
              "      <td>1</td>\n",
              "      <td>0</td>\n",
              "      <td>negative</td>\n",
              "    </tr>\n",
              "    <tr>\n",
              "      <th>3</th>\n",
              "      <td>Its been more than 4 years im playing this gam...</td>\n",
              "      <td>years playing game never went previously whene...</td>\n",
              "      <td>1</td>\n",
              "      <td>0</td>\n",
              "      <td>negative</td>\n",
              "    </tr>\n",
              "    <tr>\n",
              "      <th>4</th>\n",
              "      <td>You know what? I don't care anymore. The devel...</td>\n",
              "      <td>know care anymore developer never played aroun...</td>\n",
              "      <td>1</td>\n",
              "      <td>0</td>\n",
              "      <td>negative</td>\n",
              "    </tr>\n",
              "  </tbody>\n",
              "</table>\n",
              "</div>"
            ],
            "text/plain": [
              "                                             content  \\\n",
              "0  I'd rate higher but there's a problem, everyti...   \n",
              "1  just recently, it can't even start a game. It ...   \n",
              "2  The game is fun, interesting, has a lot of her...   \n",
              "3  Its been more than 4 years im playing this gam...   \n",
              "4  You know what? I don't care anymore. The devel...   \n",
              "\n",
              "                                       clean_content  score  sentiment  \\\n",
              "0  rate higher problem everytime hold heros abili...      1          0   \n",
              "1  recently even start game always crashed hero s...      1          0   \n",
              "2  game interesting heroes recently game bugs man...      1          0   \n",
              "3  years playing game never went previously whene...      1          0   \n",
              "4  know care anymore developer never played aroun...      1          0   \n",
              "\n",
              "   polarity  \n",
              "0  negative  \n",
              "1  negative  \n",
              "2  negative  \n",
              "3  negative  \n",
              "4  negative  "
            ]
          },
          "execution_count": 16,
          "metadata": {},
          "output_type": "execute_result"
        }
      ],
      "source": [
        "mlbb.info()\n",
        "mlbb.head()"
      ]
    },
    {
      "cell_type": "code",
      "execution_count": 17,
      "metadata": {
        "colab": {
          "base_uri": "https://localhost:8080/"
        },
        "id": "g7_OmFR6qo2t",
        "outputId": "64c1ed4b-44f8-44bb-edfd-82cb42ce01ff"
      },
      "outputs": [
        {
          "data": {
            "text/plain": [
              "3    387\n",
              "1    199\n",
              "2    195\n",
              "5    195\n",
              "4    189\n",
              "Name: score, dtype: int64"
            ]
          },
          "execution_count": 17,
          "metadata": {},
          "output_type": "execute_result"
        }
      ],
      "source": [
        "mlbb.score.value_counts()\n"
      ]
    },
    {
      "cell_type": "code",
      "execution_count": null,
      "metadata": {
        "colab": {
          "base_uri": "https://localhost:8080/"
        },
        "id": "6IGve94oh1b7",
        "outputId": "66a0aaec-9d1b-4643-b8b2-f4040f47f133"
      },
      "outputs": [],
      "source": [
        "# ffm.score.value_counts()"
      ]
    },
    {
      "cell_type": "code",
      "execution_count": null,
      "metadata": {
        "colab": {
          "base_uri": "https://localhost:8080/"
        },
        "id": "JdvwKdk_h4Hf",
        "outputId": "2d9cbd1d-9376-4624-e274-03a202571f29"
      },
      "outputs": [],
      "source": [
        "# hdi.score.value_counts()"
      ]
    },
    {
      "cell_type": "code",
      "execution_count": 18,
      "metadata": {
        "colab": {
          "base_uri": "https://localhost:8080/"
        },
        "id": "weMR30A0Dzh0",
        "outputId": "f2fee6e2-211d-4a11-fc28-0800a7d65e6d"
      },
      "outputs": [
        {
          "data": {
            "text/plain": [
              "0    394\n",
              "1    387\n",
              "2    384\n",
              "Name: sentiment, dtype: int64"
            ]
          },
          "execution_count": 18,
          "metadata": {},
          "output_type": "execute_result"
        }
      ],
      "source": [
        "mlbb.sentiment.value_counts()"
      ]
    },
    {
      "cell_type": "code",
      "execution_count": null,
      "metadata": {
        "colab": {
          "base_uri": "https://localhost:8080/"
        },
        "id": "tCG3IUAijWEd",
        "outputId": "7a399b4f-6c44-44f9-d50c-42a46fe918ec"
      },
      "outputs": [],
      "source": [
        "# ffm.sentiment.value_counts()"
      ]
    },
    {
      "cell_type": "code",
      "execution_count": null,
      "metadata": {
        "colab": {
          "base_uri": "https://localhost:8080/"
        },
        "id": "GsJWAXuejYCm",
        "outputId": "7cf870eb-222d-4259-88fb-56d6bada5d74"
      },
      "outputs": [],
      "source": [
        "# hdi.sentiment.value_counts()"
      ]
    },
    {
      "cell_type": "code",
      "execution_count": 19,
      "metadata": {
        "id": "8QmSrIUGoNTZ"
      },
      "outputs": [],
      "source": [
        "class_names = ['negative', 'positive']"
      ]
    },
    {
      "cell_type": "markdown",
      "metadata": {
        "id": "0JLpNwKaZ1c2"
      },
      "source": [
        "# Word Lenght"
      ]
    },
    {
      "cell_type": "code",
      "execution_count": 20,
      "metadata": {
        "id": "YV2LKtnqE_mY"
      },
      "outputs": [],
      "source": [
        "from tqdm._tqdm_notebook import tqdm_notebook"
      ]
    },
    {
      "cell_type": "code",
      "execution_count": 21,
      "metadata": {
        "id": "IUsdv8JmZuqr"
      },
      "outputs": [],
      "source": [
        "tqdm_notebook.pandas()\n",
        "def count_words(x):\n",
        "    words = word_tokenize(x)\n",
        "    n=len(words)\n",
        "    return n"
      ]
    },
    {
      "cell_type": "code",
      "execution_count": 22,
      "metadata": {
        "colab": {
          "base_uri": "https://localhost:8080/",
          "height": 81,
          "referenced_widgets": [
            "447a88c57fb6492db9d155c379d5dc56",
            "98a6ee999da744418a4f7cb0f9d316f8",
            "455f6f44682f445bac815d269729f65c",
            "355999359ab94e47ae32ba4cf059d39a",
            "f53e4dad14d14d59bfc78c2aeb1ec314",
            "16232be79cfb440a8af059af26b065f1",
            "7e19570f6fe141d58fccc20a000338a3",
            "97d93bab1ab74bfea956af11b8152441",
            "fab3504d23c142d085056ab7d88d780e",
            "877e4d9d9391438d8cf529b21232412c",
            "4b8619e8a24345b5a264035286e491e4",
            "e5fb39f497464a00af4c6cabe45c49f2",
            "87f68453734a41f4815e046e01678806",
            "d9c511105d6a49adbc90718d6221b3c3",
            "7301c66059bb413cba8bf90b51e6aed3",
            "5b31e41df9d64649a806f90496791977",
            "72ca03abe8e84042851556b76fbdc97a",
            "9cf5dcacf16f471b9fea16e887173449",
            "dc606307e6aa4df888a8450576ede53a",
            "1193d041882a41faa14f477235d6e723",
            "af96c24ff9fc4dd283069e1eee5e5962",
            "a33f4e1777e84be28a8fc6566d3440d9"
          ]
        },
        "id": "eNwe4pdrZ0gt",
        "outputId": "2559b1a7-d8b4-48df-f8fc-61d0e61a67db"
      },
      "outputs": [
        {
          "data": {
            "application/vnd.jupyter.widget-view+json": {
              "model_id": "5be629e2406645bca77e2b8fb91e6e5f",
              "version_major": 2,
              "version_minor": 0
            },
            "text/plain": [
              "  0%|          | 0/1165 [00:00<?, ?it/s]"
            ]
          },
          "metadata": {},
          "output_type": "display_data"
        },
        {
          "data": {
            "application/vnd.jupyter.widget-view+json": {
              "model_id": "6daef9f0383848afbc9b0ba0d1d0de8d",
              "version_major": 2,
              "version_minor": 0
            },
            "text/plain": [
              "  0%|          | 0/1165 [00:00<?, ?it/s]"
            ]
          },
          "metadata": {},
          "output_type": "display_data"
        }
      ],
      "source": [
        "mlbb['word_length'] = mlbb['clean_content'].progress_apply(str).progress_apply(lambda x:count_words(x))"
      ]
    },
    {
      "cell_type": "code",
      "execution_count": null,
      "metadata": {
        "colab": {
          "base_uri": "https://localhost:8080/",
          "height": 81,
          "referenced_widgets": [
            "debca4ad4bbf48d1af33b80b1d457b69",
            "60a400f7311649949568dd82d828130e",
            "c6a6408249634a0c977f344bf6d75263",
            "05aeebd0fe4d4eb599b2fc3a7403a6f4",
            "3883a72334054233bdac9d0f7d0387e4",
            "8b585c088dce4c9eb9fd9e8bbb4891d3",
            "6d579be14c6949d1a3e035e9a58fcc21",
            "325578f72faa4452a74885e30d53b51d",
            "fc40362749c44e81ac4c4d6833bd29a0",
            "b1cf6819443d47e2ab6582f929099ab1",
            "ac7e45dded2a4c2db0da4c55c98241ba",
            "45de5fd716044284afb8c7509c6b9817",
            "11bf5c1c8e08406ca6fdd5903683aeb0",
            "6ebacdc4291a4a3bb70a3540a55c62a9",
            "e42a3e6068184a168a9c89273ae110ec",
            "31528ac8a38746688d269da4d616f70b",
            "05d33988374c4c979cf7326308f0fc29",
            "317b61a8c73a4153ae2faf47d7a6e245",
            "a66723a6b65b4e4a97efd87acd31c689",
            "705fc7ef04094f3c90d99e2d11a80ebe",
            "5c8e0751c59f46bcaaaecd78f33920d3",
            "1d50a91ed8234f11aaf43976ccfe6026"
          ]
        },
        "id": "O9VFS5vnkfnr",
        "outputId": "12e89528-73c5-4f03-8fe2-64987475e74a"
      },
      "outputs": [],
      "source": [
        "# ffm['word_length'] = ffm['clean_content'].progress_apply(str).progress_apply(lambda x:count_words(x))"
      ]
    },
    {
      "cell_type": "code",
      "execution_count": null,
      "metadata": {
        "colab": {
          "base_uri": "https://localhost:8080/",
          "height": 81,
          "referenced_widgets": [
            "72000679f4ce45ababa8b9f1a5e2b6f4",
            "15b195a795a44038bf4e89b676ba3e18",
            "2b34ad6bece2456299a162e90d3f951f",
            "5dec0461de6a4cc499a67696b451dffa",
            "b35f9c6d4bff4d269b34088e0c8753d5",
            "70f5108861604d6ca03acd6d2a4d8f51",
            "cd8180a83f5c4b17a0e2a1dc59091339",
            "17303a35ff2e4cc7a7c635af7c75bf6b",
            "45235d29ec4645179f072c36414c9edc",
            "79b7d1bd00a345b3811e32b54a769cd7",
            "d0e0e861306f4a45b7dfd4599e0daaf0",
            "8d8e88ef79b548489cfc4d9b2ddcf61f",
            "e35e0b20d5f2445783cf3acdd9c6749c",
            "d3558516df7c4782b2f5260b67fda6f7",
            "bb17f360f84f4b629b3af6dc6a3a2850",
            "948c7eef2d844bf7ba8a3b9abe3b3878",
            "6d2abe9737544fa08844b7217156bed8",
            "77c772de088544b0a9fa35b37717d228",
            "cdf8e1d921284ea88a40dcb342e4167c",
            "ae7b4d21ca9645839952611d7dc85d11",
            "ff140ba9623e46f488f40c8c8da28207",
            "ab14e068a8fd4969bb392cc669a7f378"
          ]
        },
        "id": "H8NXlDF5lH3j",
        "outputId": "4f65a82e-eeab-488d-c52e-d85d97ce2c6e"
      },
      "outputs": [],
      "source": [
        "# hdi['word_length'] = hdi['clean_content'].progress_apply(str).progress_apply(lambda x:count_words(x))"
      ]
    },
    {
      "cell_type": "code",
      "execution_count": 23,
      "metadata": {
        "colab": {
          "base_uri": "https://localhost:8080/"
        },
        "id": "MqG6UQwAbVQt",
        "outputId": "6451a168-54dd-4046-9558-409119831529"
      },
      "outputs": [
        {
          "data": {
            "text/plain": [
              "1     99\n",
              "2     84\n",
              "3     57\n",
              "4     38\n",
              "5     37\n",
              "6     21\n",
              "7     24\n",
              "8     18\n",
              "9     29\n",
              "10    14\n",
              "11    12\n",
              "12    12\n",
              "13    14\n",
              "14    18\n",
              "15    17\n",
              "16    13\n",
              "17    23\n",
              "18    23\n",
              "19    32\n",
              "20    20\n",
              "21    22\n",
              "22    23\n",
              "23    24\n",
              "24    36\n",
              "25    18\n",
              "26    23\n",
              "27    20\n",
              "28    27\n",
              "29    24\n",
              "30    20\n",
              "31    30\n",
              "32    32\n",
              "33    18\n",
              "34    30\n",
              "35    18\n",
              "36    22\n",
              "37    26\n",
              "38    12\n",
              "39    18\n",
              "40    21\n",
              "41    20\n",
              "42    25\n",
              "43    13\n",
              "44    16\n",
              "45     4\n",
              "46     4\n",
              "47     2\n",
              "48     1\n",
              "49     1\n",
              "51     2\n",
              "52     2\n",
              "53     1\n",
              "55     1\n",
              "57     1\n",
              "58     2\n",
              "63     1\n",
              "Name: word_length, dtype: int64"
            ]
          },
          "execution_count": 23,
          "metadata": {},
          "output_type": "execute_result"
        }
      ],
      "source": [
        "mlbb['word_length'].value_counts().sort_index()"
      ]
    },
    {
      "cell_type": "code",
      "execution_count": null,
      "metadata": {
        "colab": {
          "base_uri": "https://localhost:8080/"
        },
        "id": "R-1njuPhkk0Y",
        "outputId": "c99969f7-f18b-4cd3-8672-d039b35fef90"
      },
      "outputs": [],
      "source": [
        "# ffm['word_length'].value_counts().sort_index()"
      ]
    },
    {
      "cell_type": "code",
      "execution_count": null,
      "metadata": {
        "colab": {
          "base_uri": "https://localhost:8080/"
        },
        "id": "gpzrM_dtlCrH",
        "outputId": "6ab1ab3a-0e06-44b1-eb4c-6ea2b884374c"
      },
      "outputs": [],
      "source": [
        "# hdi['word_length'].value_counts().sort_index()"
      ]
    },
    {
      "cell_type": "code",
      "execution_count": 24,
      "metadata": {
        "id": "0Txo2rfnbiNM"
      },
      "outputs": [],
      "source": [
        "#sama dengan dropna\n",
        "mlbb = mlbb.drop(mlbb[mlbb['word_length']==0].index,axis=0)\n",
        "mlbb = mlbb.reset_index(drop=True)\n",
        "# ffm = ffm.drop(ffm[ffm['word_length']==0].index,axis=0)\n",
        "# ffm = ffm.reset_index(drop=True)\n",
        "# hdi = hdi.drop(hdi[hdi['word_length']==0].index,axis=0)\n",
        "# hdi = hdi.reset_index(drop=True)"
      ]
    },
    {
      "cell_type": "code",
      "execution_count": 25,
      "metadata": {
        "colab": {
          "base_uri": "https://localhost:8080/"
        },
        "id": "HQsE16_TbJ3T",
        "outputId": "99179b4c-201c-42cc-fc8d-49dfb34684fd"
      },
      "outputs": [
        {
          "name": "stdout",
          "output_type": "stream",
          "text": [
            "<class 'pandas.core.frame.DataFrame'>\n",
            "RangeIndex: 1165 entries, 0 to 1164\n",
            "Data columns (total 6 columns):\n",
            " #   Column         Non-Null Count  Dtype \n",
            "---  ------         --------------  ----- \n",
            " 0   content        1165 non-null   object\n",
            " 1   clean_content  1165 non-null   object\n",
            " 2   score          1165 non-null   int64 \n",
            " 3   sentiment      1165 non-null   int64 \n",
            " 4   polarity       1165 non-null   object\n",
            " 5   word_length    1165 non-null   int64 \n",
            "dtypes: int64(3), object(3)\n",
            "memory usage: 54.7+ KB\n"
          ]
        }
      ],
      "source": [
        "mlbb.info()"
      ]
    },
    {
      "cell_type": "markdown",
      "metadata": {
        "id": "5H43qM3VcDII"
      },
      "source": [
        "# Word Tokenize"
      ]
    },
    {
      "cell_type": "code",
      "execution_count": null,
      "metadata": {
        "id": "qXi7V8QvcIiB"
      },
      "outputs": [],
      "source": [
        "mlbb_word_dict = {}\n",
        "for i in range(0,len(mlbb['clean_content'])):\n",
        "    sentence = mlbb['clean_content'][i]\n",
        "    word_token = word_tokenize(sentence)\n",
        "    for j in word_token:\n",
        "        if j not in mlbb_word_dict:\n",
        "            mlbb_word_dict[j] = 1\n",
        "        else:\n",
        "            mlbb_word_dict[j] += 1"
      ]
    },
    {
      "cell_type": "code",
      "execution_count": null,
      "metadata": {
        "id": "OZkTufEZlpsO"
      },
      "outputs": [],
      "source": [
        "ffm_word_dict = {}\n",
        "for i in range(0,len(ffm['clean_content'])):\n",
        "    sentence = ffm['clean_content'][i]\n",
        "    word_token = word_tokenize(sentence)\n",
        "    for j in word_token:\n",
        "        if j not in ffm_word_dict:\n",
        "            ffm_word_dict[j] = 1\n",
        "        else:\n",
        "            ffm_word_dict[j] += 1"
      ]
    },
    {
      "cell_type": "code",
      "execution_count": null,
      "metadata": {
        "id": "GoeTLC_OlrpA"
      },
      "outputs": [],
      "source": [
        "hdi_word_dict = {}\n",
        "for i in range(0,len(hdi['clean_content'])):\n",
        "    sentence = hdi['clean_content'][i]\n",
        "    word_token = word_tokenize(sentence)\n",
        "    for j in word_token:\n",
        "        if j not in hdi_word_dict:\n",
        "            hdi_word_dict[j] = 1\n",
        "        else:\n",
        "            hdi_word_dict[j] += 1"
      ]
    },
    {
      "cell_type": "code",
      "execution_count": null,
      "metadata": {
        "colab": {
          "base_uri": "https://localhost:8080/"
        },
        "id": "Z3KHLMIFc7gf",
        "outputId": "edb5ccf0-6ac0-468d-aaf9-48af4601aa2b"
      },
      "outputs": [],
      "source": [
        "len(mlbb_word_dict)\n",
        "print(mlbb_word_dict)\n",
        "mlbb_wd=pd.Series(mlbb_word_dict)\n",
        "mlbb_worddict_df = pd.DataFrame({'word':mlbb_wd.index, 'count':mlbb_wd.values})\n",
        "# mlbb_worddict_df.head()\n",
        "mlbb_worddict_df.to_csv( \"dataset/mlbb_worddict_clean_content_20062022.csv\", index=False, encoding='utf-8-sig')"
      ]
    },
    {
      "cell_type": "code",
      "execution_count": null,
      "metadata": {
        "colab": {
          "base_uri": "https://localhost:8080/"
        },
        "id": "gsDh7mBKmEv_",
        "outputId": "906bc554-93a3-4068-9d96-a6061e9c6601"
      },
      "outputs": [],
      "source": [
        "len(ffm_word_dict)\n",
        "print(ffm_word_dict)\n",
        "ffm_wd=pd.Series(ffm_word_dict)\n",
        "ffm_worddict_df = pd.DataFrame({'word':ffm_wd.index, 'count':ffm_wd.values})\n",
        "# ffm_worddict_df.head()\n",
        "ffm_worddict_df.to_csv( \"dataset/ffm_worddict_clean_content_20062022.csv\", index=False, encoding='utf-8-sig')"
      ]
    },
    {
      "cell_type": "code",
      "execution_count": null,
      "metadata": {
        "colab": {
          "base_uri": "https://localhost:8080/"
        },
        "id": "RZzUPwn_mHv2",
        "outputId": "4db5d422-b09c-4baa-cf6d-254ea7776860"
      },
      "outputs": [],
      "source": [
        "len(lazada_word_dict)\n",
        "print(lazada_word_dict)\n",
        "lazada_wd=pd.Series(lazada_word_dict)\n",
        "lazada_worddict_df = pd.DataFrame({'word':lazada_wd.index, 'count':lazada_wd.values})\n",
        "# lazada_worddict_df.head()\n",
        "lazada_worddict_df.to_csv( \"Perintis-GoogleAppsReview/lazada_worddict_clean_content_13012022.csv\", index=False, encoding='utf-8-sig')"
      ]
    },
    {
      "cell_type": "code",
      "execution_count": null,
      "metadata": {
        "colab": {
          "base_uri": "https://localhost:8080/"
        },
        "id": "01FbW_5GdCzN",
        "outputId": "966c9cb2-694a-43ca-96f1-3cb55e2c659f"
      },
      "outputs": [],
      "source": [
        "len({k:v for (k,v) in shopee_word_dict.items() if v < 4})"
      ]
    },
    {
      "cell_type": "code",
      "execution_count": null,
      "metadata": {
        "colab": {
          "base_uri": "https://localhost:8080/"
        },
        "id": "equFxj6voCke",
        "outputId": "7a135fb0-3aea-4d41-e33d-55d51fa01054"
      },
      "outputs": [],
      "source": [
        "len({k:v for (k,v) in toped_word_dict.items() if v < 4})"
      ]
    },
    {
      "cell_type": "code",
      "execution_count": null,
      "metadata": {
        "colab": {
          "base_uri": "https://localhost:8080/"
        },
        "id": "JEZGoTXUoDPw",
        "outputId": "dd59948e-411a-4319-b291-b80d7ea2724a"
      },
      "outputs": [],
      "source": [
        "len({k:v for (k,v) in lazada_word_dict.items() if v < 4})"
      ]
    },
    {
      "cell_type": "markdown",
      "metadata": {
        "id": "Vhi8w2w5dNzq"
      },
      "source": [
        "# Lexicon Negasi"
      ]
    },
    {
      "cell_type": "code",
      "execution_count": null,
      "metadata": {
        "id": "kGVegwIYdQVZ"
      },
      "outputs": [],
      "source": [
        "negasi = ['bukan','tidak','ga','gk','nggak','kagak','ndak','tdk']\n",
        "lexicon = pd.read_csv('Perintis-GoogleAppsReview/modified_full_lexicon.csv')\n",
        "lexicon = lexicon.drop(lexicon[(lexicon['word'] == 'bukan')\n",
        "                               |(lexicon['word'] == 'tidak')\n",
        "                               |(lexicon['word'] == 'tdk')\n",
        "                               |(lexicon['word'] == 'nggak')\n",
        "                               |(lexicon['word'] == 'kagak')\n",
        "                               |(lexicon['word'] == 'ndak')\n",
        "                               |(lexicon['word'] == 'ga')\n",
        "                               |(lexicon['word'] == 'gk') ].index,axis=0)\n",
        "shopee = shopee.reset_index(drop=True)\n",
        "toped = toped.reset_index(drop=True)\n",
        "lazada = lazada.reset_index(drop=True)"
      ]
    },
    {
      "cell_type": "code",
      "execution_count": null,
      "metadata": {
        "colab": {
          "base_uri": "https://localhost:8080/",
          "height": 637
        },
        "id": "gbFKAH0Tfzec",
        "outputId": "423afa33-bb56-449c-b009-c148c17b701d"
      },
      "outputs": [],
      "source": [
        "len(lexicon)\n",
        "lexicon.head(200)"
      ]
    },
    {
      "cell_type": "code",
      "execution_count": null,
      "metadata": {
        "id": "DssYQjH6f52S"
      },
      "outputs": [],
      "source": [
        "lexicon_word = lexicon['word'].to_list()\n",
        "lexicon_num_words = lexicon['number_of_words']"
      ]
    },
    {
      "cell_type": "code",
      "execution_count": null,
      "metadata": {
        "colab": {
          "base_uri": "https://localhost:8080/"
        },
        "id": "p0JUBUPnf9m1",
        "outputId": "2ab2d9ba-6c9b-4aed-9c03-d257dffc31eb"
      },
      "outputs": [],
      "source": [
        "len(lexicon_word)"
      ]
    },
    {
      "cell_type": "code",
      "execution_count": null,
      "metadata": {
        "colab": {
          "base_uri": "https://localhost:8080/"
        },
        "id": "ChQ8RjsqKAcT",
        "outputId": "3e30ec5b-aae8-4152-c507-38e11cae3baa"
      },
      "outputs": [],
      "source": [
        "print(lexicon_word)"
      ]
    },
    {
      "cell_type": "code",
      "execution_count": null,
      "metadata": {
        "colab": {
          "background_save": true
        },
        "id": "8vwvS-8EgM3R",
        "outputId": "0e9a102c-d1bd-414a-9d47-352c49651ec9"
      },
      "outputs": [],
      "source": [
        "ns_words_shopee = []\n",
        "factory = StemmerFactory()\n",
        "stemmer = factory.create_stemmer()\n",
        "for word in shopee_word_dict.keys():\n",
        "    if word not in lexicon_word:\n",
        "        kata_dasar = stemmer.stem(word)\n",
        "        if kata_dasar not in lexicon_word:\n",
        "            ns_words_shopee.append(word)\n",
        "            \n",
        "len(ns_words_shopee)\n"
      ]
    },
    {
      "cell_type": "code",
      "execution_count": null,
      "metadata": {
        "id": "sXgd42RYY1FJ"
      },
      "outputs": [],
      "source": [
        "# print(ns_words_shopee)\n",
        "ns_shopee=pd.DataFrame(ns_words_shopee,columns=['lexicon'])\n",
        "ns_shopee.to_csv( \"Perintis-GoogleAppsReview/dataset/lexicon_shopee_clean_content_oke_13012022.csv\", index=False, encoding='utf-8-sig')"
      ]
    },
    {
      "cell_type": "code",
      "execution_count": null,
      "metadata": {
        "colab": {
          "base_uri": "https://localhost:8080/"
        },
        "id": "erobFPMFocix",
        "outputId": "76ec09d3-761f-48a7-8176-7ba176db061d"
      },
      "outputs": [],
      "source": [
        "ns_words_toped = []\n",
        "factory = StemmerFactory()\n",
        "stemmer = factory.create_stemmer()\n",
        "for word in toped_word_dict.keys():\n",
        "    if word not in lexicon_word:\n",
        "        kata_dasar = stemmer.stem(word)\n",
        "        if kata_dasar not in lexicon_word:\n",
        "            ns_words_toped.append(word)\n",
        "            \n",
        "len(ns_words_toped)"
      ]
    },
    {
      "cell_type": "code",
      "execution_count": null,
      "metadata": {
        "id": "lrX4Ec0nfMms"
      },
      "outputs": [],
      "source": [
        "# print(ns_words_shopee)\n",
        "ns_toped=pd.DataFrame(ns_words_toped,columns=['lexicon'])\n",
        "ns_toped.to_csv( \"Perintis-GoogleAppsReview/dataset/lexicon_toped_clean_content_oke_13012022.csv\", index=False, encoding='utf-8-sig')"
      ]
    },
    {
      "cell_type": "code",
      "execution_count": null,
      "metadata": {
        "colab": {
          "base_uri": "https://localhost:8080/"
        },
        "id": "qVkP4tg1oe4-",
        "outputId": "d37b1e84-066f-4177-8590-0454ff35f827"
      },
      "outputs": [],
      "source": [
        "ns_words_lazada = []\n",
        "factory = StemmerFactory()\n",
        "stemmer = factory.create_stemmer()\n",
        "for word in lazada_word_dict.keys():\n",
        "    if word not in lexicon_word:\n",
        "        kata_dasar = stemmer.stem(word)\n",
        "        if kata_dasar not in lexicon_word:\n",
        "            ns_words_lazada.append(word)\n",
        "            \n",
        "len(ns_words_lazada)"
      ]
    },
    {
      "cell_type": "code",
      "execution_count": null,
      "metadata": {
        "id": "6WX29x6WfX5N"
      },
      "outputs": [],
      "source": [
        "# print(ns_words_shopee)\n",
        "ns_lazada=pd.DataFrame(ns_words_lazada,columns=['lexicon'])\n",
        "ns_lazada.to_csv( \"Perintis-GoogleAppsReview/dataset/lexicon_lazada_clean_content_oke_13012022.csv\", index=False, encoding='utf-8-sig')"
      ]
    },
    {
      "cell_type": "code",
      "execution_count": null,
      "metadata": {
        "id": "FhJv3wbYECRu"
      },
      "outputs": [],
      "source": [
        "nswords_data.info()\n",
        "nswords_data.head()"
      ]
    },
    {
      "cell_type": "code",
      "execution_count": null,
      "metadata": {
        "colab": {
          "base_uri": "https://localhost:8080/"
        },
        "id": "IQKp-YEAgZan",
        "outputId": "84cf4197-b028-4f23-8c67-9bb8bed3b9ad"
      },
      "outputs": [],
      "source": [
        "len({k:v for (k,v) in shopee_word_dict.items() if ((k in ns_words_shopee)&(v>3)) })"
      ]
    },
    {
      "cell_type": "code",
      "execution_count": null,
      "metadata": {
        "id": "dPBRd_b6gb3o"
      },
      "outputs": [],
      "source": [
        "shopee_ns_words_list = {k:v for (k,v) in shopee_word_dict.items() if ((k in ns_words_shopee)&(v>3))}"
      ]
    },
    {
      "cell_type": "code",
      "execution_count": null,
      "metadata": {
        "colab": {
          "base_uri": "https://localhost:8080/"
        },
        "id": "1HOpS-HXgevB",
        "outputId": "d020d642-1b89-4915-c5e1-c177b17704b6"
      },
      "outputs": [],
      "source": [
        "sort_orders = sorted(shopee_ns_words_list.items(), key=lambda x: x[1], reverse=True)\n",
        "sort_orders=sort_orders[0:50]\n",
        "for i in sort_orders:\n",
        "    print(i[0], i[1])"
      ]
    },
    {
      "cell_type": "markdown",
      "metadata": {
        "id": "lXyzOdqTYzUe"
      },
      "source": [
        "# Wordcloud"
      ]
    },
    {
      "cell_type": "code",
      "execution_count": null,
      "metadata": {
        "id": "0tsqV73CYqHK"
      },
      "outputs": [],
      "source": [
        "from wordcloud import WordCloud"
      ]
    },
    {
      "cell_type": "code",
      "execution_count": null,
      "metadata": {},
      "outputs": [],
      "source": [
        "shopee_word_to_plot = shopee['clean_content'].copy()\n",
        "shopee_word_to_plot.head()"
      ]
    },
    {
      "cell_type": "code",
      "execution_count": null,
      "metadata": {
        "colab": {
          "base_uri": "https://localhost:8080/",
          "height": 466
        },
        "id": "d36lN3oUgjRd",
        "outputId": "3c4eb5f2-9eea-4b71-d6ee-9e79e61f0a6b"
      },
      "outputs": [],
      "source": [
        "\n",
        "shopee_word_to_plot_df=pd.DataFrame(shopee_word_to_plot)\n",
        "# print(shopee_word_to_plot)\n",
        "shopee_word_to_plot_df.head()\n",
        "shopee_wordcloud = WordCloud(width = 1024, height = 1024, background_color = 'white', max_words = 1200\n",
        "                      , min_font_size = 20).generate(str(shopee_word_to_plot))\n",
        "#plot the word cloud\n",
        "fig = plt.figure(figsize = (8,8), facecolor = None)\n",
        "plt.imshow(shopee_wordcloud)\n",
        "plt.axis('off')\n",
        "plt.show()"
      ]
    },
    {
      "cell_type": "code",
      "execution_count": null,
      "metadata": {
        "colab": {
          "base_uri": "https://localhost:8080/",
          "height": 466
        },
        "id": "Qx7but45scis",
        "outputId": "45793e0d-2d3e-4f68-bb95-8a262b8fdac6"
      },
      "outputs": [],
      "source": [
        "toped_word_to_plot = toped['clean_content'].copy()\n",
        "toped_word_to_plot_df=pd.DataFrame(toped_word_to_plot)\n",
        "# print(toped_word_to_plot)\n",
        "toped_word_to_plot_df.head()\n",
        "toped_wordcloud = WordCloud(width = 1024, height = 1024, background_color = 'white', max_words = 1200\n",
        "                      , min_font_size = 20).generate(str(toped_word_to_plot))\n",
        "#plot the word cloud\n",
        "fig = plt.figure(figsize = (8,8), facecolor = None)\n",
        "plt.imshow(toped_wordcloud)\n",
        "plt.axis('off')\n",
        "plt.show()"
      ]
    },
    {
      "cell_type": "code",
      "execution_count": null,
      "metadata": {
        "colab": {
          "base_uri": "https://localhost:8080/",
          "height": 466
        },
        "id": "KgAkkVXAsoIy",
        "outputId": "3153a2b3-efe0-4858-84d7-e3fea1b89e00"
      },
      "outputs": [],
      "source": [
        "lazada_word_to_plot = lazada['clean_content'].copy()\n",
        "lazada_word_to_plot_df=pd.DataFrame(lazada_word_to_plot)\n",
        "# print(lazada_word_to_plot)\n",
        "lazada_word_to_plot_df.head()\n",
        "lazada_wordcloud = WordCloud(width = 1024, height = 1024, background_color = 'white', max_words = 1200\n",
        "                      , min_font_size = 20).generate(str(lazada_word_to_plot))\n",
        "#plot the word cloud\n",
        "fig = plt.figure(figsize = (8,8), facecolor = None)\n",
        "plt.imshow(lazada_wordcloud)\n",
        "plt.axis('off')\n",
        "plt.show()"
      ]
    },
    {
      "cell_type": "markdown",
      "metadata": {
        "id": "vZ2sp5VrsZiS"
      },
      "source": [
        "# Lexicon"
      ]
    },
    {
      "cell_type": "code",
      "execution_count": null,
      "metadata": {
        "colab": {
          "base_uri": "https://localhost:8080/",
          "height": 1166
        },
        "id": "vvDcSD1G0Kwk",
        "outputId": "d72f3447-dcd9-4df6-f4f8-bc1714210fd1"
      },
      "outputs": [],
      "source": [
        "toped.head(300)"
      ]
    },
    {
      "cell_type": "code",
      "execution_count": null,
      "metadata": {
        "colab": {
          "base_uri": "https://localhost:8080/"
        },
        "id": "CnzvCmDXKJ4m",
        "outputId": "cfe2d01b-6c9d-4ee8-da9d-fda2125d14d6"
      },
      "outputs": [],
      "source": [
        "lexicon['number_of_words'].value_counts()"
      ]
    },
    {
      "cell_type": "code",
      "execution_count": null,
      "metadata": {
        "id": "Iok0SlIELcI0"
      },
      "outputs": [],
      "source": [
        "cek_shopee = pd.DataFrame([])\n",
        "cek_shopee['content'] = shopee['content'].copy()\n",
        "cek_shopee['clean_content'] = shopee['clean_content'].copy()\n",
        "cek_shopee['score'] = shopee['score'].copy()\n",
        "cek_shopee['sentiment']  = shopee['sentiment'].copy() #cek sentimens sebelum diproses lexicon to sentimen\n",
        "cek_shopee.sample(200)"
      ]
    },
    {
      "cell_type": "code",
      "execution_count": null,
      "metadata": {
        "colab": {
          "base_uri": "https://localhost:8080/",
          "height": 319
        },
        "id": "wxPabJFULA0i",
        "outputId": "ea53d683-2e6a-4346-8d65-2c34305ea976"
      },
      "outputs": [],
      "source": [
        "sns.set(style=\"white\", palette=\"muted\", color_codes=True)\n",
        "sns.kdeplot(shopee['sentiment'],color='r',shade=True)\n",
        "plt.title('Sentiment Distribution')\n",
        "plt.xlabel('sentiment')"
      ]
    },
    {
      "cell_type": "code",
      "execution_count": null,
      "metadata": {
        "colab": {
          "base_uri": "https://localhost:8080/",
          "height": 303
        },
        "id": "B8sU4Q6GLLO_",
        "outputId": "9ba909ec-7215-4bcb-b7de-be45ac424e09"
      },
      "outputs": [],
      "source": [
        "sns.set(style=\"whitegrid\") \n",
        "sns.boxplot(x=shopee['sentiment'])"
      ]
    },
    {
      "cell_type": "code",
      "execution_count": null,
      "metadata": {
        "colab": {
          "base_uri": "https://localhost:8080/",
          "height": 600
        },
        "id": "4o8m287qKSRq",
        "outputId": "5d600e30-28dd-4627-863e-12c5d843f492"
      },
      "outputs": [],
      "source": [
        "df=shopee\n",
        "sencol =[]\n",
        "senrow =np.array([])\n",
        "nsen = 0\n",
        "factory = StemmerFactory()\n",
        "stemmer = factory.create_stemmer()\n",
        "sentiment_list = []\n",
        "# function to write the word's sentiment if it is founded\n",
        "def found_word(ind,words,word,sen,sencol,sentiment,add):\n",
        "    # if it is already included in the bag of words matrix, then just increase the value\n",
        "    if word in sencol:\n",
        "        sen[sencol.index(word)] += 1\n",
        "    else:\n",
        "    #if not, than add new word\n",
        "        sencol.append(word)\n",
        "        sen.append(1)\n",
        "        add += 1\n",
        "    #if there is a negation word before it, the sentiment would be the negation of it's sentiment\n",
        "    if (words[ind-1] in negasi):\n",
        "        sentiment += -lexicon['weight'][lexicon_word.index(word)]\n",
        "    else:\n",
        "        sentiment += lexicon['weight'][lexicon_word.index(word)]\n",
        "    \n",
        "    return sen,sencol,sentiment,add\n",
        "            \n",
        "# checking every words, if they are appear in the lexicon, and then calculate their sentiment if they do\n",
        "for i in range(len(df)):\n",
        "    nsen = senrow.shape[0]\n",
        "    words = word_tokenize(df['clean_content'][i])\n",
        "    sentiment = 0 \n",
        "    add = 0\n",
        "    prev = [0 for ii in range(len(words))]\n",
        "    n_words = len(words)\n",
        "    if len(sencol)>0:\n",
        "        sen =[0 for j in range(len(sencol))]\n",
        "    else:\n",
        "        sen =[]\n",
        "    \n",
        "    for word in words:\n",
        "        ind = words.index(word)\n",
        "        # check whether they are included in the lexicon\n",
        "        if word in lexicon_word :\n",
        "            sen,sencol,sentiment,add= found_word(ind,words,word,sen,sencol,sentiment,add)\n",
        "        else:\n",
        "        # if not, then check the root word\n",
        "            kata_dasar = stemmer.stem(word)\n",
        "            if kata_dasar in lexicon_word:\n",
        "                sen,sencol,sentiment,add= found_word(ind,words,kata_dasar,sen,sencol,sentiment,add)\n",
        "        # if still negative, try to match the combination of words with the adjacent words\n",
        "            elif(n_words>1):\n",
        "                if ind-1>-1:\n",
        "                    back_1    = words[ind-1]+' '+word\n",
        "                    if (back_1 in lexicon_word):\n",
        "                        sen,sencol,sentiment,add= found_word(ind,words,back_1,sen,sencol,sentiment,add)\n",
        "                    elif(ind-2>-1):\n",
        "                        back_2    = words[ind-2]+' '+back_1\n",
        "                        if back_2 in lexicon_word:\n",
        "                            sen,sencol,sentiment,add= found_word(ind,words,back_2,sen,sencol,sentiment,add)\n",
        "    # if there is new word founded, then expand the matrix\n",
        "    if add>0:  \n",
        "        if i>0:\n",
        "            if (nsen==0):\n",
        "                senrow = np.zeros([i,add],dtype=int)\n",
        "            elif(i!=nsen):\n",
        "                padding_h = np.zeros([nsen,add],dtype=int)\n",
        "                senrow = np.hstack((senrow,padding_h))\n",
        "                padding_v = np.zeros([(i-nsen),senrow.shape[1]],dtype=int)\n",
        "                senrow = np.vstack((senrow,padding_v))\n",
        "            else:\n",
        "                padding =np.zeros([nsen,add],dtype=int)\n",
        "                senrow = np.hstack((senrow,padding))\n",
        "            senrow = np.vstack((senrow,sen))\n",
        "        if i==0:\n",
        "            senrow = np.array(sen).reshape(1,len(sen))\n",
        "    # if there isn't then just update the old matrix\n",
        "    elif(nsen>0):\n",
        "        senrow = np.vstack((senrow,sen))\n",
        "        \n",
        "    sentiment_list.append(sentiment)"
      ]
    },
    {
      "cell_type": "markdown",
      "metadata": {
        "id": "reX1mg3vVdpq"
      },
      "source": [
        "# Define Feature Matrix and Target Matrix"
      ]
    },
    {
      "cell_type": "markdown",
      "metadata": {
        "id": "MkQarHdEVitX"
      },
      "source": [
        "Split Training And Testing Dataset"
      ]
    },
    {
      "cell_type": "code",
      "execution_count": null,
      "metadata": {
        "colab": {
          "base_uri": "https://localhost:8080/"
        },
        "id": "hkNCmNaen9OV",
        "outputId": "279952bc-306b-4e34-ea9e-9d8b2b59c1f1"
      },
      "outputs": [],
      "source": [
        "\n",
        "X = mlbb['clean_content']     # Define feature matrix\n",
        "y = mlbb['sentiment']         # Define target feature matrix\n",
        "\n",
        "X_train, X_test, y_train, y_test = train_test_split(X, y, test_size=0.7, random_state=0, stratify=y)\n",
        "\n",
        "print('[INFO] Sebaran kelas pada training set: negatif={}, netral={}, dan positif={}'.format(sum(y_train==0), sum(y_train==1), sum(y_train==2)))\n",
        "print('[INFO] Sebaran kelas pada testing set negatif={}, netral={}, dan positif={}'.format(sum(y_test==0), sum(y_test==1), sum(y_test==2)))\n",
        "\n",
        "X_train.shape, X_test.shape, y_train.shape, y_test.shape\n",
        "\n"
      ]
    },
    {
      "cell_type": "markdown",
      "metadata": {},
      "source": [
        "Training dan Testing Tokopedia"
      ]
    },
    {
      "cell_type": "code",
      "execution_count": null,
      "metadata": {
        "id": "c9_aMg9LCKz9"
      },
      "outputs": [],
      "source": [
        "X_train.head()\n",
        "X_train_data=pd.DataFrame(X_train)\n",
        "X_test_data=pd.DataFrame(X_test)"
      ]
    },
    {
      "cell_type": "code",
      "execution_count": null,
      "metadata": {
        "colab": {
          "base_uri": "https://localhost:8080/",
          "height": 200
        },
        "id": "T6jnmtNJCDHt",
        "outputId": "f5723410-c3af-4cb4-f1ed-209e2554dbba"
      },
      "outputs": [],
      "source": [
        "#X_test.head()\n",
        "X_train_data.head()\n",
        "#shopee.clean_content.head()"
      ]
    },
    {
      "cell_type": "code",
      "execution_count": null,
      "metadata": {
        "id": "aIUVpw2OCfS0"
      },
      "outputs": [],
      "source": [
        "#ngram_range=(1,2) #bigram\n",
        "ngram_range=(1,3) #trigram\n",
        "#ngram_range=(1,2) #bigram\n",
        "min_df=5\n",
        "\n",
        "tfidf=TfidfVectorizer(ngram_range=ngram_range,min_df=min_df)\n",
        "# tfidf=TfidfVectorizer(max_features=1000)"
      ]
    },
    {
      "cell_type": "markdown",
      "metadata": {
        "id": "Obg01wpdVEG9"
      },
      "source": [
        "# Term Weighting TFIDF X Training"
      ]
    },
    {
      "cell_type": "code",
      "execution_count": null,
      "metadata": {
        "id": "VFkNw4ce49vD"
      },
      "outputs": [],
      "source": [
        "from sklearn.feature_extraction.text import CountVectorizer\n",
        "# cv = CountVectorizer()"
      ]
    },
    {
      "cell_type": "code",
      "execution_count": null,
      "metadata": {
        "colab": {
          "base_uri": "https://localhost:8080/",
          "height": 254
        },
        "id": "DLdCf4blCqk8",
        "outputId": "c2968215-548e-4e15-b5e2-2b6cb793551e"
      },
      "outputs": [],
      "source": [
        "mlbb_vector_x_train=tfidf.fit_transform(X_train).toarray()\n",
        "# mlbb_vector_x_train_cv=cv.fit_transform(X_train).toarray()\n",
        "mlbb_x_train_df=pd.DataFrame(mlbb_vector_x_train,columns=tfidf.get_feature_names())\n",
        "# mlbb_x_train_cv_df=pd.DataFrame(mlbb_vector_x_train_cv)\n",
        "# mlbb_x_train_cv_df.head()\n"
      ]
    },
    {
      "cell_type": "code",
      "execution_count": null,
      "metadata": {
        "colab": {
          "base_uri": "https://localhost:8080/"
        },
        "id": "-73QxDCiJFwG",
        "outputId": "e7ccf9b3-a45f-4d2f-d580-cc1f65766e70"
      },
      "outputs": [],
      "source": [
        "mlbb_x_train_df.info()\n",
        "# toped_x_train_df.info()\n",
        "# lazada_x_train_df.info()"
      ]
    },
    {
      "cell_type": "markdown",
      "metadata": {
        "id": "_RO7_md7VMZJ"
      },
      "source": [
        "# Term Weighting TFIDF X Testing"
      ]
    },
    {
      "cell_type": "markdown",
      "metadata": {},
      "source": [
        "Tokopedia"
      ]
    },
    {
      "cell_type": "code",
      "execution_count": null,
      "metadata": {
        "colab": {
          "base_uri": "https://localhost:8080/",
          "height": 318
        },
        "id": "XdFnFIxuGsb7",
        "outputId": "4ce2d8c9-ec5f-4728-b285-e9d347cda2e1"
      },
      "outputs": [],
      "source": [
        "mlbb_vector_x_test=tfidf.transform(X_test).toarray()\n",
        "mlbb_x_test_df=pd.DataFrame(mlbb_vector_x_test,columns=tfidf.get_feature_names())\n",
        "mlbb_x_test_df.head()\n",
        "#toped_df.head()"
      ]
    },
    {
      "cell_type": "code",
      "execution_count": null,
      "metadata": {},
      "outputs": [],
      "source": [
        "from sklearn.svm import SVC"
      ]
    },
    {
      "cell_type": "markdown",
      "metadata": {},
      "source": [
        "# Linear Model"
      ]
    },
    {
      "cell_type": "code",
      "execution_count": null,
      "metadata": {},
      "outputs": [],
      "source": [
        "svc_model = SVC(C= .1, kernel='linear', gamma= 1)\n",
        "clf.fit(mlbb_vector_x_train, y_train)"
      ]
    },
    {
      "cell_type": "code",
      "execution_count": null,
      "metadata": {},
      "outputs": [],
      "source": [
        "from sklearn.metrics import classification_report, confusion_matrix, accuracy_score\n",
        "pred = svc_model.predict(mlbb_vector_x_train)\n",
        "# train_acc = accuracy_score(y_train, svc_model.predict(mlbb_vector_x_train))\n",
        "print(classification_report(y_train, train_acc))\n",
        "print()\n",
        "print(\"Confusion Matrix: \\n\", confusion_matrix(y_train, pred))\n",
        "print(\"Accuracy: \\n\", accuracy_score(y_train, pred))"
      ]
    },
    {
      "cell_type": "markdown",
      "metadata": {
        "id": "yxn-kOM4UmHP"
      },
      "source": [
        "# Training"
      ]
    },
    {
      "cell_type": "code",
      "execution_count": null,
      "metadata": {
        "id": "jLFGZ7upH5Ll"
      },
      "outputs": [],
      "source": [
        "# from sklearn.neighbors import KNeighborsClassifier\n",
        "# from sklearn.naive_bayes import MultinomialNB\n",
        "from sklearn.svm import SVC\n",
        "# from sklearn.tree import DecisionTreeClassifier\n",
        "# from sklearn.linear_model import LogisticRegression\n",
        "# from sklearn.ensemble import RandomForestClassifier"
      ]
    },
    {
      "cell_type": "code",
      "execution_count": null,
      "metadata": {
        "colab": {
          "base_uri": "https://localhost:8080/"
        },
        "id": "HMW1YYHrIBMt",
        "outputId": "1520c2a6-49c4-436d-fc66-4e0fd485a6bf"
      },
      "outputs": [],
      "source": [
        "C=0.7\n",
        "# Create and train a random forest classifier\n",
        "# forest = RandomForestClassifier()\n",
        "models = [\n",
        "          # ('k-NN', KNeighborsClassifier()),\n",
        "          ('SVC linear kernel', SVC(kernel='linear',C=C,max_iter=10000)),\n",
        "          ('SVC RBF kernel', SVC(kernel='rbf',gamma=1,C=C)), \n",
        "          ('SVC Polynomial (degree 3)', SVC(kernel='poly',degree=3,C=C)),\n",
        "          ('SVC Sigmoid', SVC(kernel='sigmoid',C=C)),\n",
        "          # ('Naive Bayes', MultinomialNB()),\n",
        "          # ('Decision Tree', DecisionTreeClassifier()),\n",
        "          # ('Random Forest',RandomForestClassifier(n_estimators=50)),\n",
        "          # ('Regresi Linier',LogisticRegression()),\n",
        "        ]\n"
      ]
    },
    {
      "cell_type": "code",
      "execution_count": null,
      "metadata": {},
      "outputs": [],
      "source": [
        "for name, clf in models:\n",
        "  clf.fit(mlbb_vector_x_train, y_train)\n",
        "  train_acc = accuracy_score(y_train, clf.predict(mlbb_vector_x_train))\n",
        "  print('[INFO] Menggunakan {}, akurasi pada training set: {}'.format(name, train_acc))"
      ]
    },
    {
      "cell_type": "markdown",
      "metadata": {
        "id": "Qr62XPxnUsO-"
      },
      "source": [
        "# Cross Validation"
      ]
    },
    {
      "cell_type": "code",
      "execution_count": null,
      "metadata": {
        "colab": {
          "base_uri": "https://localhost:8080/"
        },
        "id": "DuNwtccwTbT2",
        "outputId": "fca8ea2d-4652-4759-c82f-b3098b972daa"
      },
      "outputs": [],
      "source": [
        "# cross-validation\n",
        "from sklearn.model_selection import KFold\n",
        "from sklearn.model_selection import cross_val_score\n",
        "\n",
        "for name, model in models:\n",
        "  clf.fit(mlbb_vector_x_train, y_train)\n",
        "  cv = KFold(n_splits=5, random_state=27, shuffle=True)\n",
        "  cross_val_acc = cross_val_score(clf, mlbb_vector_x_train, y_train, cv=cv, scoring='accuracy')\n",
        "  print('[INFO] Menggunakan {}, Cross-validation akurasi: {:5f} (+/- {:5f})'.format(name, cross_val_acc.mean(), cross_val_acc.std() * 2))"
      ]
    },
    {
      "cell_type": "markdown",
      "metadata": {
        "id": "Ka-Z-ashUwVD"
      },
      "source": [
        "Training Confusion Matrix"
      ]
    },
    {
      "cell_type": "code",
      "execution_count": null,
      "metadata": {
        "id": "KWcRP4iE24Z9"
      },
      "outputs": [],
      "source": [
        "from sklearn.feature_extraction.text import CountVectorizer\n",
        "# cv = CountVectorizer()\n",
        "\n",
        "# X_train = cv.fit_transform(shopee_vector_x_train.clean_content)\n",
        "\n",
        "# X_test = cv.transform(shopee_vector_x_test.clean_content)"
      ]
    },
    {
      "cell_type": "code",
      "execution_count": null,
      "metadata": {
        "colab": {
          "base_uri": "https://localhost:8080/",
          "height": 1000
        },
        "id": "T0Ld404EKh57",
        "outputId": "2ae28d58-5667-4053-a442-2b7baa3699fb"
      },
      "outputs": [],
      "source": [
        "from sklearn.metrics import plot_confusion_matrix\n",
        "\n",
        "for name, model in models:\n",
        "  plot_confusion_matrix(model, mlbb_vector_x_train, y_train) \n",
        "  plt.title('Confusion Matrix: {}'.format(name))\n",
        "  plt.show()"
      ]
    },
    {
      "cell_type": "markdown",
      "metadata": {
        "id": "rq3NJcPAU0pJ"
      },
      "source": [
        "# Testing"
      ]
    },
    {
      "cell_type": "code",
      "execution_count": null,
      "metadata": {
        "colab": {
          "base_uri": "https://localhost:8080/"
        },
        "id": "IzbcAkGBJAnd",
        "outputId": "f84c41cf-c507-4f54-e021-c295f79eab89"
      },
      "outputs": [],
      "source": [
        "for name, clf in models:\n",
        "  clf_predict = clf.predict(mlbb_vector_x_test)\n",
        "  test_acc = accuracy_score(y_test, clf.predict(mlbb_vector_x_test))\n",
        "  print('[INFO] Menggunakan {}, akurasi pada testing set: {}'.format(name, test_acc))"
      ]
    },
    {
      "cell_type": "markdown",
      "metadata": {
        "id": "-Gj-G3uqU4Ey"
      },
      "source": [
        "Laporan Testing"
      ]
    },
    {
      "cell_type": "code",
      "execution_count": null,
      "metadata": {
        "colab": {
          "base_uri": "https://localhost:8080/"
        },
        "id": "ROqkTPTgReXP",
        "outputId": "5b24ddd5-6b7b-4825-f4ce-9d3511436d4b"
      },
      "outputs": [],
      "source": [
        "print(\"[INFO] Laporan klasifikasi\\n\")\n",
        "for name, clf in models:\n",
        "  clf_predict = clf.predict(mlbb_vector_x_test)\n",
        "  print('[INFO] Menggunakan {}'.format(name))\n",
        "  print(classification_report(y_test, clf_predict, target_names=['negative', 'neutral', 'positive']))"
      ]
    },
    {
      "cell_type": "markdown",
      "metadata": {
        "id": "x-mrSAnyU7zB"
      },
      "source": [
        "Testing Confusion Matrix"
      ]
    },
    {
      "cell_type": "code",
      "execution_count": null,
      "metadata": {
        "colab": {
          "base_uri": "https://localhost:8080/",
          "height": 1000
        },
        "id": "rGI3XPfzOpHu",
        "outputId": "d26ef151-1ccb-409a-d826-0feb700624ec"
      },
      "outputs": [],
      "source": [
        "for name, model in models:\n",
        "  \n",
        "  plot_confusion_matrix(model, toped_vector_x_test, y_test) \n",
        "  plt.title('Confusion Matrix Test: {}'.format(name))\n",
        "  \n",
        "  plt.show()"
      ]
    }
  ],
  "metadata": {
    "colab": {
      "collapsed_sections": [],
      "name": "PengujianSA-ShoppingApps",
      "provenance": []
    },
    "kernelspec": {
      "display_name": "Python 3.9.7 ('base')",
      "language": "python",
      "name": "python3"
    },
    "language_info": {
      "codemirror_mode": {
        "name": "ipython",
        "version": 3
      },
      "file_extension": ".py",
      "mimetype": "text/x-python",
      "name": "python",
      "nbconvert_exporter": "python",
      "pygments_lexer": "ipython3",
      "version": "3.9.7"
    },
    "vscode": {
      "interpreter": {
        "hash": "678bcfd6376b9a1d259d9993fe75604a4b4f3b2c5ff5a71eca36094cc19bcb7f"
      }
    },
    "widgets": {
      "application/vnd.jupyter.widget-state+json": {
        "05aeebd0fe4d4eb599b2fc3a7403a6f4": {
          "model_module": "@jupyter-widgets/controls",
          "model_module_version": "1.5.0",
          "model_name": "HTMLModel",
          "state": {
            "_dom_classes": [],
            "_model_module": "@jupyter-widgets/controls",
            "_model_module_version": "1.5.0",
            "_model_name": "HTMLModel",
            "_view_count": null,
            "_view_module": "@jupyter-widgets/controls",
            "_view_module_version": "1.5.0",
            "_view_name": "HTMLView",
            "description": "",
            "description_tooltip": null,
            "layout": "IPY_MODEL_b1cf6819443d47e2ab6582f929099ab1",
            "placeholder": "​",
            "style": "IPY_MODEL_ac7e45dded2a4c2db0da4c55c98241ba",
            "value": " 1139/1139 [00:00&lt;00:00, 14915.26it/s]"
          }
        },
        "05d33988374c4c979cf7326308f0fc29": {
          "model_module": "@jupyter-widgets/base",
          "model_module_version": "1.2.0",
          "model_name": "LayoutModel",
          "state": {
            "_model_module": "@jupyter-widgets/base",
            "_model_module_version": "1.2.0",
            "_model_name": "LayoutModel",
            "_view_count": null,
            "_view_module": "@jupyter-widgets/base",
            "_view_module_version": "1.2.0",
            "_view_name": "LayoutView",
            "align_content": null,
            "align_items": null,
            "align_self": null,
            "border": null,
            "bottom": null,
            "display": null,
            "flex": null,
            "flex_flow": null,
            "grid_area": null,
            "grid_auto_columns": null,
            "grid_auto_flow": null,
            "grid_auto_rows": null,
            "grid_column": null,
            "grid_gap": null,
            "grid_row": null,
            "grid_template_areas": null,
            "grid_template_columns": null,
            "grid_template_rows": null,
            "height": null,
            "justify_content": null,
            "justify_items": null,
            "left": null,
            "margin": null,
            "max_height": null,
            "max_width": null,
            "min_height": null,
            "min_width": null,
            "object_fit": null,
            "object_position": null,
            "order": null,
            "overflow": null,
            "overflow_x": null,
            "overflow_y": null,
            "padding": null,
            "right": null,
            "top": null,
            "visibility": null,
            "width": null
          }
        },
        "1193d041882a41faa14f477235d6e723": {
          "model_module": "@jupyter-widgets/controls",
          "model_module_version": "1.5.0",
          "model_name": "ProgressStyleModel",
          "state": {
            "_model_module": "@jupyter-widgets/controls",
            "_model_module_version": "1.5.0",
            "_model_name": "ProgressStyleModel",
            "_view_count": null,
            "_view_module": "@jupyter-widgets/base",
            "_view_module_version": "1.2.0",
            "_view_name": "StyleView",
            "bar_color": null,
            "description_width": ""
          }
        },
        "11bf5c1c8e08406ca6fdd5903683aeb0": {
          "model_module": "@jupyter-widgets/controls",
          "model_module_version": "1.5.0",
          "model_name": "HTMLModel",
          "state": {
            "_dom_classes": [],
            "_model_module": "@jupyter-widgets/controls",
            "_model_module_version": "1.5.0",
            "_model_name": "HTMLModel",
            "_view_count": null,
            "_view_module": "@jupyter-widgets/controls",
            "_view_module_version": "1.5.0",
            "_view_name": "HTMLView",
            "description": "",
            "description_tooltip": null,
            "layout": "IPY_MODEL_05d33988374c4c979cf7326308f0fc29",
            "placeholder": "​",
            "style": "IPY_MODEL_317b61a8c73a4153ae2faf47d7a6e245",
            "value": "100%"
          }
        },
        "15b195a795a44038bf4e89b676ba3e18": {
          "model_module": "@jupyter-widgets/controls",
          "model_module_version": "1.5.0",
          "model_name": "HTMLModel",
          "state": {
            "_dom_classes": [],
            "_model_module": "@jupyter-widgets/controls",
            "_model_module_version": "1.5.0",
            "_model_name": "HTMLModel",
            "_view_count": null,
            "_view_module": "@jupyter-widgets/controls",
            "_view_module_version": "1.5.0",
            "_view_name": "HTMLView",
            "description": "",
            "description_tooltip": null,
            "layout": "IPY_MODEL_70f5108861604d6ca03acd6d2a4d8f51",
            "placeholder": "​",
            "style": "IPY_MODEL_cd8180a83f5c4b17a0e2a1dc59091339",
            "value": "100%"
          }
        },
        "16232be79cfb440a8af059af26b065f1": {
          "model_module": "@jupyter-widgets/base",
          "model_module_version": "1.2.0",
          "model_name": "LayoutModel",
          "state": {
            "_model_module": "@jupyter-widgets/base",
            "_model_module_version": "1.2.0",
            "_model_name": "LayoutModel",
            "_view_count": null,
            "_view_module": "@jupyter-widgets/base",
            "_view_module_version": "1.2.0",
            "_view_name": "LayoutView",
            "align_content": null,
            "align_items": null,
            "align_self": null,
            "border": null,
            "bottom": null,
            "display": null,
            "flex": null,
            "flex_flow": null,
            "grid_area": null,
            "grid_auto_columns": null,
            "grid_auto_flow": null,
            "grid_auto_rows": null,
            "grid_column": null,
            "grid_gap": null,
            "grid_row": null,
            "grid_template_areas": null,
            "grid_template_columns": null,
            "grid_template_rows": null,
            "height": null,
            "justify_content": null,
            "justify_items": null,
            "left": null,
            "margin": null,
            "max_height": null,
            "max_width": null,
            "min_height": null,
            "min_width": null,
            "object_fit": null,
            "object_position": null,
            "order": null,
            "overflow": null,
            "overflow_x": null,
            "overflow_y": null,
            "padding": null,
            "right": null,
            "top": null,
            "visibility": null,
            "width": null
          }
        },
        "17303a35ff2e4cc7a7c635af7c75bf6b": {
          "model_module": "@jupyter-widgets/base",
          "model_module_version": "1.2.0",
          "model_name": "LayoutModel",
          "state": {
            "_model_module": "@jupyter-widgets/base",
            "_model_module_version": "1.2.0",
            "_model_name": "LayoutModel",
            "_view_count": null,
            "_view_module": "@jupyter-widgets/base",
            "_view_module_version": "1.2.0",
            "_view_name": "LayoutView",
            "align_content": null,
            "align_items": null,
            "align_self": null,
            "border": null,
            "bottom": null,
            "display": null,
            "flex": null,
            "flex_flow": null,
            "grid_area": null,
            "grid_auto_columns": null,
            "grid_auto_flow": null,
            "grid_auto_rows": null,
            "grid_column": null,
            "grid_gap": null,
            "grid_row": null,
            "grid_template_areas": null,
            "grid_template_columns": null,
            "grid_template_rows": null,
            "height": null,
            "justify_content": null,
            "justify_items": null,
            "left": null,
            "margin": null,
            "max_height": null,
            "max_width": null,
            "min_height": null,
            "min_width": null,
            "object_fit": null,
            "object_position": null,
            "order": null,
            "overflow": null,
            "overflow_x": null,
            "overflow_y": null,
            "padding": null,
            "right": null,
            "top": null,
            "visibility": null,
            "width": null
          }
        },
        "1d50a91ed8234f11aaf43976ccfe6026": {
          "model_module": "@jupyter-widgets/controls",
          "model_module_version": "1.5.0",
          "model_name": "DescriptionStyleModel",
          "state": {
            "_model_module": "@jupyter-widgets/controls",
            "_model_module_version": "1.5.0",
            "_model_name": "DescriptionStyleModel",
            "_view_count": null,
            "_view_module": "@jupyter-widgets/base",
            "_view_module_version": "1.2.0",
            "_view_name": "StyleView",
            "description_width": ""
          }
        },
        "2b34ad6bece2456299a162e90d3f951f": {
          "model_module": "@jupyter-widgets/controls",
          "model_module_version": "1.5.0",
          "model_name": "FloatProgressModel",
          "state": {
            "_dom_classes": [],
            "_model_module": "@jupyter-widgets/controls",
            "_model_module_version": "1.5.0",
            "_model_name": "FloatProgressModel",
            "_view_count": null,
            "_view_module": "@jupyter-widgets/controls",
            "_view_module_version": "1.5.0",
            "_view_name": "ProgressView",
            "bar_style": "success",
            "description": "",
            "description_tooltip": null,
            "layout": "IPY_MODEL_17303a35ff2e4cc7a7c635af7c75bf6b",
            "max": 1135,
            "min": 0,
            "orientation": "horizontal",
            "style": "IPY_MODEL_45235d29ec4645179f072c36414c9edc",
            "value": 1135
          }
        },
        "31528ac8a38746688d269da4d616f70b": {
          "model_module": "@jupyter-widgets/base",
          "model_module_version": "1.2.0",
          "model_name": "LayoutModel",
          "state": {
            "_model_module": "@jupyter-widgets/base",
            "_model_module_version": "1.2.0",
            "_model_name": "LayoutModel",
            "_view_count": null,
            "_view_module": "@jupyter-widgets/base",
            "_view_module_version": "1.2.0",
            "_view_name": "LayoutView",
            "align_content": null,
            "align_items": null,
            "align_self": null,
            "border": null,
            "bottom": null,
            "display": null,
            "flex": null,
            "flex_flow": null,
            "grid_area": null,
            "grid_auto_columns": null,
            "grid_auto_flow": null,
            "grid_auto_rows": null,
            "grid_column": null,
            "grid_gap": null,
            "grid_row": null,
            "grid_template_areas": null,
            "grid_template_columns": null,
            "grid_template_rows": null,
            "height": null,
            "justify_content": null,
            "justify_items": null,
            "left": null,
            "margin": null,
            "max_height": null,
            "max_width": null,
            "min_height": null,
            "min_width": null,
            "object_fit": null,
            "object_position": null,
            "order": null,
            "overflow": null,
            "overflow_x": null,
            "overflow_y": null,
            "padding": null,
            "right": null,
            "top": null,
            "visibility": null,
            "width": null
          }
        },
        "317b61a8c73a4153ae2faf47d7a6e245": {
          "model_module": "@jupyter-widgets/controls",
          "model_module_version": "1.5.0",
          "model_name": "DescriptionStyleModel",
          "state": {
            "_model_module": "@jupyter-widgets/controls",
            "_model_module_version": "1.5.0",
            "_model_name": "DescriptionStyleModel",
            "_view_count": null,
            "_view_module": "@jupyter-widgets/base",
            "_view_module_version": "1.2.0",
            "_view_name": "StyleView",
            "description_width": ""
          }
        },
        "325578f72faa4452a74885e30d53b51d": {
          "model_module": "@jupyter-widgets/base",
          "model_module_version": "1.2.0",
          "model_name": "LayoutModel",
          "state": {
            "_model_module": "@jupyter-widgets/base",
            "_model_module_version": "1.2.0",
            "_model_name": "LayoutModel",
            "_view_count": null,
            "_view_module": "@jupyter-widgets/base",
            "_view_module_version": "1.2.0",
            "_view_name": "LayoutView",
            "align_content": null,
            "align_items": null,
            "align_self": null,
            "border": null,
            "bottom": null,
            "display": null,
            "flex": null,
            "flex_flow": null,
            "grid_area": null,
            "grid_auto_columns": null,
            "grid_auto_flow": null,
            "grid_auto_rows": null,
            "grid_column": null,
            "grid_gap": null,
            "grid_row": null,
            "grid_template_areas": null,
            "grid_template_columns": null,
            "grid_template_rows": null,
            "height": null,
            "justify_content": null,
            "justify_items": null,
            "left": null,
            "margin": null,
            "max_height": null,
            "max_width": null,
            "min_height": null,
            "min_width": null,
            "object_fit": null,
            "object_position": null,
            "order": null,
            "overflow": null,
            "overflow_x": null,
            "overflow_y": null,
            "padding": null,
            "right": null,
            "top": null,
            "visibility": null,
            "width": null
          }
        },
        "355999359ab94e47ae32ba4cf059d39a": {
          "model_module": "@jupyter-widgets/controls",
          "model_module_version": "1.5.0",
          "model_name": "HTMLModel",
          "state": {
            "_dom_classes": [],
            "_model_module": "@jupyter-widgets/controls",
            "_model_module_version": "1.5.0",
            "_model_name": "HTMLModel",
            "_view_count": null,
            "_view_module": "@jupyter-widgets/controls",
            "_view_module_version": "1.5.0",
            "_view_name": "HTMLView",
            "description": "",
            "description_tooltip": null,
            "layout": "IPY_MODEL_877e4d9d9391438d8cf529b21232412c",
            "placeholder": "​",
            "style": "IPY_MODEL_4b8619e8a24345b5a264035286e491e4",
            "value": " 1161/1161 [00:00&lt;00:00, 20096.35it/s]"
          }
        },
        "3883a72334054233bdac9d0f7d0387e4": {
          "model_module": "@jupyter-widgets/base",
          "model_module_version": "1.2.0",
          "model_name": "LayoutModel",
          "state": {
            "_model_module": "@jupyter-widgets/base",
            "_model_module_version": "1.2.0",
            "_model_name": "LayoutModel",
            "_view_count": null,
            "_view_module": "@jupyter-widgets/base",
            "_view_module_version": "1.2.0",
            "_view_name": "LayoutView",
            "align_content": null,
            "align_items": null,
            "align_self": null,
            "border": null,
            "bottom": null,
            "display": null,
            "flex": null,
            "flex_flow": null,
            "grid_area": null,
            "grid_auto_columns": null,
            "grid_auto_flow": null,
            "grid_auto_rows": null,
            "grid_column": null,
            "grid_gap": null,
            "grid_row": null,
            "grid_template_areas": null,
            "grid_template_columns": null,
            "grid_template_rows": null,
            "height": null,
            "justify_content": null,
            "justify_items": null,
            "left": null,
            "margin": null,
            "max_height": null,
            "max_width": null,
            "min_height": null,
            "min_width": null,
            "object_fit": null,
            "object_position": null,
            "order": null,
            "overflow": null,
            "overflow_x": null,
            "overflow_y": null,
            "padding": null,
            "right": null,
            "top": null,
            "visibility": null,
            "width": null
          }
        },
        "447a88c57fb6492db9d155c379d5dc56": {
          "model_module": "@jupyter-widgets/controls",
          "model_module_version": "1.5.0",
          "model_name": "HBoxModel",
          "state": {
            "_dom_classes": [],
            "_model_module": "@jupyter-widgets/controls",
            "_model_module_version": "1.5.0",
            "_model_name": "HBoxModel",
            "_view_count": null,
            "_view_module": "@jupyter-widgets/controls",
            "_view_module_version": "1.5.0",
            "_view_name": "HBoxView",
            "box_style": "",
            "children": [
              "IPY_MODEL_98a6ee999da744418a4f7cb0f9d316f8",
              "IPY_MODEL_455f6f44682f445bac815d269729f65c",
              "IPY_MODEL_355999359ab94e47ae32ba4cf059d39a"
            ],
            "layout": "IPY_MODEL_f53e4dad14d14d59bfc78c2aeb1ec314"
          }
        },
        "45235d29ec4645179f072c36414c9edc": {
          "model_module": "@jupyter-widgets/controls",
          "model_module_version": "1.5.0",
          "model_name": "ProgressStyleModel",
          "state": {
            "_model_module": "@jupyter-widgets/controls",
            "_model_module_version": "1.5.0",
            "_model_name": "ProgressStyleModel",
            "_view_count": null,
            "_view_module": "@jupyter-widgets/base",
            "_view_module_version": "1.2.0",
            "_view_name": "StyleView",
            "bar_color": null,
            "description_width": ""
          }
        },
        "455f6f44682f445bac815d269729f65c": {
          "model_module": "@jupyter-widgets/controls",
          "model_module_version": "1.5.0",
          "model_name": "FloatProgressModel",
          "state": {
            "_dom_classes": [],
            "_model_module": "@jupyter-widgets/controls",
            "_model_module_version": "1.5.0",
            "_model_name": "FloatProgressModel",
            "_view_count": null,
            "_view_module": "@jupyter-widgets/controls",
            "_view_module_version": "1.5.0",
            "_view_name": "ProgressView",
            "bar_style": "success",
            "description": "",
            "description_tooltip": null,
            "layout": "IPY_MODEL_97d93bab1ab74bfea956af11b8152441",
            "max": 1161,
            "min": 0,
            "orientation": "horizontal",
            "style": "IPY_MODEL_fab3504d23c142d085056ab7d88d780e",
            "value": 1161
          }
        },
        "45de5fd716044284afb8c7509c6b9817": {
          "model_module": "@jupyter-widgets/controls",
          "model_module_version": "1.5.0",
          "model_name": "HBoxModel",
          "state": {
            "_dom_classes": [],
            "_model_module": "@jupyter-widgets/controls",
            "_model_module_version": "1.5.0",
            "_model_name": "HBoxModel",
            "_view_count": null,
            "_view_module": "@jupyter-widgets/controls",
            "_view_module_version": "1.5.0",
            "_view_name": "HBoxView",
            "box_style": "",
            "children": [
              "IPY_MODEL_11bf5c1c8e08406ca6fdd5903683aeb0",
              "IPY_MODEL_6ebacdc4291a4a3bb70a3540a55c62a9",
              "IPY_MODEL_e42a3e6068184a168a9c89273ae110ec"
            ],
            "layout": "IPY_MODEL_31528ac8a38746688d269da4d616f70b"
          }
        },
        "4b8619e8a24345b5a264035286e491e4": {
          "model_module": "@jupyter-widgets/controls",
          "model_module_version": "1.5.0",
          "model_name": "DescriptionStyleModel",
          "state": {
            "_model_module": "@jupyter-widgets/controls",
            "_model_module_version": "1.5.0",
            "_model_name": "DescriptionStyleModel",
            "_view_count": null,
            "_view_module": "@jupyter-widgets/base",
            "_view_module_version": "1.2.0",
            "_view_name": "StyleView",
            "description_width": ""
          }
        },
        "5b31e41df9d64649a806f90496791977": {
          "model_module": "@jupyter-widgets/base",
          "model_module_version": "1.2.0",
          "model_name": "LayoutModel",
          "state": {
            "_model_module": "@jupyter-widgets/base",
            "_model_module_version": "1.2.0",
            "_model_name": "LayoutModel",
            "_view_count": null,
            "_view_module": "@jupyter-widgets/base",
            "_view_module_version": "1.2.0",
            "_view_name": "LayoutView",
            "align_content": null,
            "align_items": null,
            "align_self": null,
            "border": null,
            "bottom": null,
            "display": null,
            "flex": null,
            "flex_flow": null,
            "grid_area": null,
            "grid_auto_columns": null,
            "grid_auto_flow": null,
            "grid_auto_rows": null,
            "grid_column": null,
            "grid_gap": null,
            "grid_row": null,
            "grid_template_areas": null,
            "grid_template_columns": null,
            "grid_template_rows": null,
            "height": null,
            "justify_content": null,
            "justify_items": null,
            "left": null,
            "margin": null,
            "max_height": null,
            "max_width": null,
            "min_height": null,
            "min_width": null,
            "object_fit": null,
            "object_position": null,
            "order": null,
            "overflow": null,
            "overflow_x": null,
            "overflow_y": null,
            "padding": null,
            "right": null,
            "top": null,
            "visibility": null,
            "width": null
          }
        },
        "5c8e0751c59f46bcaaaecd78f33920d3": {
          "model_module": "@jupyter-widgets/base",
          "model_module_version": "1.2.0",
          "model_name": "LayoutModel",
          "state": {
            "_model_module": "@jupyter-widgets/base",
            "_model_module_version": "1.2.0",
            "_model_name": "LayoutModel",
            "_view_count": null,
            "_view_module": "@jupyter-widgets/base",
            "_view_module_version": "1.2.0",
            "_view_name": "LayoutView",
            "align_content": null,
            "align_items": null,
            "align_self": null,
            "border": null,
            "bottom": null,
            "display": null,
            "flex": null,
            "flex_flow": null,
            "grid_area": null,
            "grid_auto_columns": null,
            "grid_auto_flow": null,
            "grid_auto_rows": null,
            "grid_column": null,
            "grid_gap": null,
            "grid_row": null,
            "grid_template_areas": null,
            "grid_template_columns": null,
            "grid_template_rows": null,
            "height": null,
            "justify_content": null,
            "justify_items": null,
            "left": null,
            "margin": null,
            "max_height": null,
            "max_width": null,
            "min_height": null,
            "min_width": null,
            "object_fit": null,
            "object_position": null,
            "order": null,
            "overflow": null,
            "overflow_x": null,
            "overflow_y": null,
            "padding": null,
            "right": null,
            "top": null,
            "visibility": null,
            "width": null
          }
        },
        "5dec0461de6a4cc499a67696b451dffa": {
          "model_module": "@jupyter-widgets/controls",
          "model_module_version": "1.5.0",
          "model_name": "HTMLModel",
          "state": {
            "_dom_classes": [],
            "_model_module": "@jupyter-widgets/controls",
            "_model_module_version": "1.5.0",
            "_model_name": "HTMLModel",
            "_view_count": null,
            "_view_module": "@jupyter-widgets/controls",
            "_view_module_version": "1.5.0",
            "_view_name": "HTMLView",
            "description": "",
            "description_tooltip": null,
            "layout": "IPY_MODEL_79b7d1bd00a345b3811e32b54a769cd7",
            "placeholder": "​",
            "style": "IPY_MODEL_d0e0e861306f4a45b7dfd4599e0daaf0",
            "value": " 1135/1135 [00:00&lt;00:00, 15960.49it/s]"
          }
        },
        "60a400f7311649949568dd82d828130e": {
          "model_module": "@jupyter-widgets/controls",
          "model_module_version": "1.5.0",
          "model_name": "HTMLModel",
          "state": {
            "_dom_classes": [],
            "_model_module": "@jupyter-widgets/controls",
            "_model_module_version": "1.5.0",
            "_model_name": "HTMLModel",
            "_view_count": null,
            "_view_module": "@jupyter-widgets/controls",
            "_view_module_version": "1.5.0",
            "_view_name": "HTMLView",
            "description": "",
            "description_tooltip": null,
            "layout": "IPY_MODEL_8b585c088dce4c9eb9fd9e8bbb4891d3",
            "placeholder": "​",
            "style": "IPY_MODEL_6d579be14c6949d1a3e035e9a58fcc21",
            "value": "100%"
          }
        },
        "6d2abe9737544fa08844b7217156bed8": {
          "model_module": "@jupyter-widgets/base",
          "model_module_version": "1.2.0",
          "model_name": "LayoutModel",
          "state": {
            "_model_module": "@jupyter-widgets/base",
            "_model_module_version": "1.2.0",
            "_model_name": "LayoutModel",
            "_view_count": null,
            "_view_module": "@jupyter-widgets/base",
            "_view_module_version": "1.2.0",
            "_view_name": "LayoutView",
            "align_content": null,
            "align_items": null,
            "align_self": null,
            "border": null,
            "bottom": null,
            "display": null,
            "flex": null,
            "flex_flow": null,
            "grid_area": null,
            "grid_auto_columns": null,
            "grid_auto_flow": null,
            "grid_auto_rows": null,
            "grid_column": null,
            "grid_gap": null,
            "grid_row": null,
            "grid_template_areas": null,
            "grid_template_columns": null,
            "grid_template_rows": null,
            "height": null,
            "justify_content": null,
            "justify_items": null,
            "left": null,
            "margin": null,
            "max_height": null,
            "max_width": null,
            "min_height": null,
            "min_width": null,
            "object_fit": null,
            "object_position": null,
            "order": null,
            "overflow": null,
            "overflow_x": null,
            "overflow_y": null,
            "padding": null,
            "right": null,
            "top": null,
            "visibility": null,
            "width": null
          }
        },
        "6d579be14c6949d1a3e035e9a58fcc21": {
          "model_module": "@jupyter-widgets/controls",
          "model_module_version": "1.5.0",
          "model_name": "DescriptionStyleModel",
          "state": {
            "_model_module": "@jupyter-widgets/controls",
            "_model_module_version": "1.5.0",
            "_model_name": "DescriptionStyleModel",
            "_view_count": null,
            "_view_module": "@jupyter-widgets/base",
            "_view_module_version": "1.2.0",
            "_view_name": "StyleView",
            "description_width": ""
          }
        },
        "6ebacdc4291a4a3bb70a3540a55c62a9": {
          "model_module": "@jupyter-widgets/controls",
          "model_module_version": "1.5.0",
          "model_name": "FloatProgressModel",
          "state": {
            "_dom_classes": [],
            "_model_module": "@jupyter-widgets/controls",
            "_model_module_version": "1.5.0",
            "_model_name": "FloatProgressModel",
            "_view_count": null,
            "_view_module": "@jupyter-widgets/controls",
            "_view_module_version": "1.5.0",
            "_view_name": "ProgressView",
            "bar_style": "success",
            "description": "",
            "description_tooltip": null,
            "layout": "IPY_MODEL_a66723a6b65b4e4a97efd87acd31c689",
            "max": 1139,
            "min": 0,
            "orientation": "horizontal",
            "style": "IPY_MODEL_705fc7ef04094f3c90d99e2d11a80ebe",
            "value": 1139
          }
        },
        "705fc7ef04094f3c90d99e2d11a80ebe": {
          "model_module": "@jupyter-widgets/controls",
          "model_module_version": "1.5.0",
          "model_name": "ProgressStyleModel",
          "state": {
            "_model_module": "@jupyter-widgets/controls",
            "_model_module_version": "1.5.0",
            "_model_name": "ProgressStyleModel",
            "_view_count": null,
            "_view_module": "@jupyter-widgets/base",
            "_view_module_version": "1.2.0",
            "_view_name": "StyleView",
            "bar_color": null,
            "description_width": ""
          }
        },
        "70f5108861604d6ca03acd6d2a4d8f51": {
          "model_module": "@jupyter-widgets/base",
          "model_module_version": "1.2.0",
          "model_name": "LayoutModel",
          "state": {
            "_model_module": "@jupyter-widgets/base",
            "_model_module_version": "1.2.0",
            "_model_name": "LayoutModel",
            "_view_count": null,
            "_view_module": "@jupyter-widgets/base",
            "_view_module_version": "1.2.0",
            "_view_name": "LayoutView",
            "align_content": null,
            "align_items": null,
            "align_self": null,
            "border": null,
            "bottom": null,
            "display": null,
            "flex": null,
            "flex_flow": null,
            "grid_area": null,
            "grid_auto_columns": null,
            "grid_auto_flow": null,
            "grid_auto_rows": null,
            "grid_column": null,
            "grid_gap": null,
            "grid_row": null,
            "grid_template_areas": null,
            "grid_template_columns": null,
            "grid_template_rows": null,
            "height": null,
            "justify_content": null,
            "justify_items": null,
            "left": null,
            "margin": null,
            "max_height": null,
            "max_width": null,
            "min_height": null,
            "min_width": null,
            "object_fit": null,
            "object_position": null,
            "order": null,
            "overflow": null,
            "overflow_x": null,
            "overflow_y": null,
            "padding": null,
            "right": null,
            "top": null,
            "visibility": null,
            "width": null
          }
        },
        "72000679f4ce45ababa8b9f1a5e2b6f4": {
          "model_module": "@jupyter-widgets/controls",
          "model_module_version": "1.5.0",
          "model_name": "HBoxModel",
          "state": {
            "_dom_classes": [],
            "_model_module": "@jupyter-widgets/controls",
            "_model_module_version": "1.5.0",
            "_model_name": "HBoxModel",
            "_view_count": null,
            "_view_module": "@jupyter-widgets/controls",
            "_view_module_version": "1.5.0",
            "_view_name": "HBoxView",
            "box_style": "",
            "children": [
              "IPY_MODEL_15b195a795a44038bf4e89b676ba3e18",
              "IPY_MODEL_2b34ad6bece2456299a162e90d3f951f",
              "IPY_MODEL_5dec0461de6a4cc499a67696b451dffa"
            ],
            "layout": "IPY_MODEL_b35f9c6d4bff4d269b34088e0c8753d5"
          }
        },
        "72ca03abe8e84042851556b76fbdc97a": {
          "model_module": "@jupyter-widgets/base",
          "model_module_version": "1.2.0",
          "model_name": "LayoutModel",
          "state": {
            "_model_module": "@jupyter-widgets/base",
            "_model_module_version": "1.2.0",
            "_model_name": "LayoutModel",
            "_view_count": null,
            "_view_module": "@jupyter-widgets/base",
            "_view_module_version": "1.2.0",
            "_view_name": "LayoutView",
            "align_content": null,
            "align_items": null,
            "align_self": null,
            "border": null,
            "bottom": null,
            "display": null,
            "flex": null,
            "flex_flow": null,
            "grid_area": null,
            "grid_auto_columns": null,
            "grid_auto_flow": null,
            "grid_auto_rows": null,
            "grid_column": null,
            "grid_gap": null,
            "grid_row": null,
            "grid_template_areas": null,
            "grid_template_columns": null,
            "grid_template_rows": null,
            "height": null,
            "justify_content": null,
            "justify_items": null,
            "left": null,
            "margin": null,
            "max_height": null,
            "max_width": null,
            "min_height": null,
            "min_width": null,
            "object_fit": null,
            "object_position": null,
            "order": null,
            "overflow": null,
            "overflow_x": null,
            "overflow_y": null,
            "padding": null,
            "right": null,
            "top": null,
            "visibility": null,
            "width": null
          }
        },
        "7301c66059bb413cba8bf90b51e6aed3": {
          "model_module": "@jupyter-widgets/controls",
          "model_module_version": "1.5.0",
          "model_name": "HTMLModel",
          "state": {
            "_dom_classes": [],
            "_model_module": "@jupyter-widgets/controls",
            "_model_module_version": "1.5.0",
            "_model_name": "HTMLModel",
            "_view_count": null,
            "_view_module": "@jupyter-widgets/controls",
            "_view_module_version": "1.5.0",
            "_view_name": "HTMLView",
            "description": "",
            "description_tooltip": null,
            "layout": "IPY_MODEL_af96c24ff9fc4dd283069e1eee5e5962",
            "placeholder": "​",
            "style": "IPY_MODEL_a33f4e1777e84be28a8fc6566d3440d9",
            "value": " 1161/1161 [00:00&lt;00:00, 3365.72it/s]"
          }
        },
        "77c772de088544b0a9fa35b37717d228": {
          "model_module": "@jupyter-widgets/controls",
          "model_module_version": "1.5.0",
          "model_name": "DescriptionStyleModel",
          "state": {
            "_model_module": "@jupyter-widgets/controls",
            "_model_module_version": "1.5.0",
            "_model_name": "DescriptionStyleModel",
            "_view_count": null,
            "_view_module": "@jupyter-widgets/base",
            "_view_module_version": "1.2.0",
            "_view_name": "StyleView",
            "description_width": ""
          }
        },
        "79b7d1bd00a345b3811e32b54a769cd7": {
          "model_module": "@jupyter-widgets/base",
          "model_module_version": "1.2.0",
          "model_name": "LayoutModel",
          "state": {
            "_model_module": "@jupyter-widgets/base",
            "_model_module_version": "1.2.0",
            "_model_name": "LayoutModel",
            "_view_count": null,
            "_view_module": "@jupyter-widgets/base",
            "_view_module_version": "1.2.0",
            "_view_name": "LayoutView",
            "align_content": null,
            "align_items": null,
            "align_self": null,
            "border": null,
            "bottom": null,
            "display": null,
            "flex": null,
            "flex_flow": null,
            "grid_area": null,
            "grid_auto_columns": null,
            "grid_auto_flow": null,
            "grid_auto_rows": null,
            "grid_column": null,
            "grid_gap": null,
            "grid_row": null,
            "grid_template_areas": null,
            "grid_template_columns": null,
            "grid_template_rows": null,
            "height": null,
            "justify_content": null,
            "justify_items": null,
            "left": null,
            "margin": null,
            "max_height": null,
            "max_width": null,
            "min_height": null,
            "min_width": null,
            "object_fit": null,
            "object_position": null,
            "order": null,
            "overflow": null,
            "overflow_x": null,
            "overflow_y": null,
            "padding": null,
            "right": null,
            "top": null,
            "visibility": null,
            "width": null
          }
        },
        "7e19570f6fe141d58fccc20a000338a3": {
          "model_module": "@jupyter-widgets/controls",
          "model_module_version": "1.5.0",
          "model_name": "DescriptionStyleModel",
          "state": {
            "_model_module": "@jupyter-widgets/controls",
            "_model_module_version": "1.5.0",
            "_model_name": "DescriptionStyleModel",
            "_view_count": null,
            "_view_module": "@jupyter-widgets/base",
            "_view_module_version": "1.2.0",
            "_view_name": "StyleView",
            "description_width": ""
          }
        },
        "877e4d9d9391438d8cf529b21232412c": {
          "model_module": "@jupyter-widgets/base",
          "model_module_version": "1.2.0",
          "model_name": "LayoutModel",
          "state": {
            "_model_module": "@jupyter-widgets/base",
            "_model_module_version": "1.2.0",
            "_model_name": "LayoutModel",
            "_view_count": null,
            "_view_module": "@jupyter-widgets/base",
            "_view_module_version": "1.2.0",
            "_view_name": "LayoutView",
            "align_content": null,
            "align_items": null,
            "align_self": null,
            "border": null,
            "bottom": null,
            "display": null,
            "flex": null,
            "flex_flow": null,
            "grid_area": null,
            "grid_auto_columns": null,
            "grid_auto_flow": null,
            "grid_auto_rows": null,
            "grid_column": null,
            "grid_gap": null,
            "grid_row": null,
            "grid_template_areas": null,
            "grid_template_columns": null,
            "grid_template_rows": null,
            "height": null,
            "justify_content": null,
            "justify_items": null,
            "left": null,
            "margin": null,
            "max_height": null,
            "max_width": null,
            "min_height": null,
            "min_width": null,
            "object_fit": null,
            "object_position": null,
            "order": null,
            "overflow": null,
            "overflow_x": null,
            "overflow_y": null,
            "padding": null,
            "right": null,
            "top": null,
            "visibility": null,
            "width": null
          }
        },
        "87f68453734a41f4815e046e01678806": {
          "model_module": "@jupyter-widgets/controls",
          "model_module_version": "1.5.0",
          "model_name": "HTMLModel",
          "state": {
            "_dom_classes": [],
            "_model_module": "@jupyter-widgets/controls",
            "_model_module_version": "1.5.0",
            "_model_name": "HTMLModel",
            "_view_count": null,
            "_view_module": "@jupyter-widgets/controls",
            "_view_module_version": "1.5.0",
            "_view_name": "HTMLView",
            "description": "",
            "description_tooltip": null,
            "layout": "IPY_MODEL_72ca03abe8e84042851556b76fbdc97a",
            "placeholder": "​",
            "style": "IPY_MODEL_9cf5dcacf16f471b9fea16e887173449",
            "value": "100%"
          }
        },
        "8b585c088dce4c9eb9fd9e8bbb4891d3": {
          "model_module": "@jupyter-widgets/base",
          "model_module_version": "1.2.0",
          "model_name": "LayoutModel",
          "state": {
            "_model_module": "@jupyter-widgets/base",
            "_model_module_version": "1.2.0",
            "_model_name": "LayoutModel",
            "_view_count": null,
            "_view_module": "@jupyter-widgets/base",
            "_view_module_version": "1.2.0",
            "_view_name": "LayoutView",
            "align_content": null,
            "align_items": null,
            "align_self": null,
            "border": null,
            "bottom": null,
            "display": null,
            "flex": null,
            "flex_flow": null,
            "grid_area": null,
            "grid_auto_columns": null,
            "grid_auto_flow": null,
            "grid_auto_rows": null,
            "grid_column": null,
            "grid_gap": null,
            "grid_row": null,
            "grid_template_areas": null,
            "grid_template_columns": null,
            "grid_template_rows": null,
            "height": null,
            "justify_content": null,
            "justify_items": null,
            "left": null,
            "margin": null,
            "max_height": null,
            "max_width": null,
            "min_height": null,
            "min_width": null,
            "object_fit": null,
            "object_position": null,
            "order": null,
            "overflow": null,
            "overflow_x": null,
            "overflow_y": null,
            "padding": null,
            "right": null,
            "top": null,
            "visibility": null,
            "width": null
          }
        },
        "8d8e88ef79b548489cfc4d9b2ddcf61f": {
          "model_module": "@jupyter-widgets/controls",
          "model_module_version": "1.5.0",
          "model_name": "HBoxModel",
          "state": {
            "_dom_classes": [],
            "_model_module": "@jupyter-widgets/controls",
            "_model_module_version": "1.5.0",
            "_model_name": "HBoxModel",
            "_view_count": null,
            "_view_module": "@jupyter-widgets/controls",
            "_view_module_version": "1.5.0",
            "_view_name": "HBoxView",
            "box_style": "",
            "children": [
              "IPY_MODEL_e35e0b20d5f2445783cf3acdd9c6749c",
              "IPY_MODEL_d3558516df7c4782b2f5260b67fda6f7",
              "IPY_MODEL_bb17f360f84f4b629b3af6dc6a3a2850"
            ],
            "layout": "IPY_MODEL_948c7eef2d844bf7ba8a3b9abe3b3878"
          }
        },
        "948c7eef2d844bf7ba8a3b9abe3b3878": {
          "model_module": "@jupyter-widgets/base",
          "model_module_version": "1.2.0",
          "model_name": "LayoutModel",
          "state": {
            "_model_module": "@jupyter-widgets/base",
            "_model_module_version": "1.2.0",
            "_model_name": "LayoutModel",
            "_view_count": null,
            "_view_module": "@jupyter-widgets/base",
            "_view_module_version": "1.2.0",
            "_view_name": "LayoutView",
            "align_content": null,
            "align_items": null,
            "align_self": null,
            "border": null,
            "bottom": null,
            "display": null,
            "flex": null,
            "flex_flow": null,
            "grid_area": null,
            "grid_auto_columns": null,
            "grid_auto_flow": null,
            "grid_auto_rows": null,
            "grid_column": null,
            "grid_gap": null,
            "grid_row": null,
            "grid_template_areas": null,
            "grid_template_columns": null,
            "grid_template_rows": null,
            "height": null,
            "justify_content": null,
            "justify_items": null,
            "left": null,
            "margin": null,
            "max_height": null,
            "max_width": null,
            "min_height": null,
            "min_width": null,
            "object_fit": null,
            "object_position": null,
            "order": null,
            "overflow": null,
            "overflow_x": null,
            "overflow_y": null,
            "padding": null,
            "right": null,
            "top": null,
            "visibility": null,
            "width": null
          }
        },
        "97d93bab1ab74bfea956af11b8152441": {
          "model_module": "@jupyter-widgets/base",
          "model_module_version": "1.2.0",
          "model_name": "LayoutModel",
          "state": {
            "_model_module": "@jupyter-widgets/base",
            "_model_module_version": "1.2.0",
            "_model_name": "LayoutModel",
            "_view_count": null,
            "_view_module": "@jupyter-widgets/base",
            "_view_module_version": "1.2.0",
            "_view_name": "LayoutView",
            "align_content": null,
            "align_items": null,
            "align_self": null,
            "border": null,
            "bottom": null,
            "display": null,
            "flex": null,
            "flex_flow": null,
            "grid_area": null,
            "grid_auto_columns": null,
            "grid_auto_flow": null,
            "grid_auto_rows": null,
            "grid_column": null,
            "grid_gap": null,
            "grid_row": null,
            "grid_template_areas": null,
            "grid_template_columns": null,
            "grid_template_rows": null,
            "height": null,
            "justify_content": null,
            "justify_items": null,
            "left": null,
            "margin": null,
            "max_height": null,
            "max_width": null,
            "min_height": null,
            "min_width": null,
            "object_fit": null,
            "object_position": null,
            "order": null,
            "overflow": null,
            "overflow_x": null,
            "overflow_y": null,
            "padding": null,
            "right": null,
            "top": null,
            "visibility": null,
            "width": null
          }
        },
        "98a6ee999da744418a4f7cb0f9d316f8": {
          "model_module": "@jupyter-widgets/controls",
          "model_module_version": "1.5.0",
          "model_name": "HTMLModel",
          "state": {
            "_dom_classes": [],
            "_model_module": "@jupyter-widgets/controls",
            "_model_module_version": "1.5.0",
            "_model_name": "HTMLModel",
            "_view_count": null,
            "_view_module": "@jupyter-widgets/controls",
            "_view_module_version": "1.5.0",
            "_view_name": "HTMLView",
            "description": "",
            "description_tooltip": null,
            "layout": "IPY_MODEL_16232be79cfb440a8af059af26b065f1",
            "placeholder": "​",
            "style": "IPY_MODEL_7e19570f6fe141d58fccc20a000338a3",
            "value": "100%"
          }
        },
        "9cf5dcacf16f471b9fea16e887173449": {
          "model_module": "@jupyter-widgets/controls",
          "model_module_version": "1.5.0",
          "model_name": "DescriptionStyleModel",
          "state": {
            "_model_module": "@jupyter-widgets/controls",
            "_model_module_version": "1.5.0",
            "_model_name": "DescriptionStyleModel",
            "_view_count": null,
            "_view_module": "@jupyter-widgets/base",
            "_view_module_version": "1.2.0",
            "_view_name": "StyleView",
            "description_width": ""
          }
        },
        "a33f4e1777e84be28a8fc6566d3440d9": {
          "model_module": "@jupyter-widgets/controls",
          "model_module_version": "1.5.0",
          "model_name": "DescriptionStyleModel",
          "state": {
            "_model_module": "@jupyter-widgets/controls",
            "_model_module_version": "1.5.0",
            "_model_name": "DescriptionStyleModel",
            "_view_count": null,
            "_view_module": "@jupyter-widgets/base",
            "_view_module_version": "1.2.0",
            "_view_name": "StyleView",
            "description_width": ""
          }
        },
        "a66723a6b65b4e4a97efd87acd31c689": {
          "model_module": "@jupyter-widgets/base",
          "model_module_version": "1.2.0",
          "model_name": "LayoutModel",
          "state": {
            "_model_module": "@jupyter-widgets/base",
            "_model_module_version": "1.2.0",
            "_model_name": "LayoutModel",
            "_view_count": null,
            "_view_module": "@jupyter-widgets/base",
            "_view_module_version": "1.2.0",
            "_view_name": "LayoutView",
            "align_content": null,
            "align_items": null,
            "align_self": null,
            "border": null,
            "bottom": null,
            "display": null,
            "flex": null,
            "flex_flow": null,
            "grid_area": null,
            "grid_auto_columns": null,
            "grid_auto_flow": null,
            "grid_auto_rows": null,
            "grid_column": null,
            "grid_gap": null,
            "grid_row": null,
            "grid_template_areas": null,
            "grid_template_columns": null,
            "grid_template_rows": null,
            "height": null,
            "justify_content": null,
            "justify_items": null,
            "left": null,
            "margin": null,
            "max_height": null,
            "max_width": null,
            "min_height": null,
            "min_width": null,
            "object_fit": null,
            "object_position": null,
            "order": null,
            "overflow": null,
            "overflow_x": null,
            "overflow_y": null,
            "padding": null,
            "right": null,
            "top": null,
            "visibility": null,
            "width": null
          }
        },
        "ab14e068a8fd4969bb392cc669a7f378": {
          "model_module": "@jupyter-widgets/controls",
          "model_module_version": "1.5.0",
          "model_name": "DescriptionStyleModel",
          "state": {
            "_model_module": "@jupyter-widgets/controls",
            "_model_module_version": "1.5.0",
            "_model_name": "DescriptionStyleModel",
            "_view_count": null,
            "_view_module": "@jupyter-widgets/base",
            "_view_module_version": "1.2.0",
            "_view_name": "StyleView",
            "description_width": ""
          }
        },
        "ac7e45dded2a4c2db0da4c55c98241ba": {
          "model_module": "@jupyter-widgets/controls",
          "model_module_version": "1.5.0",
          "model_name": "DescriptionStyleModel",
          "state": {
            "_model_module": "@jupyter-widgets/controls",
            "_model_module_version": "1.5.0",
            "_model_name": "DescriptionStyleModel",
            "_view_count": null,
            "_view_module": "@jupyter-widgets/base",
            "_view_module_version": "1.2.0",
            "_view_name": "StyleView",
            "description_width": ""
          }
        },
        "ae7b4d21ca9645839952611d7dc85d11": {
          "model_module": "@jupyter-widgets/controls",
          "model_module_version": "1.5.0",
          "model_name": "ProgressStyleModel",
          "state": {
            "_model_module": "@jupyter-widgets/controls",
            "_model_module_version": "1.5.0",
            "_model_name": "ProgressStyleModel",
            "_view_count": null,
            "_view_module": "@jupyter-widgets/base",
            "_view_module_version": "1.2.0",
            "_view_name": "StyleView",
            "bar_color": null,
            "description_width": ""
          }
        },
        "af96c24ff9fc4dd283069e1eee5e5962": {
          "model_module": "@jupyter-widgets/base",
          "model_module_version": "1.2.0",
          "model_name": "LayoutModel",
          "state": {
            "_model_module": "@jupyter-widgets/base",
            "_model_module_version": "1.2.0",
            "_model_name": "LayoutModel",
            "_view_count": null,
            "_view_module": "@jupyter-widgets/base",
            "_view_module_version": "1.2.0",
            "_view_name": "LayoutView",
            "align_content": null,
            "align_items": null,
            "align_self": null,
            "border": null,
            "bottom": null,
            "display": null,
            "flex": null,
            "flex_flow": null,
            "grid_area": null,
            "grid_auto_columns": null,
            "grid_auto_flow": null,
            "grid_auto_rows": null,
            "grid_column": null,
            "grid_gap": null,
            "grid_row": null,
            "grid_template_areas": null,
            "grid_template_columns": null,
            "grid_template_rows": null,
            "height": null,
            "justify_content": null,
            "justify_items": null,
            "left": null,
            "margin": null,
            "max_height": null,
            "max_width": null,
            "min_height": null,
            "min_width": null,
            "object_fit": null,
            "object_position": null,
            "order": null,
            "overflow": null,
            "overflow_x": null,
            "overflow_y": null,
            "padding": null,
            "right": null,
            "top": null,
            "visibility": null,
            "width": null
          }
        },
        "b1cf6819443d47e2ab6582f929099ab1": {
          "model_module": "@jupyter-widgets/base",
          "model_module_version": "1.2.0",
          "model_name": "LayoutModel",
          "state": {
            "_model_module": "@jupyter-widgets/base",
            "_model_module_version": "1.2.0",
            "_model_name": "LayoutModel",
            "_view_count": null,
            "_view_module": "@jupyter-widgets/base",
            "_view_module_version": "1.2.0",
            "_view_name": "LayoutView",
            "align_content": null,
            "align_items": null,
            "align_self": null,
            "border": null,
            "bottom": null,
            "display": null,
            "flex": null,
            "flex_flow": null,
            "grid_area": null,
            "grid_auto_columns": null,
            "grid_auto_flow": null,
            "grid_auto_rows": null,
            "grid_column": null,
            "grid_gap": null,
            "grid_row": null,
            "grid_template_areas": null,
            "grid_template_columns": null,
            "grid_template_rows": null,
            "height": null,
            "justify_content": null,
            "justify_items": null,
            "left": null,
            "margin": null,
            "max_height": null,
            "max_width": null,
            "min_height": null,
            "min_width": null,
            "object_fit": null,
            "object_position": null,
            "order": null,
            "overflow": null,
            "overflow_x": null,
            "overflow_y": null,
            "padding": null,
            "right": null,
            "top": null,
            "visibility": null,
            "width": null
          }
        },
        "b35f9c6d4bff4d269b34088e0c8753d5": {
          "model_module": "@jupyter-widgets/base",
          "model_module_version": "1.2.0",
          "model_name": "LayoutModel",
          "state": {
            "_model_module": "@jupyter-widgets/base",
            "_model_module_version": "1.2.0",
            "_model_name": "LayoutModel",
            "_view_count": null,
            "_view_module": "@jupyter-widgets/base",
            "_view_module_version": "1.2.0",
            "_view_name": "LayoutView",
            "align_content": null,
            "align_items": null,
            "align_self": null,
            "border": null,
            "bottom": null,
            "display": null,
            "flex": null,
            "flex_flow": null,
            "grid_area": null,
            "grid_auto_columns": null,
            "grid_auto_flow": null,
            "grid_auto_rows": null,
            "grid_column": null,
            "grid_gap": null,
            "grid_row": null,
            "grid_template_areas": null,
            "grid_template_columns": null,
            "grid_template_rows": null,
            "height": null,
            "justify_content": null,
            "justify_items": null,
            "left": null,
            "margin": null,
            "max_height": null,
            "max_width": null,
            "min_height": null,
            "min_width": null,
            "object_fit": null,
            "object_position": null,
            "order": null,
            "overflow": null,
            "overflow_x": null,
            "overflow_y": null,
            "padding": null,
            "right": null,
            "top": null,
            "visibility": null,
            "width": null
          }
        },
        "bb17f360f84f4b629b3af6dc6a3a2850": {
          "model_module": "@jupyter-widgets/controls",
          "model_module_version": "1.5.0",
          "model_name": "HTMLModel",
          "state": {
            "_dom_classes": [],
            "_model_module": "@jupyter-widgets/controls",
            "_model_module_version": "1.5.0",
            "_model_name": "HTMLModel",
            "_view_count": null,
            "_view_module": "@jupyter-widgets/controls",
            "_view_module_version": "1.5.0",
            "_view_name": "HTMLView",
            "description": "",
            "description_tooltip": null,
            "layout": "IPY_MODEL_ff140ba9623e46f488f40c8c8da28207",
            "placeholder": "​",
            "style": "IPY_MODEL_ab14e068a8fd4969bb392cc669a7f378",
            "value": " 1135/1135 [00:00&lt;00:00, 5239.28it/s]"
          }
        },
        "c6a6408249634a0c977f344bf6d75263": {
          "model_module": "@jupyter-widgets/controls",
          "model_module_version": "1.5.0",
          "model_name": "FloatProgressModel",
          "state": {
            "_dom_classes": [],
            "_model_module": "@jupyter-widgets/controls",
            "_model_module_version": "1.5.0",
            "_model_name": "FloatProgressModel",
            "_view_count": null,
            "_view_module": "@jupyter-widgets/controls",
            "_view_module_version": "1.5.0",
            "_view_name": "ProgressView",
            "bar_style": "success",
            "description": "",
            "description_tooltip": null,
            "layout": "IPY_MODEL_325578f72faa4452a74885e30d53b51d",
            "max": 1139,
            "min": 0,
            "orientation": "horizontal",
            "style": "IPY_MODEL_fc40362749c44e81ac4c4d6833bd29a0",
            "value": 1139
          }
        },
        "cd8180a83f5c4b17a0e2a1dc59091339": {
          "model_module": "@jupyter-widgets/controls",
          "model_module_version": "1.5.0",
          "model_name": "DescriptionStyleModel",
          "state": {
            "_model_module": "@jupyter-widgets/controls",
            "_model_module_version": "1.5.0",
            "_model_name": "DescriptionStyleModel",
            "_view_count": null,
            "_view_module": "@jupyter-widgets/base",
            "_view_module_version": "1.2.0",
            "_view_name": "StyleView",
            "description_width": ""
          }
        },
        "cdf8e1d921284ea88a40dcb342e4167c": {
          "model_module": "@jupyter-widgets/base",
          "model_module_version": "1.2.0",
          "model_name": "LayoutModel",
          "state": {
            "_model_module": "@jupyter-widgets/base",
            "_model_module_version": "1.2.0",
            "_model_name": "LayoutModel",
            "_view_count": null,
            "_view_module": "@jupyter-widgets/base",
            "_view_module_version": "1.2.0",
            "_view_name": "LayoutView",
            "align_content": null,
            "align_items": null,
            "align_self": null,
            "border": null,
            "bottom": null,
            "display": null,
            "flex": null,
            "flex_flow": null,
            "grid_area": null,
            "grid_auto_columns": null,
            "grid_auto_flow": null,
            "grid_auto_rows": null,
            "grid_column": null,
            "grid_gap": null,
            "grid_row": null,
            "grid_template_areas": null,
            "grid_template_columns": null,
            "grid_template_rows": null,
            "height": null,
            "justify_content": null,
            "justify_items": null,
            "left": null,
            "margin": null,
            "max_height": null,
            "max_width": null,
            "min_height": null,
            "min_width": null,
            "object_fit": null,
            "object_position": null,
            "order": null,
            "overflow": null,
            "overflow_x": null,
            "overflow_y": null,
            "padding": null,
            "right": null,
            "top": null,
            "visibility": null,
            "width": null
          }
        },
        "d0e0e861306f4a45b7dfd4599e0daaf0": {
          "model_module": "@jupyter-widgets/controls",
          "model_module_version": "1.5.0",
          "model_name": "DescriptionStyleModel",
          "state": {
            "_model_module": "@jupyter-widgets/controls",
            "_model_module_version": "1.5.0",
            "_model_name": "DescriptionStyleModel",
            "_view_count": null,
            "_view_module": "@jupyter-widgets/base",
            "_view_module_version": "1.2.0",
            "_view_name": "StyleView",
            "description_width": ""
          }
        },
        "d3558516df7c4782b2f5260b67fda6f7": {
          "model_module": "@jupyter-widgets/controls",
          "model_module_version": "1.5.0",
          "model_name": "FloatProgressModel",
          "state": {
            "_dom_classes": [],
            "_model_module": "@jupyter-widgets/controls",
            "_model_module_version": "1.5.0",
            "_model_name": "FloatProgressModel",
            "_view_count": null,
            "_view_module": "@jupyter-widgets/controls",
            "_view_module_version": "1.5.0",
            "_view_name": "ProgressView",
            "bar_style": "success",
            "description": "",
            "description_tooltip": null,
            "layout": "IPY_MODEL_cdf8e1d921284ea88a40dcb342e4167c",
            "max": 1135,
            "min": 0,
            "orientation": "horizontal",
            "style": "IPY_MODEL_ae7b4d21ca9645839952611d7dc85d11",
            "value": 1135
          }
        },
        "d9c511105d6a49adbc90718d6221b3c3": {
          "model_module": "@jupyter-widgets/controls",
          "model_module_version": "1.5.0",
          "model_name": "FloatProgressModel",
          "state": {
            "_dom_classes": [],
            "_model_module": "@jupyter-widgets/controls",
            "_model_module_version": "1.5.0",
            "_model_name": "FloatProgressModel",
            "_view_count": null,
            "_view_module": "@jupyter-widgets/controls",
            "_view_module_version": "1.5.0",
            "_view_name": "ProgressView",
            "bar_style": "success",
            "description": "",
            "description_tooltip": null,
            "layout": "IPY_MODEL_dc606307e6aa4df888a8450576ede53a",
            "max": 1161,
            "min": 0,
            "orientation": "horizontal",
            "style": "IPY_MODEL_1193d041882a41faa14f477235d6e723",
            "value": 1161
          }
        },
        "dc606307e6aa4df888a8450576ede53a": {
          "model_module": "@jupyter-widgets/base",
          "model_module_version": "1.2.0",
          "model_name": "LayoutModel",
          "state": {
            "_model_module": "@jupyter-widgets/base",
            "_model_module_version": "1.2.0",
            "_model_name": "LayoutModel",
            "_view_count": null,
            "_view_module": "@jupyter-widgets/base",
            "_view_module_version": "1.2.0",
            "_view_name": "LayoutView",
            "align_content": null,
            "align_items": null,
            "align_self": null,
            "border": null,
            "bottom": null,
            "display": null,
            "flex": null,
            "flex_flow": null,
            "grid_area": null,
            "grid_auto_columns": null,
            "grid_auto_flow": null,
            "grid_auto_rows": null,
            "grid_column": null,
            "grid_gap": null,
            "grid_row": null,
            "grid_template_areas": null,
            "grid_template_columns": null,
            "grid_template_rows": null,
            "height": null,
            "justify_content": null,
            "justify_items": null,
            "left": null,
            "margin": null,
            "max_height": null,
            "max_width": null,
            "min_height": null,
            "min_width": null,
            "object_fit": null,
            "object_position": null,
            "order": null,
            "overflow": null,
            "overflow_x": null,
            "overflow_y": null,
            "padding": null,
            "right": null,
            "top": null,
            "visibility": null,
            "width": null
          }
        },
        "debca4ad4bbf48d1af33b80b1d457b69": {
          "model_module": "@jupyter-widgets/controls",
          "model_module_version": "1.5.0",
          "model_name": "HBoxModel",
          "state": {
            "_dom_classes": [],
            "_model_module": "@jupyter-widgets/controls",
            "_model_module_version": "1.5.0",
            "_model_name": "HBoxModel",
            "_view_count": null,
            "_view_module": "@jupyter-widgets/controls",
            "_view_module_version": "1.5.0",
            "_view_name": "HBoxView",
            "box_style": "",
            "children": [
              "IPY_MODEL_60a400f7311649949568dd82d828130e",
              "IPY_MODEL_c6a6408249634a0c977f344bf6d75263",
              "IPY_MODEL_05aeebd0fe4d4eb599b2fc3a7403a6f4"
            ],
            "layout": "IPY_MODEL_3883a72334054233bdac9d0f7d0387e4"
          }
        },
        "e35e0b20d5f2445783cf3acdd9c6749c": {
          "model_module": "@jupyter-widgets/controls",
          "model_module_version": "1.5.0",
          "model_name": "HTMLModel",
          "state": {
            "_dom_classes": [],
            "_model_module": "@jupyter-widgets/controls",
            "_model_module_version": "1.5.0",
            "_model_name": "HTMLModel",
            "_view_count": null,
            "_view_module": "@jupyter-widgets/controls",
            "_view_module_version": "1.5.0",
            "_view_name": "HTMLView",
            "description": "",
            "description_tooltip": null,
            "layout": "IPY_MODEL_6d2abe9737544fa08844b7217156bed8",
            "placeholder": "​",
            "style": "IPY_MODEL_77c772de088544b0a9fa35b37717d228",
            "value": "100%"
          }
        },
        "e42a3e6068184a168a9c89273ae110ec": {
          "model_module": "@jupyter-widgets/controls",
          "model_module_version": "1.5.0",
          "model_name": "HTMLModel",
          "state": {
            "_dom_classes": [],
            "_model_module": "@jupyter-widgets/controls",
            "_model_module_version": "1.5.0",
            "_model_name": "HTMLModel",
            "_view_count": null,
            "_view_module": "@jupyter-widgets/controls",
            "_view_module_version": "1.5.0",
            "_view_name": "HTMLView",
            "description": "",
            "description_tooltip": null,
            "layout": "IPY_MODEL_5c8e0751c59f46bcaaaecd78f33920d3",
            "placeholder": "​",
            "style": "IPY_MODEL_1d50a91ed8234f11aaf43976ccfe6026",
            "value": " 1139/1139 [00:00&lt;00:00, 4428.15it/s]"
          }
        },
        "e5fb39f497464a00af4c6cabe45c49f2": {
          "model_module": "@jupyter-widgets/controls",
          "model_module_version": "1.5.0",
          "model_name": "HBoxModel",
          "state": {
            "_dom_classes": [],
            "_model_module": "@jupyter-widgets/controls",
            "_model_module_version": "1.5.0",
            "_model_name": "HBoxModel",
            "_view_count": null,
            "_view_module": "@jupyter-widgets/controls",
            "_view_module_version": "1.5.0",
            "_view_name": "HBoxView",
            "box_style": "",
            "children": [
              "IPY_MODEL_87f68453734a41f4815e046e01678806",
              "IPY_MODEL_d9c511105d6a49adbc90718d6221b3c3",
              "IPY_MODEL_7301c66059bb413cba8bf90b51e6aed3"
            ],
            "layout": "IPY_MODEL_5b31e41df9d64649a806f90496791977"
          }
        },
        "f53e4dad14d14d59bfc78c2aeb1ec314": {
          "model_module": "@jupyter-widgets/base",
          "model_module_version": "1.2.0",
          "model_name": "LayoutModel",
          "state": {
            "_model_module": "@jupyter-widgets/base",
            "_model_module_version": "1.2.0",
            "_model_name": "LayoutModel",
            "_view_count": null,
            "_view_module": "@jupyter-widgets/base",
            "_view_module_version": "1.2.0",
            "_view_name": "LayoutView",
            "align_content": null,
            "align_items": null,
            "align_self": null,
            "border": null,
            "bottom": null,
            "display": null,
            "flex": null,
            "flex_flow": null,
            "grid_area": null,
            "grid_auto_columns": null,
            "grid_auto_flow": null,
            "grid_auto_rows": null,
            "grid_column": null,
            "grid_gap": null,
            "grid_row": null,
            "grid_template_areas": null,
            "grid_template_columns": null,
            "grid_template_rows": null,
            "height": null,
            "justify_content": null,
            "justify_items": null,
            "left": null,
            "margin": null,
            "max_height": null,
            "max_width": null,
            "min_height": null,
            "min_width": null,
            "object_fit": null,
            "object_position": null,
            "order": null,
            "overflow": null,
            "overflow_x": null,
            "overflow_y": null,
            "padding": null,
            "right": null,
            "top": null,
            "visibility": null,
            "width": null
          }
        },
        "fab3504d23c142d085056ab7d88d780e": {
          "model_module": "@jupyter-widgets/controls",
          "model_module_version": "1.5.0",
          "model_name": "ProgressStyleModel",
          "state": {
            "_model_module": "@jupyter-widgets/controls",
            "_model_module_version": "1.5.0",
            "_model_name": "ProgressStyleModel",
            "_view_count": null,
            "_view_module": "@jupyter-widgets/base",
            "_view_module_version": "1.2.0",
            "_view_name": "StyleView",
            "bar_color": null,
            "description_width": ""
          }
        },
        "fc40362749c44e81ac4c4d6833bd29a0": {
          "model_module": "@jupyter-widgets/controls",
          "model_module_version": "1.5.0",
          "model_name": "ProgressStyleModel",
          "state": {
            "_model_module": "@jupyter-widgets/controls",
            "_model_module_version": "1.5.0",
            "_model_name": "ProgressStyleModel",
            "_view_count": null,
            "_view_module": "@jupyter-widgets/base",
            "_view_module_version": "1.2.0",
            "_view_name": "StyleView",
            "bar_color": null,
            "description_width": ""
          }
        },
        "ff140ba9623e46f488f40c8c8da28207": {
          "model_module": "@jupyter-widgets/base",
          "model_module_version": "1.2.0",
          "model_name": "LayoutModel",
          "state": {
            "_model_module": "@jupyter-widgets/base",
            "_model_module_version": "1.2.0",
            "_model_name": "LayoutModel",
            "_view_count": null,
            "_view_module": "@jupyter-widgets/base",
            "_view_module_version": "1.2.0",
            "_view_name": "LayoutView",
            "align_content": null,
            "align_items": null,
            "align_self": null,
            "border": null,
            "bottom": null,
            "display": null,
            "flex": null,
            "flex_flow": null,
            "grid_area": null,
            "grid_auto_columns": null,
            "grid_auto_flow": null,
            "grid_auto_rows": null,
            "grid_column": null,
            "grid_gap": null,
            "grid_row": null,
            "grid_template_areas": null,
            "grid_template_columns": null,
            "grid_template_rows": null,
            "height": null,
            "justify_content": null,
            "justify_items": null,
            "left": null,
            "margin": null,
            "max_height": null,
            "max_width": null,
            "min_height": null,
            "min_width": null,
            "object_fit": null,
            "object_position": null,
            "order": null,
            "overflow": null,
            "overflow_x": null,
            "overflow_y": null,
            "padding": null,
            "right": null,
            "top": null,
            "visibility": null,
            "width": null
          }
        }
      }
    }
  },
  "nbformat": 4,
  "nbformat_minor": 0
}

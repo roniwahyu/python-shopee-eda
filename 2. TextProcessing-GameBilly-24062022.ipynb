{
  "cells": [
    {
      "cell_type": "markdown",
      "metadata": {
        "id": "Ojk5TxuC5gn9"
      },
      "source": [
        "# Aspect Based Sentiment Analysis"
      ]
    },
    {
      "cell_type": "code",
      "execution_count": 1,
      "metadata": {
        "colab": {
          "base_uri": "https://localhost:8080/",
          "height": 466
        },
        "id": "pIrEXjmVFqsA",
        "outputId": "c399bdc6-3041-42db-bf09-bfd2e59ef74b"
      },
      "outputs": [
        {
          "name": "stderr",
          "output_type": "stream",
          "text": [
            "[nltk_data] Downloading package punkt to\n",
            "[nltk_data]     C:\\Users\\LENOVO\\AppData\\Roaming\\nltk_data...\n",
            "[nltk_data]   Package punkt is already up-to-date!\n",
            "[nltk_data] Downloading package stopwords to\n",
            "[nltk_data]     C:\\Users\\LENOVO\\AppData\\Roaming\\nltk_data...\n",
            "[nltk_data]   Package stopwords is already up-to-date!\n"
          ]
        }
      ],
      "source": [
        "# Load necessary library and module\n",
        "import warnings\n",
        "warnings.filterwarnings('ignore')\n",
        "\n",
        "import sys\n",
        "import pandas as pd\n",
        "import seaborn as sns\n",
        "import numpy as np\n",
        "import matplotlib as mpl\n",
        "import matplotlib.pyplot as plt\n",
        "import re\n",
        "import string\n",
        "import unicodedata\n",
        "import nltk\n",
        "import sklearn\n",
        "import scipy\n",
        "\n",
        "nltk.download('punkt')\n",
        "nltk.download('stopwords')\n",
        "from nltk.tokenize import word_tokenize\n",
        "from nltk.corpus import stopwords\n",
        "\n",
        "from sklearn.preprocessing import LabelEncoder\n",
        "from sklearn.model_selection import train_test_split\n",
        "from sklearn.feature_extraction.text import TfidfVectorizer,CountVectorizer\n",
        "from sklearn.metrics import classification_report, confusion_matrix, accuracy_score\n",
        "\n",
        "#%matplotlib inline\n",
        "# %load_ext google.colab.data_table"
      ]
    },
    {
      "cell_type": "markdown",
      "metadata": {
        "id": "jqiteDkxPkYD"
      },
      "source": [
        "# Load Dataset"
      ]
    },
    {
      "cell_type": "code",
      "execution_count": 102,
      "metadata": {
        "id": "oOsqMMyQIAaq"
      },
      "outputs": [],
      "source": [
        "# Read and show sample data\n",
        "mlbb = pd.read_csv('review_mobile-banking_2023.csv', encoding='ISO-8859-1')\n"
      ]
    },
    {
      "cell_type": "code",
      "execution_count": 103,
      "metadata": {},
      "outputs": [
        {
          "data": {
            "text/html": [
              "<div>\n",
              "<style scoped>\n",
              "    .dataframe tbody tr th:only-of-type {\n",
              "        vertical-align: middle;\n",
              "    }\n",
              "\n",
              "    .dataframe tbody tr th {\n",
              "        vertical-align: top;\n",
              "    }\n",
              "\n",
              "    .dataframe thead th {\n",
              "        text-align: right;\n",
              "    }\n",
              "</style>\n",
              "<table border=\"1\" class=\"dataframe\">\n",
              "  <thead>\n",
              "    <tr style=\"text-align: right;\">\n",
              "      <th></th>\n",
              "      <th>reviewId</th>\n",
              "      <th>userName</th>\n",
              "      <th>userImage</th>\n",
              "      <th>content</th>\n",
              "      <th>score</th>\n",
              "      <th>label</th>\n",
              "      <th>thumbsUpCount</th>\n",
              "      <th>reviewCreatedVersion</th>\n",
              "      <th>at</th>\n",
              "      <th>replyContent</th>\n",
              "      <th>repliedAt</th>\n",
              "      <th>sortOrder</th>\n",
              "      <th>appId</th>\n",
              "    </tr>\n",
              "  </thead>\n",
              "  <tbody>\n",
              "    <tr>\n",
              "      <th>0</th>\n",
              "      <td>df52bd76-9ecb-4a58-960e-3aafc66730b3</td>\n",
              "      <td>Fadhil Rahman Dwiputro</td>\n",
              "      <td>https://play-lh.googleusercontent.com/a/AATXAJ...</td>\n",
              "      <td>I'd rate higher but there's a problem, everyti...</td>\n",
              "      <td>1</td>\n",
              "      <td>negative</td>\n",
              "      <td>1862</td>\n",
              "      <td>1.6.72.7351</td>\n",
              "      <td>2022-05-21 3:26:47</td>\n",
              "      <td>NaN</td>\n",
              "      <td>NaN</td>\n",
              "      <td>most_relevant</td>\n",
              "      <td>com.mobile.legends</td>\n",
              "    </tr>\n",
              "    <tr>\n",
              "      <th>1</th>\n",
              "      <td>62b580cf-d289-427b-934c-809057f6f5c6</td>\n",
              "      <td>Leif Nambara</td>\n",
              "      <td>https://play-lh.googleusercontent.com/a/AATXAJ...</td>\n",
              "      <td>just recently, it can't even start a game. It ...</td>\n",
              "      <td>1</td>\n",
              "      <td>negative</td>\n",
              "      <td>977</td>\n",
              "      <td>1.6.72.7351</td>\n",
              "      <td>2022-05-08 9:25:17</td>\n",
              "      <td>NaN</td>\n",
              "      <td>NaN</td>\n",
              "      <td>most_relevant</td>\n",
              "      <td>com.mobile.legends</td>\n",
              "    </tr>\n",
              "    <tr>\n",
              "      <th>2</th>\n",
              "      <td>00e71d39-ae15-451e-8c34-129ac57419e5</td>\n",
              "      <td>Davina Fernanda</td>\n",
              "      <td>https://play-lh.googleusercontent.com/a-/AOh14...</td>\n",
              "      <td>The game is fun, interesting, has a lot of her...</td>\n",
              "      <td>1</td>\n",
              "      <td>negative</td>\n",
              "      <td>62</td>\n",
              "      <td>1.6.72.7351</td>\n",
              "      <td>2022-05-30 4:58:08</td>\n",
              "      <td>NaN</td>\n",
              "      <td>NaN</td>\n",
              "      <td>most_relevant</td>\n",
              "      <td>com.mobile.legends</td>\n",
              "    </tr>\n",
              "    <tr>\n",
              "      <th>3</th>\n",
              "      <td>7eb07db9-051a-4be9-ac67-5983b0447b11</td>\n",
              "      <td>Af Jocelin</td>\n",
              "      <td>https://play-lh.googleusercontent.com/a-/AOh14...</td>\n",
              "      <td>Its been more than 4 years im playing this gam...</td>\n",
              "      <td>1</td>\n",
              "      <td>negative</td>\n",
              "      <td>704</td>\n",
              "      <td>1.6.72.7351</td>\n",
              "      <td>2022-04-17 3:43:07</td>\n",
              "      <td>NaN</td>\n",
              "      <td>NaN</td>\n",
              "      <td>most_relevant</td>\n",
              "      <td>com.mobile.legends</td>\n",
              "    </tr>\n",
              "    <tr>\n",
              "      <th>4</th>\n",
              "      <td>3401476b-04f8-4fb4-b538-dc663bc0efc7</td>\n",
              "      <td>Fernando Willian Gaming</td>\n",
              "      <td>https://play-lh.googleusercontent.com/a/AATXAJ...</td>\n",
              "      <td>You know what? I don't care anymore. The devel...</td>\n",
              "      <td>1</td>\n",
              "      <td>negative</td>\n",
              "      <td>62</td>\n",
              "      <td>1.6.72.7351</td>\n",
              "      <td>2022-05-27 7:14:08</td>\n",
              "      <td>NaN</td>\n",
              "      <td>NaN</td>\n",
              "      <td>most_relevant</td>\n",
              "      <td>com.mobile.legends</td>\n",
              "    </tr>\n",
              "  </tbody>\n",
              "</table>\n",
              "</div>"
            ],
            "text/plain": [
              "                               reviewId                 userName  \\\n",
              "0  df52bd76-9ecb-4a58-960e-3aafc66730b3   Fadhil Rahman Dwiputro   \n",
              "1  62b580cf-d289-427b-934c-809057f6f5c6             Leif Nambara   \n",
              "2  00e71d39-ae15-451e-8c34-129ac57419e5          Davina Fernanda   \n",
              "3  7eb07db9-051a-4be9-ac67-5983b0447b11               Af Jocelin   \n",
              "4  3401476b-04f8-4fb4-b538-dc663bc0efc7  Fernando Willian Gaming   \n",
              "\n",
              "                                           userImage  \\\n",
              "0  https://play-lh.googleusercontent.com/a/AATXAJ...   \n",
              "1  https://play-lh.googleusercontent.com/a/AATXAJ...   \n",
              "2  https://play-lh.googleusercontent.com/a-/AOh14...   \n",
              "3  https://play-lh.googleusercontent.com/a-/AOh14...   \n",
              "4  https://play-lh.googleusercontent.com/a/AATXAJ...   \n",
              "\n",
              "                                             content  score     label  \\\n",
              "0  I'd rate higher but there's a problem, everyti...      1  negative   \n",
              "1  just recently, it can't even start a game. It ...      1  negative   \n",
              "2  The game is fun, interesting, has a lot of her...      1  negative   \n",
              "3  Its been more than 4 years im playing this gam...      1  negative   \n",
              "4  You know what? I don't care anymore. The devel...      1  negative   \n",
              "\n",
              "   thumbsUpCount reviewCreatedVersion                  at replyContent  \\\n",
              "0           1862          1.6.72.7351  2022-05-21 3:26:47          NaN   \n",
              "1            977          1.6.72.7351  2022-05-08 9:25:17          NaN   \n",
              "2             62          1.6.72.7351  2022-05-30 4:58:08          NaN   \n",
              "3            704          1.6.72.7351  2022-04-17 3:43:07          NaN   \n",
              "4             62          1.6.72.7351  2022-05-27 7:14:08          NaN   \n",
              "\n",
              "  repliedAt      sortOrder               appId  \n",
              "0       NaN  most_relevant  com.mobile.legends  \n",
              "1       NaN  most_relevant  com.mobile.legends  \n",
              "2       NaN  most_relevant  com.mobile.legends  \n",
              "3       NaN  most_relevant  com.mobile.legends  \n",
              "4       NaN  most_relevant  com.mobile.legends  "
            ]
          },
          "execution_count": 103,
          "metadata": {},
          "output_type": "execute_result"
        }
      ],
      "source": [
        "mlbb.head()"
      ]
    },
    {
      "cell_type": "code",
      "execution_count": 104,
      "metadata": {
        "id": "QVReTxrYGq3v"
      },
      "outputs": [
        {
          "data": {
            "text/html": [
              "<div>\n",
              "<style scoped>\n",
              "    .dataframe tbody tr th:only-of-type {\n",
              "        vertical-align: middle;\n",
              "    }\n",
              "\n",
              "    .dataframe tbody tr th {\n",
              "        vertical-align: top;\n",
              "    }\n",
              "\n",
              "    .dataframe thead th {\n",
              "        text-align: right;\n",
              "    }\n",
              "</style>\n",
              "<table border=\"1\" class=\"dataframe\">\n",
              "  <thead>\n",
              "    <tr style=\"text-align: right;\">\n",
              "      <th></th>\n",
              "      <th>content</th>\n",
              "      <th>score</th>\n",
              "      <th>label</th>\n",
              "    </tr>\n",
              "  </thead>\n",
              "  <tbody>\n",
              "    <tr>\n",
              "      <th>0</th>\n",
              "      <td>I'd rate higher but there's a problem, everyti...</td>\n",
              "      <td>1</td>\n",
              "      <td>negative</td>\n",
              "    </tr>\n",
              "    <tr>\n",
              "      <th>1</th>\n",
              "      <td>just recently, it can't even start a game. It ...</td>\n",
              "      <td>1</td>\n",
              "      <td>negative</td>\n",
              "    </tr>\n",
              "    <tr>\n",
              "      <th>2</th>\n",
              "      <td>The game is fun, interesting, has a lot of her...</td>\n",
              "      <td>1</td>\n",
              "      <td>negative</td>\n",
              "    </tr>\n",
              "    <tr>\n",
              "      <th>3</th>\n",
              "      <td>Its been more than 4 years im playing this gam...</td>\n",
              "      <td>1</td>\n",
              "      <td>negative</td>\n",
              "    </tr>\n",
              "    <tr>\n",
              "      <th>4</th>\n",
              "      <td>You know what? I don't care anymore. The devel...</td>\n",
              "      <td>1</td>\n",
              "      <td>negative</td>\n",
              "    </tr>\n",
              "  </tbody>\n",
              "</table>\n",
              "</div>"
            ],
            "text/plain": [
              "                                             content  score     label\n",
              "0  I'd rate higher but there's a problem, everyti...      1  negative\n",
              "1  just recently, it can't even start a game. It ...      1  negative\n",
              "2  The game is fun, interesting, has a lot of her...      1  negative\n",
              "3  Its been more than 4 years im playing this gam...      1  negative\n",
              "4  You know what? I don't care anymore. The devel...      1  negative"
            ]
          },
          "execution_count": 104,
          "metadata": {},
          "output_type": "execute_result"
        }
      ],
      "source": [
        "mlbb = mlbb[['content', 'score','label']]\n",
        "mlbb = mlbb.dropna()\n",
        "mlbb.head()"
      ]
    },
    {
      "cell_type": "code",
      "execution_count": 109,
      "metadata": {},
      "outputs": [
        {
          "data": {
            "text/html": [
              "<div>\n",
              "<style scoped>\n",
              "    .dataframe tbody tr th:only-of-type {\n",
              "        vertical-align: middle;\n",
              "    }\n",
              "\n",
              "    .dataframe tbody tr th {\n",
              "        vertical-align: top;\n",
              "    }\n",
              "\n",
              "    .dataframe thead th {\n",
              "        text-align: right;\n",
              "    }\n",
              "</style>\n",
              "<table border=\"1\" class=\"dataframe\">\n",
              "  <thead>\n",
              "    <tr style=\"text-align: right;\">\n",
              "      <th></th>\n",
              "      <th>content</th>\n",
              "      <th>score</th>\n",
              "      <th>label</th>\n",
              "      <th>sentiment</th>\n",
              "      <th>polarity</th>\n",
              "    </tr>\n",
              "  </thead>\n",
              "  <tbody>\n",
              "    <tr>\n",
              "      <th>0</th>\n",
              "      <td>I'd rate higher but there's a problem, everyti...</td>\n",
              "      <td>1</td>\n",
              "      <td>negative</td>\n",
              "      <td>0</td>\n",
              "      <td>negative</td>\n",
              "    </tr>\n",
              "    <tr>\n",
              "      <th>1</th>\n",
              "      <td>just recently, it can't even start a game. It ...</td>\n",
              "      <td>1</td>\n",
              "      <td>negative</td>\n",
              "      <td>0</td>\n",
              "      <td>negative</td>\n",
              "    </tr>\n",
              "    <tr>\n",
              "      <th>2</th>\n",
              "      <td>The game is fun, interesting, has a lot of her...</td>\n",
              "      <td>1</td>\n",
              "      <td>negative</td>\n",
              "      <td>0</td>\n",
              "      <td>negative</td>\n",
              "    </tr>\n",
              "    <tr>\n",
              "      <th>3</th>\n",
              "      <td>Its been more than 4 years im playing this gam...</td>\n",
              "      <td>1</td>\n",
              "      <td>negative</td>\n",
              "      <td>0</td>\n",
              "      <td>negative</td>\n",
              "    </tr>\n",
              "    <tr>\n",
              "      <th>4</th>\n",
              "      <td>You know what? I don't care anymore. The devel...</td>\n",
              "      <td>1</td>\n",
              "      <td>negative</td>\n",
              "      <td>0</td>\n",
              "      <td>negative</td>\n",
              "    </tr>\n",
              "  </tbody>\n",
              "</table>\n",
              "</div>"
            ],
            "text/plain": [
              "                                             content  score     label  \\\n",
              "0  I'd rate higher but there's a problem, everyti...      1  negative   \n",
              "1  just recently, it can't even start a game. It ...      1  negative   \n",
              "2  The game is fun, interesting, has a lot of her...      1  negative   \n",
              "3  Its been more than 4 years im playing this gam...      1  negative   \n",
              "4  You know what? I don't care anymore. The devel...      1  negative   \n",
              "\n",
              "   sentiment  polarity  \n",
              "0          0  negative  \n",
              "1          0  negative  \n",
              "2          0  negative  \n",
              "3          0  negative  \n",
              "4          0  negative  "
            ]
          },
          "execution_count": 109,
          "metadata": {},
          "output_type": "execute_result"
        }
      ],
      "source": [
        "mlbb.head()"
      ]
    },
    {
      "cell_type": "code",
      "execution_count": 110,
      "metadata": {
        "colab": {
          "base_uri": "https://localhost:8080/",
          "height": 2135
        },
        "id": "2Yo1LRFsICs1",
        "outputId": "63328058-af85-4d66-ab2c-28befd9cf0a1"
      },
      "outputs": [],
      "source": [
        "# score to polarity\n",
        "def to_polarity(rating):\n",
        "  rating = int(rating)\n",
        "  if rating <= 2:\n",
        "    return 'negative'\n",
        "  elif rating == 3:\n",
        "    return 'neutral'\n",
        "  else: \n",
        "    return 'positive'\n",
        "\n",
        "# score to sentiment\n",
        "def to_sentiment(rating):\n",
        "  rating = int(rating)\n",
        "  if rating <= 2:\n",
        "    return 0\n",
        "  elif rating == 3:\n",
        "    return 1\n",
        "  else: \n",
        "    return 2\n"
      ]
    },
    {
      "cell_type": "code",
      "execution_count": 111,
      "metadata": {},
      "outputs": [],
      "source": [
        "\n",
        "class_names = ['negative', 'neutral', 'positive']\n",
        "\n",
        "mlbb['sentiment'] = mlbb.score.apply(to_sentiment)\n",
        "mlbb['polarity'] = mlbb.score.apply(to_polarity)\n",
        "ffm['sentiment'] = ffm.score.apply(to_sentiment)\n",
        "ffm['polarity'] = ffm.score.apply(to_polarity)\n",
        "hdi['sentiment'] = hdi.score.apply(to_sentiment)\n",
        "hdi['polarity'] = hdi.score.apply(to_polarity)\n",
        "\n",
        "# mlbb.head(3000)"
      ]
    },
    {
      "cell_type": "code",
      "execution_count": 112,
      "metadata": {},
      "outputs": [
        {
          "data": {
            "text/plain": [
              "negative    400\n",
              "neutral     400\n",
              "positive    400\n",
              "Name: polarity, dtype: int64"
            ]
          },
          "execution_count": 112,
          "metadata": {},
          "output_type": "execute_result"
        }
      ],
      "source": [
        "mlbb['polarity'].value_counts()"
      ]
    },
    {
      "cell_type": "code",
      "execution_count": 113,
      "metadata": {},
      "outputs": [
        {
          "data": {
            "text/plain": [
              "content      0\n",
              "score        0\n",
              "label        0\n",
              "sentiment    0\n",
              "polarity     0\n",
              "dtype: int64"
            ]
          },
          "execution_count": 113,
          "metadata": {},
          "output_type": "execute_result"
        }
      ],
      "source": [
        "#CHECKING FOR MISSING VALUES\n",
        "mlbb.isnull().sum()\n",
        "# ffm.isnull().sum()\n",
        "# hdi.isnull().sum()"
      ]
    },
    {
      "cell_type": "code",
      "execution_count": 114,
      "metadata": {},
      "outputs": [
        {
          "data": {
            "text/plain": [
              "(1200, 15)"
            ]
          },
          "execution_count": 114,
          "metadata": {},
          "output_type": "execute_result"
        }
      ],
      "source": [
        "ffm.shape"
      ]
    },
    {
      "cell_type": "code",
      "execution_count": 36,
      "metadata": {},
      "outputs": [
        {
          "data": {
            "text/plain": [
              "content      0\n",
              "score        0\n",
              "label        0\n",
              "sentiment    0\n",
              "polarity     0\n",
              "dtype: int64"
            ]
          },
          "execution_count": 36,
          "metadata": {},
          "output_type": "execute_result"
        }
      ],
      "source": [
        "mlbb.dropna(inplace=True)\n",
        "mlbb.isnull().sum()\n",
        "ffm.dropna(inplace=True)\n",
        "ffm.isnull().sum()\n",
        "hdi.dropna(inplace=True)\n",
        "hdi.isnull().sum()"
      ]
    },
    {
      "cell_type": "code",
      "execution_count": 115,
      "metadata": {},
      "outputs": [
        {
          "data": {
            "text/plain": [
              "<AxesSubplot:xlabel='polarity', ylabel='count'>"
            ]
          },
          "execution_count": 115,
          "metadata": {},
          "output_type": "execute_result"
        },
        {
          "data": {
            "image/png": "[encoded data removed]",
            "text/plain": [
              "<Figure size 432x288 with 1 Axes>"
            ]
          },
          "metadata": {
            "needs_background": "light"
          },
          "output_type": "display_data"
        }
      ],
      "source": [
        "sns.countplot(ffm.polarity)"
      ]
    },
    {
      "cell_type": "code",
      "execution_count": 116,
      "metadata": {},
      "outputs": [
        {
          "data": {
            "text/html": [
              "<div>\n",
              "<style scoped>\n",
              "    .dataframe tbody tr th:only-of-type {\n",
              "        vertical-align: middle;\n",
              "    }\n",
              "\n",
              "    .dataframe tbody tr th {\n",
              "        vertical-align: top;\n",
              "    }\n",
              "\n",
              "    .dataframe thead th {\n",
              "        text-align: right;\n",
              "    }\n",
              "</style>\n",
              "<table border=\"1\" class=\"dataframe\">\n",
              "  <thead>\n",
              "    <tr style=\"text-align: right;\">\n",
              "      <th></th>\n",
              "      <th>score</th>\n",
              "      <th>sentiment</th>\n",
              "    </tr>\n",
              "  </thead>\n",
              "  <tbody>\n",
              "    <tr>\n",
              "      <th>count</th>\n",
              "      <td>1200.000000</td>\n",
              "      <td>1200.000000</td>\n",
              "    </tr>\n",
              "    <tr>\n",
              "      <th>mean</th>\n",
              "      <td>3.000000</td>\n",
              "      <td>1.000000</td>\n",
              "    </tr>\n",
              "    <tr>\n",
              "      <th>std</th>\n",
              "      <td>1.291533</td>\n",
              "      <td>0.816837</td>\n",
              "    </tr>\n",
              "    <tr>\n",
              "      <th>min</th>\n",
              "      <td>1.000000</td>\n",
              "      <td>0.000000</td>\n",
              "    </tr>\n",
              "    <tr>\n",
              "      <th>25%</th>\n",
              "      <td>2.000000</td>\n",
              "      <td>0.000000</td>\n",
              "    </tr>\n",
              "    <tr>\n",
              "      <th>50%</th>\n",
              "      <td>3.000000</td>\n",
              "      <td>1.000000</td>\n",
              "    </tr>\n",
              "    <tr>\n",
              "      <th>75%</th>\n",
              "      <td>4.000000</td>\n",
              "      <td>2.000000</td>\n",
              "    </tr>\n",
              "    <tr>\n",
              "      <th>max</th>\n",
              "      <td>5.000000</td>\n",
              "      <td>2.000000</td>\n",
              "    </tr>\n",
              "  </tbody>\n",
              "</table>\n",
              "</div>"
            ],
            "text/plain": [
              "             score    sentiment\n",
              "count  1200.000000  1200.000000\n",
              "mean      3.000000     1.000000\n",
              "std       1.291533     0.816837\n",
              "min       1.000000     0.000000\n",
              "25%       2.000000     0.000000\n",
              "50%       3.000000     1.000000\n",
              "75%       4.000000     2.000000\n",
              "max       5.000000     2.000000"
            ]
          },
          "execution_count": 116,
          "metadata": {},
          "output_type": "execute_result"
        }
      ],
      "source": [
        "mlbb.describe()"
      ]
    },
    {
      "cell_type": "markdown",
      "metadata": {},
      "source": [
        "# TextBlob\n"
      ]
    },
    {
      "cell_type": "code",
      "execution_count": 16,
      "metadata": {},
      "outputs": [
        {
          "name": "stdout",
          "output_type": "stream",
          "text": [
            "Requirement already satisfied: textblob in d:\\anacondapython3\\lib\\site-packages (0.17.1)\n",
            "Requirement already satisfied: nltk>=3.1 in d:\\anacondapython3\\lib\\site-packages (from textblob) (3.6.5)\n",
            "Requirement already satisfied: click in d:\\anacondapython3\\lib\\site-packages (from nltk>=3.1->textblob) (8.0.3)\n",
            "Requirement already satisfied: joblib in d:\\anacondapython3\\lib\\site-packages (from nltk>=3.1->textblob) (1.1.0)\n",
            "Requirement already satisfied: regex>=2021.8.3 in d:\\anacondapython3\\lib\\site-packages (from nltk>=3.1->textblob) (2021.8.3)\n",
            "Requirement already satisfied: tqdm in d:\\anacondapython3\\lib\\site-packages (from nltk>=3.1->textblob) (4.62.3)\n",
            "Requirement already satisfied: colorama in d:\\anacondapython3\\lib\\site-packages (from click->nltk>=3.1->textblob) (0.4.4)\n"
          ]
        }
      ],
      "source": [
        "# TextBlob\n",
        "# https://www.analyticsvidhya.com/blog/2021/10/sentiment-analysis-with-textblob-and-vader/\n",
        "# !pip install textblob\n"
      ]
    },
    {
      "cell_type": "code",
      "execution_count": 17,
      "metadata": {},
      "outputs": [],
      "source": [
        "from textblob import TextBlob"
      ]
    },
    {
      "cell_type": "code",
      "execution_count": 37,
      "metadata": {},
      "outputs": [],
      "source": [
        "def sentiment_calc(text):\n",
        "    try:\n",
        "        return TextBlob(text).sentiment\n",
        "    except:\n",
        "        return None\n"
      ]
    },
    {
      "cell_type": "code",
      "execution_count": 38,
      "metadata": {},
      "outputs": [],
      "source": [
        "def textblob_polarity(text):\n",
        "    try:\n",
        "        return TextBlob(text).polarity\n",
        "    except:\n",
        "        return None"
      ]
    },
    {
      "cell_type": "code",
      "execution_count": 39,
      "metadata": {},
      "outputs": [],
      "source": [
        "def textblob_subject(text):\n",
        "    try:\n",
        "        return TextBlob(text).subjectivity\n",
        "    except:\n",
        "        return None"
      ]
    },
    {
      "cell_type": "code",
      "execution_count": 40,
      "metadata": {},
      "outputs": [],
      "source": [
        "\n",
        "mlbb['textblob_sentiment'] = mlbb['content'].apply(sentiment_calc)\n",
        "mlbb['textblob_polarity'] = mlbb['content'].apply(textblob_polarity)\n",
        "mlbb['textblob_subject'] = mlbb['content'].apply(textblob_subject)"
      ]
    },
    {
      "cell_type": "code",
      "execution_count": 117,
      "metadata": {},
      "outputs": [
        {
          "data": {
            "text/html": [
              "<div>\n",
              "<style scoped>\n",
              "    .dataframe tbody tr th:only-of-type {\n",
              "        vertical-align: middle;\n",
              "    }\n",
              "\n",
              "    .dataframe tbody tr th {\n",
              "        vertical-align: top;\n",
              "    }\n",
              "\n",
              "    .dataframe thead th {\n",
              "        text-align: right;\n",
              "    }\n",
              "</style>\n",
              "<table border=\"1\" class=\"dataframe\">\n",
              "  <thead>\n",
              "    <tr style=\"text-align: right;\">\n",
              "      <th></th>\n",
              "      <th>content</th>\n",
              "      <th>score</th>\n",
              "      <th>label</th>\n",
              "      <th>sentiment</th>\n",
              "      <th>polarity</th>\n",
              "    </tr>\n",
              "  </thead>\n",
              "  <tbody>\n",
              "    <tr>\n",
              "      <th>0</th>\n",
              "      <td>I'd rate higher but there's a problem, everyti...</td>\n",
              "      <td>1</td>\n",
              "      <td>negative</td>\n",
              "      <td>0</td>\n",
              "      <td>negative</td>\n",
              "    </tr>\n",
              "    <tr>\n",
              "      <th>1</th>\n",
              "      <td>just recently, it can't even start a game. It ...</td>\n",
              "      <td>1</td>\n",
              "      <td>negative</td>\n",
              "      <td>0</td>\n",
              "      <td>negative</td>\n",
              "    </tr>\n",
              "    <tr>\n",
              "      <th>2</th>\n",
              "      <td>The game is fun, interesting, has a lot of her...</td>\n",
              "      <td>1</td>\n",
              "      <td>negative</td>\n",
              "      <td>0</td>\n",
              "      <td>negative</td>\n",
              "    </tr>\n",
              "    <tr>\n",
              "      <th>3</th>\n",
              "      <td>Its been more than 4 years im playing this gam...</td>\n",
              "      <td>1</td>\n",
              "      <td>negative</td>\n",
              "      <td>0</td>\n",
              "      <td>negative</td>\n",
              "    </tr>\n",
              "    <tr>\n",
              "      <th>4</th>\n",
              "      <td>You know what? I don't care anymore. The devel...</td>\n",
              "      <td>1</td>\n",
              "      <td>negative</td>\n",
              "      <td>0</td>\n",
              "      <td>negative</td>\n",
              "    </tr>\n",
              "  </tbody>\n",
              "</table>\n",
              "</div>"
            ],
            "text/plain": [
              "                                             content  score     label  \\\n",
              "0  I'd rate higher but there's a problem, everyti...      1  negative   \n",
              "1  just recently, it can't even start a game. It ...      1  negative   \n",
              "2  The game is fun, interesting, has a lot of her...      1  negative   \n",
              "3  Its been more than 4 years im playing this gam...      1  negative   \n",
              "4  You know what? I don't care anymore. The devel...      1  negative   \n",
              "\n",
              "   sentiment  polarity  \n",
              "0          0  negative  \n",
              "1          0  negative  \n",
              "2          0  negative  \n",
              "3          0  negative  \n",
              "4          0  negative  "
            ]
          },
          "execution_count": 117,
          "metadata": {},
          "output_type": "execute_result"
        }
      ],
      "source": [
        "mlbb.head()"
      ]
    },
    {
      "cell_type": "code",
      "execution_count": 18,
      "metadata": {},
      "outputs": [
        {
          "name": "stdout",
          "output_type": "stream",
          "text": [
            "5\n",
            "Great game overall, I do lag sometimes lime other people but there's times that I play without lagging.but sometimes there's just some toxic people that I hate, so I think if u report a toxic player they get banned for a week so they will understand not to be toxic.\n",
            "-0.10500000000000001\n",
            "0.485\n"
          ]
        }
      ],
      "source": [
        "# sentence = mlbb.content[1100]\n",
        "# print(mlbb.score[1100])\n",
        "# print(sentence)\n",
        "# res = TextBlob(sentence)\n",
        "# print(res.sentiment.polarity)\n",
        "# print(res.sentiment.subjectivity)"
      ]
    },
    {
      "cell_type": "markdown",
      "metadata": {},
      "source": [
        "# Vader"
      ]
    },
    {
      "cell_type": "code",
      "execution_count": 66,
      "metadata": {},
      "outputs": [],
      "source": [
        "# !pip install vaderSentiment\n",
        "from vaderSentiment.vaderSentiment import SentimentIntensityAnalyzer\n",
        "vader=SentimentIntensityAnalyzer()"
      ]
    },
    {
      "cell_type": "code",
      "execution_count": 67,
      "metadata": {},
      "outputs": [],
      "source": [
        "\n",
        "mlbb['vader_compound'] = [vader.polarity_scores(x)['compound'] for x in mlbb['content']]\n",
        "mlbb['vader_neg'] = [vader.polarity_scores(x)['neg'] for x in mlbb['content']]\n",
        "mlbb['vader_neu'] = [vader.polarity_scores(x)['neu'] for x in mlbb['content']]\n",
        "mlbb['vader_pos'] = [vader.polarity_scores(x)['pos'] for x in mlbb['content']]"
      ]
    },
    {
      "cell_type": "code",
      "execution_count": 68,
      "metadata": {},
      "outputs": [
        {
          "data": {
            "text/html": [
              "<div>\n",
              "<style scoped>\n",
              "    .dataframe tbody tr th:only-of-type {\n",
              "        vertical-align: middle;\n",
              "    }\n",
              "\n",
              "    .dataframe tbody tr th {\n",
              "        vertical-align: top;\n",
              "    }\n",
              "\n",
              "    .dataframe thead th {\n",
              "        text-align: right;\n",
              "    }\n",
              "</style>\n",
              "<table border=\"1\" class=\"dataframe\">\n",
              "  <thead>\n",
              "    <tr style=\"text-align: right;\">\n",
              "      <th></th>\n",
              "      <th>content</th>\n",
              "      <th>score</th>\n",
              "      <th>label</th>\n",
              "      <th>sentiment</th>\n",
              "      <th>polarity</th>\n",
              "      <th>textblob_sentiment</th>\n",
              "      <th>textblob_polarity</th>\n",
              "      <th>textblob_subject</th>\n",
              "      <th>vader_polarity</th>\n",
              "      <th>vader_compound</th>\n",
              "      <th>vader_neg</th>\n",
              "      <th>vader_neu</th>\n",
              "      <th>vader_pos</th>\n",
              "    </tr>\n",
              "  </thead>\n",
              "  <tbody>\n",
              "    <tr>\n",
              "      <th>0</th>\n",
              "      <td>I'd rate higher but there's a problem, everyti...</td>\n",
              "      <td>1</td>\n",
              "      <td>negative</td>\n",
              "      <td>0</td>\n",
              "      <td>negative</td>\n",
              "      <td>(0.30625, 0.625)</td>\n",
              "      <td>0.306250</td>\n",
              "      <td>0.625000</td>\n",
              "      <td>None</td>\n",
              "      <td>0.9224</td>\n",
              "      <td>0.107</td>\n",
              "      <td>0.687</td>\n",
              "      <td>0.206</td>\n",
              "    </tr>\n",
              "    <tr>\n",
              "      <th>1</th>\n",
              "      <td>just recently, it can't even start a game. It ...</td>\n",
              "      <td>1</td>\n",
              "      <td>negative</td>\n",
              "      <td>0</td>\n",
              "      <td>negative</td>\n",
              "      <td>(-0.040000000000000036, 0.49000000000000005)</td>\n",
              "      <td>-0.040000</td>\n",
              "      <td>0.490000</td>\n",
              "      <td>None</td>\n",
              "      <td>0.6728</td>\n",
              "      <td>0.044</td>\n",
              "      <td>0.845</td>\n",
              "      <td>0.111</td>\n",
              "    </tr>\n",
              "    <tr>\n",
              "      <th>2</th>\n",
              "      <td>The game is fun, interesting, has a lot of her...</td>\n",
              "      <td>1</td>\n",
              "      <td>negative</td>\n",
              "      <td>0</td>\n",
              "      <td>negative</td>\n",
              "      <td>(0.09999999999999999, 0.35000000000000003)</td>\n",
              "      <td>0.100000</td>\n",
              "      <td>0.350000</td>\n",
              "      <td>None</td>\n",
              "      <td>-0.0745</td>\n",
              "      <td>0.102</td>\n",
              "      <td>0.773</td>\n",
              "      <td>0.126</td>\n",
              "    </tr>\n",
              "    <tr>\n",
              "      <th>3</th>\n",
              "      <td>Its been more than 4 years im playing this gam...</td>\n",
              "      <td>1</td>\n",
              "      <td>negative</td>\n",
              "      <td>0</td>\n",
              "      <td>negative</td>\n",
              "      <td>(0.13205128205128205, 0.511965811965812)</td>\n",
              "      <td>0.132051</td>\n",
              "      <td>0.511966</td>\n",
              "      <td>None</td>\n",
              "      <td>0.9325</td>\n",
              "      <td>0.060</td>\n",
              "      <td>0.742</td>\n",
              "      <td>0.198</td>\n",
              "    </tr>\n",
              "    <tr>\n",
              "      <th>4</th>\n",
              "      <td>You know what? I don't care anymore. The devel...</td>\n",
              "      <td>1</td>\n",
              "      <td>negative</td>\n",
              "      <td>0</td>\n",
              "      <td>negative</td>\n",
              "      <td>(-0.22120181405895692, 0.33106575963718815)</td>\n",
              "      <td>-0.221202</td>\n",
              "      <td>0.331066</td>\n",
              "      <td>None</td>\n",
              "      <td>-0.5931</td>\n",
              "      <td>0.109</td>\n",
              "      <td>0.841</td>\n",
              "      <td>0.050</td>\n",
              "    </tr>\n",
              "  </tbody>\n",
              "</table>\n",
              "</div>"
            ],
            "text/plain": [
              "                                             content  score     label  \\\n",
              "0  I'd rate higher but there's a problem, everyti...      1  negative   \n",
              "1  just recently, it can't even start a game. It ...      1  negative   \n",
              "2  The game is fun, interesting, has a lot of her...      1  negative   \n",
              "3  Its been more than 4 years im playing this gam...      1  negative   \n",
              "4  You know what? I don't care anymore. The devel...      1  negative   \n",
              "\n",
              "   sentiment  polarity                            textblob_sentiment  \\\n",
              "0          0  negative                              (0.30625, 0.625)   \n",
              "1          0  negative  (-0.040000000000000036, 0.49000000000000005)   \n",
              "2          0  negative    (0.09999999999999999, 0.35000000000000003)   \n",
              "3          0  negative      (0.13205128205128205, 0.511965811965812)   \n",
              "4          0  negative   (-0.22120181405895692, 0.33106575963718815)   \n",
              "\n",
              "   textblob_polarity  textblob_subject vader_polarity  vader_compound  \\\n",
              "0           0.306250          0.625000           None          0.9224   \n",
              "1          -0.040000          0.490000           None          0.6728   \n",
              "2           0.100000          0.350000           None         -0.0745   \n",
              "3           0.132051          0.511966           None          0.9325   \n",
              "4          -0.221202          0.331066           None         -0.5931   \n",
              "\n",
              "   vader_neg  vader_neu  vader_pos  \n",
              "0      0.107      0.687      0.206  \n",
              "1      0.044      0.845      0.111  \n",
              "2      0.102      0.773      0.126  \n",
              "3      0.060      0.742      0.198  \n",
              "4      0.109      0.841      0.050  "
            ]
          },
          "execution_count": 68,
          "metadata": {},
          "output_type": "execute_result"
        }
      ],
      "source": [
        "mlbb.head()"
      ]
    },
    {
      "cell_type": "markdown",
      "metadata": {
        "id": "8Gdm8zutPMS6"
      },
      "source": [
        "# Text Pre-Processing"
      ]
    },
    {
      "cell_type": "code",
      "execution_count": 118,
      "metadata": {
        "id": "EkKrMvPbcMlJ"
      },
      "outputs": [],
      "source": [
        "# Apply text pre-processing to DataFrame\n",
        "from tqdm._tqdm_notebook import tqdm_notebook\n",
        "tqdm_notebook.pandas()"
      ]
    },
    {
      "cell_type": "code",
      "execution_count": 119,
      "metadata": {},
      "outputs": [
        {
          "name": "stdout",
          "output_type": "stream",
          "text": [
            "0       I'd rate higher but there's a problem, everyti...\n",
            "1       just recently, it can't even start a game. It ...\n",
            "2       The game is fun, interesting, has a lot of her...\n",
            "3       Its been more than 4 years im playing this gam...\n",
            "4       You know what? I don't care anymore. The devel...\n",
            "                              ...                        \n",
            "1195                                     she is good game\n",
            "1196                                                  Idk\n",
            "1197                        This game is so good ilove it\n",
            "1198               Nice I hope moonton give me a skin all\n",
            "1199    Laggy but so fun to play but i like a requests...\n",
            "Name: content, Length: 1200, dtype: object\n"
          ]
        }
      ],
      "source": [
        "print(mlbb.content)"
      ]
    },
    {
      "cell_type": "code",
      "execution_count": 120,
      "metadata": {},
      "outputs": [
        {
          "name": "stderr",
          "output_type": "stream",
          "text": [
            "[nltk_data] Downloading package words to\n",
            "[nltk_data]     C:\\Users\\LENOVO\\AppData\\Roaming\\nltk_data...\n",
            "[nltk_data]   Package words is already up-to-date!\n"
          ]
        },
        {
          "data": {
            "text/plain": [
              "True"
            ]
          },
          "execution_count": 120,
          "metadata": {},
          "output_type": "execute_result"
        }
      ],
      "source": [
        "from nltk.corpus import stopwords\n",
        "from nltk.stem.porter import PorterStemmer\n",
        "porter_stemmer = PorterStemmer()\n",
        "nltk.download('words')"
      ]
    },
    {
      "cell_type": "code",
      "execution_count": 89,
      "metadata": {},
      "outputs": [],
      "source": [
        "def stemmin(text):\n",
        "    # try:\n",
        "    words = word_tokenize(text)\n",
        "    stemn = [porter_stemmer.stem(w) for w in words]\n",
        "    # for w in words:\n",
        "    #     stems = porter_stemmer.stem(w)\n",
        "    stemm = ' '.join(stemn)\n",
        "    # except:\n",
        "        # return text\n",
        "    return stemm"
      ]
    },
    {
      "cell_type": "code",
      "execution_count": 90,
      "metadata": {},
      "outputs": [
        {
          "data": {
            "text/plain": [
              "\"just recent , it ca n't even start a game . it alway crash on hero select screen . than after restart , it crash again at load screen , alway at around 20 % . i have tri restart , reload , reinstal the game , turn off samsung game launcher , etc . noth work . so the problem is not on the phone . it ha work wonder befor for three year .\""
            ]
          },
          "execution_count": 90,
          "metadata": {},
          "output_type": "execute_result"
        }
      ],
      "source": [
        "text = \"just recently, it can't even start a game. It always crashed on hero selection screen. Than after restart, it crashes again at loading screen, always at around 20%. I have tried restarting, reloading, reinstalling the game, turning off Samsung game launcher, etc. Nothing worked. So the problem is not on the phone. It has worked wonderfully before for three years.\"\n",
        "stemmin(text)"
      ]
    },
    {
      "cell_type": "code",
      "execution_count": 121,
      "metadata": {},
      "outputs": [
        {
          "data": {
            "text/html": [
              "<div>\n",
              "<style scoped>\n",
              "    .dataframe tbody tr th:only-of-type {\n",
              "        vertical-align: middle;\n",
              "    }\n",
              "\n",
              "    .dataframe tbody tr th {\n",
              "        vertical-align: top;\n",
              "    }\n",
              "\n",
              "    .dataframe thead th {\n",
              "        text-align: right;\n",
              "    }\n",
              "</style>\n",
              "<table border=\"1\" class=\"dataframe\">\n",
              "  <thead>\n",
              "    <tr style=\"text-align: right;\">\n",
              "      <th></th>\n",
              "      <th>content</th>\n",
              "      <th>score</th>\n",
              "      <th>label</th>\n",
              "      <th>sentiment</th>\n",
              "      <th>polarity</th>\n",
              "    </tr>\n",
              "  </thead>\n",
              "  <tbody>\n",
              "    <tr>\n",
              "      <th>0</th>\n",
              "      <td>I'd rate higher but there's a problem, everyti...</td>\n",
              "      <td>1</td>\n",
              "      <td>negative</td>\n",
              "      <td>0</td>\n",
              "      <td>negative</td>\n",
              "    </tr>\n",
              "    <tr>\n",
              "      <th>1</th>\n",
              "      <td>just recently, it can't even start a game. It ...</td>\n",
              "      <td>1</td>\n",
              "      <td>negative</td>\n",
              "      <td>0</td>\n",
              "      <td>negative</td>\n",
              "    </tr>\n",
              "    <tr>\n",
              "      <th>2</th>\n",
              "      <td>The game is fun, interesting, has a lot of her...</td>\n",
              "      <td>1</td>\n",
              "      <td>negative</td>\n",
              "      <td>0</td>\n",
              "      <td>negative</td>\n",
              "    </tr>\n",
              "    <tr>\n",
              "      <th>3</th>\n",
              "      <td>Its been more than 4 years im playing this gam...</td>\n",
              "      <td>1</td>\n",
              "      <td>negative</td>\n",
              "      <td>0</td>\n",
              "      <td>negative</td>\n",
              "    </tr>\n",
              "    <tr>\n",
              "      <th>4</th>\n",
              "      <td>You know what? I don't care anymore. The devel...</td>\n",
              "      <td>1</td>\n",
              "      <td>negative</td>\n",
              "      <td>0</td>\n",
              "      <td>negative</td>\n",
              "    </tr>\n",
              "  </tbody>\n",
              "</table>\n",
              "</div>"
            ],
            "text/plain": [
              "                                             content  score     label  \\\n",
              "0  I'd rate higher but there's a problem, everyti...      1  negative   \n",
              "1  just recently, it can't even start a game. It ...      1  negative   \n",
              "2  The game is fun, interesting, has a lot of her...      1  negative   \n",
              "3  Its been more than 4 years im playing this gam...      1  negative   \n",
              "4  You know what? I don't care anymore. The devel...      1  negative   \n",
              "\n",
              "   sentiment  polarity  \n",
              "0          0  negative  \n",
              "1          0  negative  \n",
              "2          0  negative  \n",
              "3          0  negative  \n",
              "4          0  negative  "
            ]
          },
          "execution_count": 121,
          "metadata": {},
          "output_type": "execute_result"
        }
      ],
      "source": [
        "mlbb.head()"
      ]
    },
    {
      "cell_type": "code",
      "execution_count": 122,
      "metadata": {
        "id": "gVISSwf9PQ3k"
      },
      "outputs": [],
      "source": [
        "def text_preprocessing(text):\n",
        "  text = text.lower()                                   # Lowercase all sentences\n",
        "  text = text.strip()                                   # Remove whitespace\n",
        "  text = re.sub('[-+]?[0-9]+', ' ', text)               # Remove numbers \n",
        "  text = re.sub(r'https?://\\S+|www\\.\\S+', ' ', text)    # Remove URLs\n",
        "  text = re.sub(r\"pic.twitter.com\\S+\", ' ', text)       # Remove custom URLs for twitter\n",
        "  text = re.sub(r'\\@([\\w]+)',' ', text)                 # Remove Mention @\n",
        "  text = re.sub(r'\\#([\\w]+)',' ', text)                 # Remove #TAGAR\n",
        "  text = re.sub('\\S*@\\S*\\s?', ' ', text)                # Remove email\n",
        "  text = re.sub(r'[^\\w\\s]', ' ', text)                  # Remove punctuation\n",
        "  text = re.sub(r'\\b\\w{1,3}\\b','',text)                 #Remove n-chars,Remove less than 3 chars, minimum 4 character allowed \"\\b[a-zA-Z0-9]{3}\\b\"\n",
        "  text = re.sub(r'[!$%^&*@#()_+|~=`{}\\[\\]%\\-:\";\\'<>?,.\\/]', ' ', text)  # Tahap-5: simbol\n",
        "  text = re.sub(r'[0-9]+','', text)                     # Tahap-6: angka\n",
        "  text = re.sub(r'([a-zA-Z])\\1\\1','\\\\1', text)          # Tahap-7: koreksi duplikasi tiga karakter beruntun atau lebih (contoh. yukkk)\n",
        "  text = re.sub(' +',' ', text)                         #remove multiple whitespace\n",
        "  text = re.sub(r'^[ ]|[ ]$','', text)                  # Tahap-9: spasi di awal dan akhir kalimat\n",
        "\n",
        "  # text = re.sub('\\b[a-zA-Z0-9]{3}\\b','',text)\n",
        "  text = unicodedata.normalize('NFKD', text).encode('ascii', 'ignore').decode('utf-8', 'ignore') # Remove non-ascii character\n",
        "  word_tokens = word_tokenize(text) # Word tokenize\n",
        "  \n",
        "  stem_words = [porter_stemmer.stem(w) for w in word_tokens]\n",
        "  \n",
        "  # Define Indonesian stopwords removal\n",
        "  stop_words = stopwords.words('english')  # NLTK Indonesian stopwords\n",
        "  clean_words = [word for word in stem_words if word not in stop_words] # stopwords removal\n",
        "  clean_words = ' '.join(clean_words)\n",
        "\n",
        "  words = set(nltk.corpus.words.words())\n",
        "  word_cleaner = word_tokenize(clean_words)\n",
        "  cleaner_words = [w for w in word_cleaner if w.lower() in words or not w.isalpha()] #remove non english\n",
        "\n",
        "  cleaner = ' '.join(cleaner_words)\n",
        "\n",
        "\n",
        "#   cleaner = \" \".join(w for w in nltk.wordpunct_tokenize(clean_words) \\\n",
        "        #   if w.lower() in words or not w.isalpha())\n",
        "  return cleaner"
      ]
    },
    {
      "cell_type": "code",
      "execution_count": 130,
      "metadata": {},
      "outputs": [],
      "source": [
        "pre=text_preprocessing(mlbb['content'][50])"
      ]
    },
    {
      "cell_type": "code",
      "execution_count": 131,
      "metadata": {},
      "outputs": [
        {
          "name": "stdout",
          "output_type": "stream",
          "text": [
            "game veri poor match skill player therefor result veri long lose streak kill play game point report poor player long player score decent system automat report player kill team goal win\n"
          ]
        }
      ],
      "source": [
        "print(pre)"
      ]
    },
    {
      "cell_type": "code",
      "execution_count": 132,
      "metadata": {},
      "outputs": [
        {
          "data": {
            "application/vnd.jupyter.widget-view+json": {
              "model_id": "ce384aa796d0488e9faf8ee6659d5796",
              "version_major": 2,
              "version_minor": 0
            },
            "text/plain": [
              "  0%|          | 0/1200 [00:00<?, ?it/s]"
            ]
          },
          "metadata": {},
          "output_type": "display_data"
        }
      ],
      "source": [
        "mlbb['clean_content'] = mlbb['content'].progress_apply(lambda x: text_preprocessing(x))\n",
        "#ffm['clean_content'] = ffm['content'].progress_apply(lambda x: text_preprocessing(x))\n",
        "# hdi['clean_content'] = hdi['content'].progress_apply(lambda x: text_preprocessing(x))"
      ]
    },
    {
      "cell_type": "code",
      "execution_count": 133,
      "metadata": {},
      "outputs": [
        {
          "data": {
            "text/html": [
              "<div>\n",
              "<style scoped>\n",
              "    .dataframe tbody tr th:only-of-type {\n",
              "        vertical-align: middle;\n",
              "    }\n",
              "\n",
              "    .dataframe tbody tr th {\n",
              "        vertical-align: top;\n",
              "    }\n",
              "\n",
              "    .dataframe thead th {\n",
              "        text-align: right;\n",
              "    }\n",
              "</style>\n",
              "<table border=\"1\" class=\"dataframe\">\n",
              "  <thead>\n",
              "    <tr style=\"text-align: right;\">\n",
              "      <th></th>\n",
              "      <th>content</th>\n",
              "      <th>score</th>\n",
              "      <th>label</th>\n",
              "      <th>sentiment</th>\n",
              "      <th>polarity</th>\n",
              "      <th>clean_content</th>\n",
              "    </tr>\n",
              "  </thead>\n",
              "  <tbody>\n",
              "    <tr>\n",
              "      <th>0</th>\n",
              "      <td>I'd rate higher but there's a problem, everyti...</td>\n",
              "      <td>1</td>\n",
              "      <td>negative</td>\n",
              "      <td>0</td>\n",
              "      <td>negative</td>\n",
              "      <td>rate higher problem hold hero alway disappear ...</td>\n",
              "    </tr>\n",
              "    <tr>\n",
              "      <th>1</th>\n",
              "      <td>just recently, it can't even start a game. It ...</td>\n",
              "      <td>1</td>\n",
              "      <td>negative</td>\n",
              "      <td>0</td>\n",
              "      <td>negative</td>\n",
              "      <td>recent even start game alway crash hero select...</td>\n",
              "    </tr>\n",
              "    <tr>\n",
              "      <th>2</th>\n",
              "      <td>The game is fun, interesting, has a lot of her...</td>\n",
              "      <td>1</td>\n",
              "      <td>negative</td>\n",
              "      <td>0</td>\n",
              "      <td>negative</td>\n",
              "      <td>game interest hero recent game bug mani time s...</td>\n",
              "    </tr>\n",
              "    <tr>\n",
              "      <th>3</th>\n",
              "      <td>Its been more than 4 years im playing this gam...</td>\n",
              "      <td>1</td>\n",
              "      <td>negative</td>\n",
              "      <td>0</td>\n",
              "      <td>negative</td>\n",
              "      <td>year play game never went previous match hero ...</td>\n",
              "    </tr>\n",
              "    <tr>\n",
              "      <th>4</th>\n",
              "      <td>You know what? I don't care anymore. The devel...</td>\n",
              "      <td>1</td>\n",
              "      <td>negative</td>\n",
              "      <td>0</td>\n",
              "      <td>negative</td>\n",
              "      <td>know care develop never play around game long ...</td>\n",
              "    </tr>\n",
              "  </tbody>\n",
              "</table>\n",
              "</div>"
            ],
            "text/plain": [
              "                                             content  score     label  \\\n",
              "0  I'd rate higher but there's a problem, everyti...      1  negative   \n",
              "1  just recently, it can't even start a game. It ...      1  negative   \n",
              "2  The game is fun, interesting, has a lot of her...      1  negative   \n",
              "3  Its been more than 4 years im playing this gam...      1  negative   \n",
              "4  You know what? I don't care anymore. The devel...      1  negative   \n",
              "\n",
              "   sentiment  polarity                                      clean_content  \n",
              "0          0  negative  rate higher problem hold hero alway disappear ...  \n",
              "1          0  negative  recent even start game alway crash hero select...  \n",
              "2          0  negative  game interest hero recent game bug mani time s...  \n",
              "3          0  negative  year play game never went previous match hero ...  \n",
              "4          0  negative  know care develop never play around game long ...  "
            ]
          },
          "execution_count": 133,
          "metadata": {},
          "output_type": "execute_result"
        }
      ],
      "source": [
        "mlbb.head()"
      ]
    },
    {
      "cell_type": "code",
      "execution_count": 93,
      "metadata": {
        "id": "X9ELmmjIsEHT"
      },
      "outputs": [],
      "source": [
        "\n",
        "# ffm.to_csv( \"ffm_clean_content_after_preprocessing_21062022.csv\", index=False, encoding='utf-8-sig')\n",
        "# hdi.to_csv( \"hdi_clean_content_after_preprocessing_21062022.csv\", index=False, encoding='utf-8-sig')\n"
      ]
    },
    {
      "cell_type": "code",
      "execution_count": 95,
      "metadata": {},
      "outputs": [],
      "source": [
        "\n",
        "# mlbb.dropna(inplace=True)"
      ]
    },
    {
      "cell_type": "code",
      "execution_count": 96,
      "metadata": {},
      "outputs": [
        {
          "data": {
            "text/plain": [
              "content               0.0\n",
              "score                 0.0\n",
              "label                 0.0\n",
              "sentiment             0.0\n",
              "polarity              0.0\n",
              "textblob_sentiment    0.0\n",
              "textblob_polarity     0.0\n",
              "textblob_subject      0.0\n",
              "vader_polarity        0.0\n",
              "vader_compound        0.0\n",
              "vader_neg             0.0\n",
              "vader_neu             0.0\n",
              "vader_pos             0.0\n",
              "clean_content         0.0\n",
              "dtype: float64"
            ]
          },
          "execution_count": 96,
          "metadata": {},
          "output_type": "execute_result"
        }
      ],
      "source": [
        "mlbb.isnull().sum()#.values()"
      ]
    },
    {
      "cell_type": "code",
      "execution_count": 134,
      "metadata": {},
      "outputs": [],
      "source": [
        "mlbb.to_csv( \"dataset/mlbb_clean_content_after_preprocessing_24062022.csv\", index=False, encoding='utf-8-sig')\n",
        "ffm.to_csv( \"dataset/ffm_clean_content_after_preprocessing_21062022.csv\", index=False, encoding='utf-8-sig')\n",
        "hdi.to_csv( \"dataset/hdi_clean_content_after_preprocessing_21062022.csv\", index=False, encoding='utf-8-sig')"
      ]
    }
  ],
  "metadata": {
    "colab": {
      "collapsed_sections": [],
      "machine_shape": "hm",
      "name": "TextProcessingSentimentAnalysis-Shopping-GoogleAppsReview",
      "provenance": []
    },
    "kernelspec": {
      "display_name": "Python 3.9.7 ('base')",
      "language": "python",
      "name": "python3"
    },
    "language_info": {
      "codemirror_mode": {
        "name": "ipython",
        "version": 3
      },
      "file_extension": ".py",
      "mimetype": "text/x-python",
      "name": "python",
      "nbconvert_exporter": "python",
      "pygments_lexer": "ipython3",
      "version": "3.11.4"
    },
    "vscode": {
      "interpreter": {
        "hash": "678bcfd6376b9a1d259d9993fe75604a4b4f3b2c5ff5a71eca36094cc19bcb7f"
      }
    },
    "widgets": {
      "application/vnd.jupyter.widget-state+json": {
        "0b8b291f95b94063b5c0e6afc370471f": {
          "model_module": "@jupyter-widgets/controls",
          "model_module_version": "1.5.0",
          "model_name": "FloatProgressModel",
          "state": {
            "_dom_classes": [],
            "_model_module": "@jupyter-widgets/controls",
            "_model_module_version": "1.5.0",
            "_model_name": "FloatProgressModel",
            "_view_count": null,
            "_view_module": "@jupyter-widgets/controls",
            "_view_module_version": "1.5.0",
            "_view_name": "ProgressView",
            "bar_style": "success",
            "description": "",
            "description_tooltip": null,
            "layout": "IPY_MODEL_0f2e97677f8549c29cb16df2e82b2099",
            "max": 1200,
            "min": 0,
            "orientation": "horizontal",
            "style": "IPY_MODEL_56c68af13b6742b582365d821100903f",
            "value": 1200
          }
        },
        "0f2e97677f8549c29cb16df2e82b2099": {
          "model_module": "@jupyter-widgets/base",
          "model_module_version": "1.2.0",
          "model_name": "LayoutModel",
          "state": {
            "_model_module": "@jupyter-widgets/base",
            "_model_module_version": "1.2.0",
            "_model_name": "LayoutModel",
            "_view_count": null,
            "_view_module": "@jupyter-widgets/base",
            "_view_module_version": "1.2.0",
            "_view_name": "LayoutView",
            "align_content": null,
            "align_items": null,
            "align_self": null,
            "border": null,
            "bottom": null,
            "display": null,
            "flex": null,
            "flex_flow": null,
            "grid_area": null,
            "grid_auto_columns": null,
            "grid_auto_flow": null,
            "grid_auto_rows": null,
            "grid_column": null,
            "grid_gap": null,
            "grid_row": null,
            "grid_template_areas": null,
            "grid_template_columns": null,
            "grid_template_rows": null,
            "height": null,
            "justify_content": null,
            "justify_items": null,
            "left": null,
            "margin": null,
            "max_height": null,
            "max_width": null,
            "min_height": null,
            "min_width": null,
            "object_fit": null,
            "object_position": null,
            "order": null,
            "overflow": null,
            "overflow_x": null,
            "overflow_y": null,
            "padding": null,
            "right": null,
            "top": null,
            "visibility": null,
            "width": null
          }
        },
        "1433628965c942dca3b7627ec4bb549b": {
          "model_module": "@jupyter-widgets/base",
          "model_module_version": "1.2.0",
          "model_name": "LayoutModel",
          "state": {
            "_model_module": "@jupyter-widgets/base",
            "_model_module_version": "1.2.0",
            "_model_name": "LayoutModel",
            "_view_count": null,
            "_view_module": "@jupyter-widgets/base",
            "_view_module_version": "1.2.0",
            "_view_name": "LayoutView",
            "align_content": null,
            "align_items": null,
            "align_self": null,
            "border": null,
            "bottom": null,
            "display": null,
            "flex": null,
            "flex_flow": null,
            "grid_area": null,
            "grid_auto_columns": null,
            "grid_auto_flow": null,
            "grid_auto_rows": null,
            "grid_column": null,
            "grid_gap": null,
            "grid_row": null,
            "grid_template_areas": null,
            "grid_template_columns": null,
            "grid_template_rows": null,
            "height": null,
            "justify_content": null,
            "justify_items": null,
            "left": null,
            "margin": null,
            "max_height": null,
            "max_width": null,
            "min_height": null,
            "min_width": null,
            "object_fit": null,
            "object_position": null,
            "order": null,
            "overflow": null,
            "overflow_x": null,
            "overflow_y": null,
            "padding": null,
            "right": null,
            "top": null,
            "visibility": null,
            "width": null
          }
        },
        "220e229d080742f0a6bf69b5d18c4a9b": {
          "model_module": "@jupyter-widgets/controls",
          "model_module_version": "1.5.0",
          "model_name": "ProgressStyleModel",
          "state": {
            "_model_module": "@jupyter-widgets/controls",
            "_model_module_version": "1.5.0",
            "_model_name": "ProgressStyleModel",
            "_view_count": null,
            "_view_module": "@jupyter-widgets/base",
            "_view_module_version": "1.2.0",
            "_view_name": "StyleView",
            "bar_color": null,
            "description_width": ""
          }
        },
        "28d241c1039348109e4d0a24893bb701": {
          "model_module": "@jupyter-widgets/controls",
          "model_module_version": "1.5.0",
          "model_name": "FloatProgressModel",
          "state": {
            "_dom_classes": [],
            "_model_module": "@jupyter-widgets/controls",
            "_model_module_version": "1.5.0",
            "_model_name": "FloatProgressModel",
            "_view_count": null,
            "_view_module": "@jupyter-widgets/controls",
            "_view_module_version": "1.5.0",
            "_view_name": "ProgressView",
            "bar_style": "success",
            "description": "",
            "description_tooltip": null,
            "layout": "IPY_MODEL_1433628965c942dca3b7627ec4bb549b",
            "max": 1199,
            "min": 0,
            "orientation": "horizontal",
            "style": "IPY_MODEL_992f8c57b0e94ef8a4ebee63e62f5df9",
            "value": 1199
          }
        },
        "2c5e61f9389e453482319cbbec406d7a": {
          "model_module": "@jupyter-widgets/controls",
          "model_module_version": "1.5.0",
          "model_name": "HBoxModel",
          "state": {
            "_dom_classes": [],
            "_model_module": "@jupyter-widgets/controls",
            "_model_module_version": "1.5.0",
            "_model_name": "HBoxModel",
            "_view_count": null,
            "_view_module": "@jupyter-widgets/controls",
            "_view_module_version": "1.5.0",
            "_view_name": "HBoxView",
            "box_style": "",
            "children": [
              "IPY_MODEL_bc64c03db1c845759eb77d219ef4371c",
              "IPY_MODEL_28d241c1039348109e4d0a24893bb701",
              "IPY_MODEL_3ba03a49a4ca43df927b06af77e2da20"
            ],
            "layout": "IPY_MODEL_4ab3d2958b284077bf52bae05a8220b5"
          }
        },
        "2d58077d72c043ebba5d710484a45e05": {
          "model_module": "@jupyter-widgets/base",
          "model_module_version": "1.2.0",
          "model_name": "LayoutModel",
          "state": {
            "_model_module": "@jupyter-widgets/base",
            "_model_module_version": "1.2.0",
            "_model_name": "LayoutModel",
            "_view_count": null,
            "_view_module": "@jupyter-widgets/base",
            "_view_module_version": "1.2.0",
            "_view_name": "LayoutView",
            "align_content": null,
            "align_items": null,
            "align_self": null,
            "border": null,
            "bottom": null,
            "display": null,
            "flex": null,
            "flex_flow": null,
            "grid_area": null,
            "grid_auto_columns": null,
            "grid_auto_flow": null,
            "grid_auto_rows": null,
            "grid_column": null,
            "grid_gap": null,
            "grid_row": null,
            "grid_template_areas": null,
            "grid_template_columns": null,
            "grid_template_rows": null,
            "height": null,
            "justify_content": null,
            "justify_items": null,
            "left": null,
            "margin": null,
            "max_height": null,
            "max_width": null,
            "min_height": null,
            "min_width": null,
            "object_fit": null,
            "object_position": null,
            "order": null,
            "overflow": null,
            "overflow_x": null,
            "overflow_y": null,
            "padding": null,
            "right": null,
            "top": null,
            "visibility": null,
            "width": null
          }
        },
        "37188b9675d4422a87d9e4a7da40822b": {
          "model_module": "@jupyter-widgets/controls",
          "model_module_version": "1.5.0",
          "model_name": "HBoxModel",
          "state": {
            "_dom_classes": [],
            "_model_module": "@jupyter-widgets/controls",
            "_model_module_version": "1.5.0",
            "_model_name": "HBoxModel",
            "_view_count": null,
            "_view_module": "@jupyter-widgets/controls",
            "_view_module_version": "1.5.0",
            "_view_name": "HBoxView",
            "box_style": "",
            "children": [
              "IPY_MODEL_b90438f8cab442219233afbf5466bcb6",
              "IPY_MODEL_0b8b291f95b94063b5c0e6afc370471f",
              "IPY_MODEL_afc5f537678540c2a264a3c8615db966"
            ],
            "layout": "IPY_MODEL_cc9ea1939af446e7ba0aa37b3f202a02"
          }
        },
        "3ba03a49a4ca43df927b06af77e2da20": {
          "model_module": "@jupyter-widgets/controls",
          "model_module_version": "1.5.0",
          "model_name": "HTMLModel",
          "state": {
            "_dom_classes": [],
            "_model_module": "@jupyter-widgets/controls",
            "_model_module_version": "1.5.0",
            "_model_name": "HTMLModel",
            "_view_count": null,
            "_view_module": "@jupyter-widgets/controls",
            "_view_module_version": "1.5.0",
            "_view_name": "HTMLView",
            "description": "",
            "description_tooltip": null,
            "layout": "IPY_MODEL_79065bf9e80041a5936cd8f3eef0c6c6",
            "placeholder": "​",
            "style": "IPY_MODEL_f877fe33c48d489da3f56553e57a7601",
            "value": " 1199/1199 [15:13&lt;00:00,  5.51it/s]"
          }
        },
        "4ab3d2958b284077bf52bae05a8220b5": {
          "model_module": "@jupyter-widgets/base",
          "model_module_version": "1.2.0",
          "model_name": "LayoutModel",
          "state": {
            "_model_module": "@jupyter-widgets/base",
            "_model_module_version": "1.2.0",
            "_model_name": "LayoutModel",
            "_view_count": null,
            "_view_module": "@jupyter-widgets/base",
            "_view_module_version": "1.2.0",
            "_view_name": "LayoutView",
            "align_content": null,
            "align_items": null,
            "align_self": null,
            "border": null,
            "bottom": null,
            "display": null,
            "flex": null,
            "flex_flow": null,
            "grid_area": null,
            "grid_auto_columns": null,
            "grid_auto_flow": null,
            "grid_auto_rows": null,
            "grid_column": null,
            "grid_gap": null,
            "grid_row": null,
            "grid_template_areas": null,
            "grid_template_columns": null,
            "grid_template_rows": null,
            "height": null,
            "justify_content": null,
            "justify_items": null,
            "left": null,
            "margin": null,
            "max_height": null,
            "max_width": null,
            "min_height": null,
            "min_width": null,
            "object_fit": null,
            "object_position": null,
            "order": null,
            "overflow": null,
            "overflow_x": null,
            "overflow_y": null,
            "padding": null,
            "right": null,
            "top": null,
            "visibility": null,
            "width": null
          }
        },
        "56c68af13b6742b582365d821100903f": {
          "model_module": "@jupyter-widgets/controls",
          "model_module_version": "1.5.0",
          "model_name": "ProgressStyleModel",
          "state": {
            "_model_module": "@jupyter-widgets/controls",
            "_model_module_version": "1.5.0",
            "_model_name": "ProgressStyleModel",
            "_view_count": null,
            "_view_module": "@jupyter-widgets/base",
            "_view_module_version": "1.2.0",
            "_view_name": "StyleView",
            "bar_color": null,
            "description_width": ""
          }
        },
        "5c670de12473448cb163ba9de2597884": {
          "model_module": "@jupyter-widgets/base",
          "model_module_version": "1.2.0",
          "model_name": "LayoutModel",
          "state": {
            "_model_module": "@jupyter-widgets/base",
            "_model_module_version": "1.2.0",
            "_model_name": "LayoutModel",
            "_view_count": null,
            "_view_module": "@jupyter-widgets/base",
            "_view_module_version": "1.2.0",
            "_view_name": "LayoutView",
            "align_content": null,
            "align_items": null,
            "align_self": null,
            "border": null,
            "bottom": null,
            "display": null,
            "flex": null,
            "flex_flow": null,
            "grid_area": null,
            "grid_auto_columns": null,
            "grid_auto_flow": null,
            "grid_auto_rows": null,
            "grid_column": null,
            "grid_gap": null,
            "grid_row": null,
            "grid_template_areas": null,
            "grid_template_columns": null,
            "grid_template_rows": null,
            "height": null,
            "justify_content": null,
            "justify_items": null,
            "left": null,
            "margin": null,
            "max_height": null,
            "max_width": null,
            "min_height": null,
            "min_width": null,
            "object_fit": null,
            "object_position": null,
            "order": null,
            "overflow": null,
            "overflow_x": null,
            "overflow_y": null,
            "padding": null,
            "right": null,
            "top": null,
            "visibility": null,
            "width": null
          }
        },
        "65e32bc282444e2f88da0b06968f0a24": {
          "model_module": "@jupyter-widgets/base",
          "model_module_version": "1.2.0",
          "model_name": "LayoutModel",
          "state": {
            "_model_module": "@jupyter-widgets/base",
            "_model_module_version": "1.2.0",
            "_model_name": "LayoutModel",
            "_view_count": null,
            "_view_module": "@jupyter-widgets/base",
            "_view_module_version": "1.2.0",
            "_view_name": "LayoutView",
            "align_content": null,
            "align_items": null,
            "align_self": null,
            "border": null,
            "bottom": null,
            "display": null,
            "flex": null,
            "flex_flow": null,
            "grid_area": null,
            "grid_auto_columns": null,
            "grid_auto_flow": null,
            "grid_auto_rows": null,
            "grid_column": null,
            "grid_gap": null,
            "grid_row": null,
            "grid_template_areas": null,
            "grid_template_columns": null,
            "grid_template_rows": null,
            "height": null,
            "justify_content": null,
            "justify_items": null,
            "left": null,
            "margin": null,
            "max_height": null,
            "max_width": null,
            "min_height": null,
            "min_width": null,
            "object_fit": null,
            "object_position": null,
            "order": null,
            "overflow": null,
            "overflow_x": null,
            "overflow_y": null,
            "padding": null,
            "right": null,
            "top": null,
            "visibility": null,
            "width": null
          }
        },
        "67b40b7143904dd29a6ed4ebb08a8cf0": {
          "model_module": "@jupyter-widgets/controls",
          "model_module_version": "1.5.0",
          "model_name": "DescriptionStyleModel",
          "state": {
            "_model_module": "@jupyter-widgets/controls",
            "_model_module_version": "1.5.0",
            "_model_name": "DescriptionStyleModel",
            "_view_count": null,
            "_view_module": "@jupyter-widgets/base",
            "_view_module_version": "1.2.0",
            "_view_name": "StyleView",
            "description_width": ""
          }
        },
        "704d02ed5fb944a39a6f70ae7f309ffc": {
          "model_module": "@jupyter-widgets/base",
          "model_module_version": "1.2.0",
          "model_name": "LayoutModel",
          "state": {
            "_model_module": "@jupyter-widgets/base",
            "_model_module_version": "1.2.0",
            "_model_name": "LayoutModel",
            "_view_count": null,
            "_view_module": "@jupyter-widgets/base",
            "_view_module_version": "1.2.0",
            "_view_name": "LayoutView",
            "align_content": null,
            "align_items": null,
            "align_self": null,
            "border": null,
            "bottom": null,
            "display": null,
            "flex": null,
            "flex_flow": null,
            "grid_area": null,
            "grid_auto_columns": null,
            "grid_auto_flow": null,
            "grid_auto_rows": null,
            "grid_column": null,
            "grid_gap": null,
            "grid_row": null,
            "grid_template_areas": null,
            "grid_template_columns": null,
            "grid_template_rows": null,
            "height": null,
            "justify_content": null,
            "justify_items": null,
            "left": null,
            "margin": null,
            "max_height": null,
            "max_width": null,
            "min_height": null,
            "min_width": null,
            "object_fit": null,
            "object_position": null,
            "order": null,
            "overflow": null,
            "overflow_x": null,
            "overflow_y": null,
            "padding": null,
            "right": null,
            "top": null,
            "visibility": null,
            "width": null
          }
        },
        "79065bf9e80041a5936cd8f3eef0c6c6": {
          "model_module": "@jupyter-widgets/base",
          "model_module_version": "1.2.0",
          "model_name": "LayoutModel",
          "state": {
            "_model_module": "@jupyter-widgets/base",
            "_model_module_version": "1.2.0",
            "_model_name": "LayoutModel",
            "_view_count": null,
            "_view_module": "@jupyter-widgets/base",
            "_view_module_version": "1.2.0",
            "_view_name": "LayoutView",
            "align_content": null,
            "align_items": null,
            "align_self": null,
            "border": null,
            "bottom": null,
            "display": null,
            "flex": null,
            "flex_flow": null,
            "grid_area": null,
            "grid_auto_columns": null,
            "grid_auto_flow": null,
            "grid_auto_rows": null,
            "grid_column": null,
            "grid_gap": null,
            "grid_row": null,
            "grid_template_areas": null,
            "grid_template_columns": null,
            "grid_template_rows": null,
            "height": null,
            "justify_content": null,
            "justify_items": null,
            "left": null,
            "margin": null,
            "max_height": null,
            "max_width": null,
            "min_height": null,
            "min_width": null,
            "object_fit": null,
            "object_position": null,
            "order": null,
            "overflow": null,
            "overflow_x": null,
            "overflow_y": null,
            "padding": null,
            "right": null,
            "top": null,
            "visibility": null,
            "width": null
          }
        },
        "8c085d38f3b142a189a5f0703507abc8": {
          "model_module": "@jupyter-widgets/base",
          "model_module_version": "1.2.0",
          "model_name": "LayoutModel",
          "state": {
            "_model_module": "@jupyter-widgets/base",
            "_model_module_version": "1.2.0",
            "_model_name": "LayoutModel",
            "_view_count": null,
            "_view_module": "@jupyter-widgets/base",
            "_view_module_version": "1.2.0",
            "_view_name": "LayoutView",
            "align_content": null,
            "align_items": null,
            "align_self": null,
            "border": null,
            "bottom": null,
            "display": null,
            "flex": null,
            "flex_flow": null,
            "grid_area": null,
            "grid_auto_columns": null,
            "grid_auto_flow": null,
            "grid_auto_rows": null,
            "grid_column": null,
            "grid_gap": null,
            "grid_row": null,
            "grid_template_areas": null,
            "grid_template_columns": null,
            "grid_template_rows": null,
            "height": null,
            "justify_content": null,
            "justify_items": null,
            "left": null,
            "margin": null,
            "max_height": null,
            "max_width": null,
            "min_height": null,
            "min_width": null,
            "object_fit": null,
            "object_position": null,
            "order": null,
            "overflow": null,
            "overflow_x": null,
            "overflow_y": null,
            "padding": null,
            "right": null,
            "top": null,
            "visibility": null,
            "width": null
          }
        },
        "90918785f0874415870c14e5500ebecb": {
          "model_module": "@jupyter-widgets/controls",
          "model_module_version": "1.5.0",
          "model_name": "DescriptionStyleModel",
          "state": {
            "_model_module": "@jupyter-widgets/controls",
            "_model_module_version": "1.5.0",
            "_model_name": "DescriptionStyleModel",
            "_view_count": null,
            "_view_module": "@jupyter-widgets/base",
            "_view_module_version": "1.2.0",
            "_view_name": "StyleView",
            "description_width": ""
          }
        },
        "992f8c57b0e94ef8a4ebee63e62f5df9": {
          "model_module": "@jupyter-widgets/controls",
          "model_module_version": "1.5.0",
          "model_name": "ProgressStyleModel",
          "state": {
            "_model_module": "@jupyter-widgets/controls",
            "_model_module_version": "1.5.0",
            "_model_name": "ProgressStyleModel",
            "_view_count": null,
            "_view_module": "@jupyter-widgets/base",
            "_view_module_version": "1.2.0",
            "_view_name": "StyleView",
            "bar_color": null,
            "description_width": ""
          }
        },
        "9f224142a8e14ca7a73724c5eb46d247": {
          "model_module": "@jupyter-widgets/controls",
          "model_module_version": "1.5.0",
          "model_name": "DescriptionStyleModel",
          "state": {
            "_model_module": "@jupyter-widgets/controls",
            "_model_module_version": "1.5.0",
            "_model_name": "DescriptionStyleModel",
            "_view_count": null,
            "_view_module": "@jupyter-widgets/base",
            "_view_module_version": "1.2.0",
            "_view_name": "StyleView",
            "description_width": ""
          }
        },
        "a784329e16444c68bfc6c9d81b566c5e": {
          "model_module": "@jupyter-widgets/controls",
          "model_module_version": "1.5.0",
          "model_name": "HTMLModel",
          "state": {
            "_dom_classes": [],
            "_model_module": "@jupyter-widgets/controls",
            "_model_module_version": "1.5.0",
            "_model_name": "HTMLModel",
            "_view_count": null,
            "_view_module": "@jupyter-widgets/controls",
            "_view_module_version": "1.5.0",
            "_view_name": "HTMLView",
            "description": "",
            "description_tooltip": null,
            "layout": "IPY_MODEL_704d02ed5fb944a39a6f70ae7f309ffc",
            "placeholder": "​",
            "style": "IPY_MODEL_9f224142a8e14ca7a73724c5eb46d247",
            "value": " 6/1200 [00:04&lt;19:59,  1.00s/it]"
          }
        },
        "aa85e9aa481946d49d1f92613ecbca3a": {
          "model_module": "@jupyter-widgets/base",
          "model_module_version": "1.2.0",
          "model_name": "LayoutModel",
          "state": {
            "_model_module": "@jupyter-widgets/base",
            "_model_module_version": "1.2.0",
            "_model_name": "LayoutModel",
            "_view_count": null,
            "_view_module": "@jupyter-widgets/base",
            "_view_module_version": "1.2.0",
            "_view_name": "LayoutView",
            "align_content": null,
            "align_items": null,
            "align_self": null,
            "border": null,
            "bottom": null,
            "display": null,
            "flex": null,
            "flex_flow": null,
            "grid_area": null,
            "grid_auto_columns": null,
            "grid_auto_flow": null,
            "grid_auto_rows": null,
            "grid_column": null,
            "grid_gap": null,
            "grid_row": null,
            "grid_template_areas": null,
            "grid_template_columns": null,
            "grid_template_rows": null,
            "height": null,
            "justify_content": null,
            "justify_items": null,
            "left": null,
            "margin": null,
            "max_height": null,
            "max_width": null,
            "min_height": null,
            "min_width": null,
            "object_fit": null,
            "object_position": null,
            "order": null,
            "overflow": null,
            "overflow_x": null,
            "overflow_y": null,
            "padding": null,
            "right": null,
            "top": null,
            "visibility": null,
            "width": null
          }
        },
        "afc5f537678540c2a264a3c8615db966": {
          "model_module": "@jupyter-widgets/controls",
          "model_module_version": "1.5.0",
          "model_name": "HTMLModel",
          "state": {
            "_dom_classes": [],
            "_model_module": "@jupyter-widgets/controls",
            "_model_module_version": "1.5.0",
            "_model_name": "HTMLModel",
            "_view_count": null,
            "_view_module": "@jupyter-widgets/controls",
            "_view_module_version": "1.5.0",
            "_view_name": "HTMLView",
            "description": "",
            "description_tooltip": null,
            "layout": "IPY_MODEL_5c670de12473448cb163ba9de2597884",
            "placeholder": "​",
            "style": "IPY_MODEL_bd20116a9d984f0a8e327d6ac60a5a72",
            "value": " 1200/1200 [13:06&lt;00:00,  2.75it/s]"
          }
        },
        "b12253e65a07497da141b764237be351": {
          "model_module": "@jupyter-widgets/controls",
          "model_module_version": "1.5.0",
          "model_name": "DescriptionStyleModel",
          "state": {
            "_model_module": "@jupyter-widgets/controls",
            "_model_module_version": "1.5.0",
            "_model_name": "DescriptionStyleModel",
            "_view_count": null,
            "_view_module": "@jupyter-widgets/base",
            "_view_module_version": "1.2.0",
            "_view_name": "StyleView",
            "description_width": ""
          }
        },
        "b7da6a46a35242f4b0ff89b82841de38": {
          "model_module": "@jupyter-widgets/controls",
          "model_module_version": "1.5.0",
          "model_name": "HBoxModel",
          "state": {
            "_dom_classes": [],
            "_model_module": "@jupyter-widgets/controls",
            "_model_module_version": "1.5.0",
            "_model_name": "HBoxModel",
            "_view_count": null,
            "_view_module": "@jupyter-widgets/controls",
            "_view_module_version": "1.5.0",
            "_view_name": "HBoxView",
            "box_style": "",
            "children": [
              "IPY_MODEL_d56bbb1c25c845e9b39e21fc2bddb7e9",
              "IPY_MODEL_f749236056a54699b94c2a7c85794ebc",
              "IPY_MODEL_a784329e16444c68bfc6c9d81b566c5e"
            ],
            "layout": "IPY_MODEL_aa85e9aa481946d49d1f92613ecbca3a"
          }
        },
        "b90438f8cab442219233afbf5466bcb6": {
          "model_module": "@jupyter-widgets/controls",
          "model_module_version": "1.5.0",
          "model_name": "HTMLModel",
          "state": {
            "_dom_classes": [],
            "_model_module": "@jupyter-widgets/controls",
            "_model_module_version": "1.5.0",
            "_model_name": "HTMLModel",
            "_view_count": null,
            "_view_module": "@jupyter-widgets/controls",
            "_view_module_version": "1.5.0",
            "_view_name": "HTMLView",
            "description": "",
            "description_tooltip": null,
            "layout": "IPY_MODEL_8c085d38f3b142a189a5f0703507abc8",
            "placeholder": "​",
            "style": "IPY_MODEL_90918785f0874415870c14e5500ebecb",
            "value": "100%"
          }
        },
        "bc64c03db1c845759eb77d219ef4371c": {
          "model_module": "@jupyter-widgets/controls",
          "model_module_version": "1.5.0",
          "model_name": "HTMLModel",
          "state": {
            "_dom_classes": [],
            "_model_module": "@jupyter-widgets/controls",
            "_model_module_version": "1.5.0",
            "_model_name": "HTMLModel",
            "_view_count": null,
            "_view_module": "@jupyter-widgets/controls",
            "_view_module_version": "1.5.0",
            "_view_name": "HTMLView",
            "description": "",
            "description_tooltip": null,
            "layout": "IPY_MODEL_65e32bc282444e2f88da0b06968f0a24",
            "placeholder": "​",
            "style": "IPY_MODEL_b12253e65a07497da141b764237be351",
            "value": "100%"
          }
        },
        "bd20116a9d984f0a8e327d6ac60a5a72": {
          "model_module": "@jupyter-widgets/controls",
          "model_module_version": "1.5.0",
          "model_name": "DescriptionStyleModel",
          "state": {
            "_model_module": "@jupyter-widgets/controls",
            "_model_module_version": "1.5.0",
            "_model_name": "DescriptionStyleModel",
            "_view_count": null,
            "_view_module": "@jupyter-widgets/base",
            "_view_module_version": "1.2.0",
            "_view_name": "StyleView",
            "description_width": ""
          }
        },
        "cc9ea1939af446e7ba0aa37b3f202a02": {
          "model_module": "@jupyter-widgets/base",
          "model_module_version": "1.2.0",
          "model_name": "LayoutModel",
          "state": {
            "_model_module": "@jupyter-widgets/base",
            "_model_module_version": "1.2.0",
            "_model_name": "LayoutModel",
            "_view_count": null,
            "_view_module": "@jupyter-widgets/base",
            "_view_module_version": "1.2.0",
            "_view_name": "LayoutView",
            "align_content": null,
            "align_items": null,
            "align_self": null,
            "border": null,
            "bottom": null,
            "display": null,
            "flex": null,
            "flex_flow": null,
            "grid_area": null,
            "grid_auto_columns": null,
            "grid_auto_flow": null,
            "grid_auto_rows": null,
            "grid_column": null,
            "grid_gap": null,
            "grid_row": null,
            "grid_template_areas": null,
            "grid_template_columns": null,
            "grid_template_rows": null,
            "height": null,
            "justify_content": null,
            "justify_items": null,
            "left": null,
            "margin": null,
            "max_height": null,
            "max_width": null,
            "min_height": null,
            "min_width": null,
            "object_fit": null,
            "object_position": null,
            "order": null,
            "overflow": null,
            "overflow_x": null,
            "overflow_y": null,
            "padding": null,
            "right": null,
            "top": null,
            "visibility": null,
            "width": null
          }
        },
        "d528001499c244459c760db78c9b1ac8": {
          "model_module": "@jupyter-widgets/base",
          "model_module_version": "1.2.0",
          "model_name": "LayoutModel",
          "state": {
            "_model_module": "@jupyter-widgets/base",
            "_model_module_version": "1.2.0",
            "_model_name": "LayoutModel",
            "_view_count": null,
            "_view_module": "@jupyter-widgets/base",
            "_view_module_version": "1.2.0",
            "_view_name": "LayoutView",
            "align_content": null,
            "align_items": null,
            "align_self": null,
            "border": null,
            "bottom": null,
            "display": null,
            "flex": null,
            "flex_flow": null,
            "grid_area": null,
            "grid_auto_columns": null,
            "grid_auto_flow": null,
            "grid_auto_rows": null,
            "grid_column": null,
            "grid_gap": null,
            "grid_row": null,
            "grid_template_areas": null,
            "grid_template_columns": null,
            "grid_template_rows": null,
            "height": null,
            "justify_content": null,
            "justify_items": null,
            "left": null,
            "margin": null,
            "max_height": null,
            "max_width": null,
            "min_height": null,
            "min_width": null,
            "object_fit": null,
            "object_position": null,
            "order": null,
            "overflow": null,
            "overflow_x": null,
            "overflow_y": null,
            "padding": null,
            "right": null,
            "top": null,
            "visibility": null,
            "width": null
          }
        },
        "d56bbb1c25c845e9b39e21fc2bddb7e9": {
          "model_module": "@jupyter-widgets/controls",
          "model_module_version": "1.5.0",
          "model_name": "HTMLModel",
          "state": {
            "_dom_classes": [],
            "_model_module": "@jupyter-widgets/controls",
            "_model_module_version": "1.5.0",
            "_model_name": "HTMLModel",
            "_view_count": null,
            "_view_module": "@jupyter-widgets/controls",
            "_view_module_version": "1.5.0",
            "_view_name": "HTMLView",
            "description": "",
            "description_tooltip": null,
            "layout": "IPY_MODEL_d528001499c244459c760db78c9b1ac8",
            "placeholder": "​",
            "style": "IPY_MODEL_67b40b7143904dd29a6ed4ebb08a8cf0",
            "value": "  0%"
          }
        },
        "f749236056a54699b94c2a7c85794ebc": {
          "model_module": "@jupyter-widgets/controls",
          "model_module_version": "1.5.0",
          "model_name": "FloatProgressModel",
          "state": {
            "_dom_classes": [],
            "_model_module": "@jupyter-widgets/controls",
            "_model_module_version": "1.5.0",
            "_model_name": "FloatProgressModel",
            "_view_count": null,
            "_view_module": "@jupyter-widgets/controls",
            "_view_module_version": "1.5.0",
            "_view_name": "ProgressView",
            "bar_style": "",
            "description": "",
            "description_tooltip": null,
            "layout": "IPY_MODEL_2d58077d72c043ebba5d710484a45e05",
            "max": 1200,
            "min": 0,
            "orientation": "horizontal",
            "style": "IPY_MODEL_220e229d080742f0a6bf69b5d18c4a9b",
            "value": 6
          }
        },
        "f877fe33c48d489da3f56553e57a7601": {
          "model_module": "@jupyter-widgets/controls",
          "model_module_version": "1.5.0",
          "model_name": "DescriptionStyleModel",
          "state": {
            "_model_module": "@jupyter-widgets/controls",
            "_model_module_version": "1.5.0",
            "_model_name": "DescriptionStyleModel",
            "_view_count": null,
            "_view_module": "@jupyter-widgets/base",
            "_view_module_version": "1.2.0",
            "_view_name": "StyleView",
            "description_width": ""
          }
        }
      }
    }
  },
  "nbformat": 4,
  "nbformat_minor": 0
}
